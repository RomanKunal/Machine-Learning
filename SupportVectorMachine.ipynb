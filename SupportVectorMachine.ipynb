{
  "nbformat": 4,
  "nbformat_minor": 0,
  "metadata": {
    "colab": {
      "provenance": [],
      "authorship_tag": "ABX9TyOMp9UJOy0kCq4Vk6sPW04x",
      "include_colab_link": true
    },
    "kernelspec": {
      "name": "python3",
      "display_name": "Python 3"
    },
    "language_info": {
      "name": "python"
    }
  },
  "cells": [
    {
      "cell_type": "markdown",
      "metadata": {
        "id": "view-in-github",
        "colab_type": "text"
      },
      "source": [
        "<a href=\"https://colab.research.google.com/github/RomanKunal/Machine-Learning/blob/main/SupportVectorMachine.ipynb\" target=\"_parent\"><img src=\"https://colab.research.google.com/assets/colab-badge.svg\" alt=\"Open In Colab\"/></a>"
      ]
    },
    {
      "cell_type": "code",
      "execution_count": 1,
      "metadata": {
        "id": "2Z2UAL9H6Bhh"
      },
      "outputs": [],
      "source": [
        "import numpy as np\n",
        "import pandas as pd\n"
      ]
    },
    {
      "cell_type": "code",
      "source": [
        "class SVM_classifier():\n",
        "    def __init__(self, learning_rate, no_of_iterations, lambda_parameter):\n",
        "        self.learning_rate = learning_rate\n",
        "        self.no_of_iterations = no_of_iterations\n",
        "        self.lambda_parameter = lambda_parameter\n",
        "\n",
        "    def fit(self,X,y):\n",
        "        self.m, self.n = X.shape\n",
        "\n",
        "        #initiating the weight and bias value\n",
        "        self.w = np.zeros(self.n)\n",
        "        self.b = 0\n",
        "        self.X = X\n",
        "        self.y = y\n",
        "\n",
        "        # implementing the gradient descent\n",
        "\n",
        "        for _ in range(self.no_of_iterations):\n",
        "            self.update_weights()\n",
        "\n",
        "    def update_weights(self):\n",
        "        y_label = np.where(self.y <= 0, -1, 1)\n",
        "\n",
        "        for index, x_i in enumerate(self.X):\n",
        "            condition = y_label[index] * (np.dot(x_i, self.w) - self.b) >= 1\n",
        "            if condition == True:\n",
        "                dw = 2 * self.lambda_parameter * self.w\n",
        "                db = 0\n",
        "            else:\n",
        "                dw = 2 * self.lambda_parameter-np.dot(x_i, y_label[index])\n",
        "                db = y_label[index]\n",
        "\n",
        "            self.w = self.w - self.learning_rate * dw\n",
        "            self.b = self.b - self.learning_rate * db\n",
        "    def predict(self, X):\n",
        "        output = np.dot(X, self.w) - self.b\n",
        "        predicted_labels = np.sign(output)\n",
        "        y_hat = np.where(predicted_labels <= -1, 0, 1)\n",
        "        return y_hat"
      ],
      "metadata": {
        "id": "9QSNGXP8LGef"
      },
      "execution_count": 2,
      "outputs": []
    },
    {
      "cell_type": "code",
      "source": [
        "import pandas as pd\n",
        "from sklearn.preprocessing import StandardScaler\n",
        "from sklearn.model_selection import train_test_split\n",
        "from sklearn.metrics import accuracy_score"
      ],
      "metadata": {
        "id": "yd-sMrRgWaQ0"
      },
      "execution_count": 3,
      "outputs": []
    },
    {
      "cell_type": "code",
      "source": [],
      "metadata": {
        "id": "ScUCZO1BWdo9"
      },
      "execution_count": null,
      "outputs": []
    }
  ]
}