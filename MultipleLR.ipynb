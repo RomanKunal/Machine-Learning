{
  "nbformat": 4,
  "nbformat_minor": 0,
  "metadata": {
    "colab": {
      "provenance": [],
      "authorship_tag": "ABX9TyM2KoitbDMlO4snYUOLzbnc",
      "include_colab_link": true
    },
    "kernelspec": {
      "name": "python3",
      "display_name": "Python 3"
    },
    "language_info": {
      "name": "python"
    }
  },
  "cells": [
    {
      "cell_type": "markdown",
      "metadata": {
        "id": "view-in-github",
        "colab_type": "text"
      },
      "source": [
        "<a href=\"https://colab.research.google.com/github/RomanKunal/Machine-Learning/blob/main/MultipleLR.ipynb\" target=\"_parent\"><img src=\"https://colab.research.google.com/assets/colab-badge.svg\" alt=\"Open In Colab\"/></a>"
      ]
    },
    {
      "cell_type": "markdown",
      "source": [
        "\n",
        "\n",
        "# Multiple Regression\n",
        "\n",
        "\n"
      ],
      "metadata": {
        "id": "GvrXG8c_hGYC"
      }
    },
    {
      "cell_type": "code",
      "source": [
        "\n",
        "from sklearn.datasets import make_regression\n",
        "import pandas as pd\n",
        "import numpy as np\n",
        "\n",
        "import plotly.express as px\n",
        "import plotly.graph_objects as go\n",
        "\n",
        "from sklearn.metrics import mean_absolute_error,mean_squared_error,r2_score"
      ],
      "metadata": {
        "id": "CqRjN1pkhNuH"
      },
      "execution_count": 1,
      "outputs": []
    },
    {
      "cell_type": "code",
      "source": [
        "X,y=make_regression(n_samples=100,n_features=2,noise=20,random_state=42)\n"
      ],
      "metadata": {
        "id": "qf4CYp2Nid_C"
      },
      "execution_count": 2,
      "outputs": []
    },
    {
      "cell_type": "code",
      "source": [
        "data=pd.DataFrame(X,columns=['feature_1','feature_2'])\n",
        "data['target']=y"
      ],
      "metadata": {
        "id": "KAWaruR5iqu4"
      },
      "execution_count": 3,
      "outputs": []
    },
    {
      "cell_type": "code",
      "source": [
        "data.head()"
      ],
      "metadata": {
        "colab": {
          "base_uri": "https://localhost:8080/",
          "height": 206
        },
        "id": "mHg9HD6Ti2Up",
        "outputId": "9b32a442-8440-4533-e1e1-3ae4c1d82c2f"
      },
      "execution_count": 4,
      "outputs": [
        {
          "output_type": "execute_result",
          "data": {
            "text/plain": [
              "   feature_1  feature_2      target\n",
              "0  -1.191303   0.656554  -42.643716\n",
              "1   0.058209  -1.142970  -90.764197\n",
              "2   0.586857   2.190456  208.699977\n",
              "3   0.473238  -0.072829   22.267466\n",
              "4   0.738467   0.171368   91.210697"
            ],
            "text/html": [
              "\n",
              "  <div id=\"df-42685f0c-183f-45d0-a6a6-d56caa2e8140\" class=\"colab-df-container\">\n",
              "    <div>\n",
              "<style scoped>\n",
              "    .dataframe tbody tr th:only-of-type {\n",
              "        vertical-align: middle;\n",
              "    }\n",
              "\n",
              "    .dataframe tbody tr th {\n",
              "        vertical-align: top;\n",
              "    }\n",
              "\n",
              "    .dataframe thead th {\n",
              "        text-align: right;\n",
              "    }\n",
              "</style>\n",
              "<table border=\"1\" class=\"dataframe\">\n",
              "  <thead>\n",
              "    <tr style=\"text-align: right;\">\n",
              "      <th></th>\n",
              "      <th>feature_1</th>\n",
              "      <th>feature_2</th>\n",
              "      <th>target</th>\n",
              "    </tr>\n",
              "  </thead>\n",
              "  <tbody>\n",
              "    <tr>\n",
              "      <th>0</th>\n",
              "      <td>-1.191303</td>\n",
              "      <td>0.656554</td>\n",
              "      <td>-42.643716</td>\n",
              "    </tr>\n",
              "    <tr>\n",
              "      <th>1</th>\n",
              "      <td>0.058209</td>\n",
              "      <td>-1.142970</td>\n",
              "      <td>-90.764197</td>\n",
              "    </tr>\n",
              "    <tr>\n",
              "      <th>2</th>\n",
              "      <td>0.586857</td>\n",
              "      <td>2.190456</td>\n",
              "      <td>208.699977</td>\n",
              "    </tr>\n",
              "    <tr>\n",
              "      <th>3</th>\n",
              "      <td>0.473238</td>\n",
              "      <td>-0.072829</td>\n",
              "      <td>22.267466</td>\n",
              "    </tr>\n",
              "    <tr>\n",
              "      <th>4</th>\n",
              "      <td>0.738467</td>\n",
              "      <td>0.171368</td>\n",
              "      <td>91.210697</td>\n",
              "    </tr>\n",
              "  </tbody>\n",
              "</table>\n",
              "</div>\n",
              "    <div class=\"colab-df-buttons\">\n",
              "\n",
              "  <div class=\"colab-df-container\">\n",
              "    <button class=\"colab-df-convert\" onclick=\"convertToInteractive('df-42685f0c-183f-45d0-a6a6-d56caa2e8140')\"\n",
              "            title=\"Convert this dataframe to an interactive table.\"\n",
              "            style=\"display:none;\">\n",
              "\n",
              "  <svg xmlns=\"http://www.w3.org/2000/svg\" height=\"24px\" viewBox=\"0 -960 960 960\">\n",
              "    <path d=\"M120-120v-720h720v720H120Zm60-500h600v-160H180v160Zm220 220h160v-160H400v160Zm0 220h160v-160H400v160ZM180-400h160v-160H180v160Zm440 0h160v-160H620v160ZM180-180h160v-160H180v160Zm440 0h160v-160H620v160Z\"/>\n",
              "  </svg>\n",
              "    </button>\n",
              "\n",
              "  <style>\n",
              "    .colab-df-container {\n",
              "      display:flex;\n",
              "      gap: 12px;\n",
              "    }\n",
              "\n",
              "    .colab-df-convert {\n",
              "      background-color: #E8F0FE;\n",
              "      border: none;\n",
              "      border-radius: 50%;\n",
              "      cursor: pointer;\n",
              "      display: none;\n",
              "      fill: #1967D2;\n",
              "      height: 32px;\n",
              "      padding: 0 0 0 0;\n",
              "      width: 32px;\n",
              "    }\n",
              "\n",
              "    .colab-df-convert:hover {\n",
              "      background-color: #E2EBFA;\n",
              "      box-shadow: 0px 1px 2px rgba(60, 64, 67, 0.3), 0px 1px 3px 1px rgba(60, 64, 67, 0.15);\n",
              "      fill: #174EA6;\n",
              "    }\n",
              "\n",
              "    .colab-df-buttons div {\n",
              "      margin-bottom: 4px;\n",
              "    }\n",
              "\n",
              "    [theme=dark] .colab-df-convert {\n",
              "      background-color: #3B4455;\n",
              "      fill: #D2E3FC;\n",
              "    }\n",
              "\n",
              "    [theme=dark] .colab-df-convert:hover {\n",
              "      background-color: #434B5C;\n",
              "      box-shadow: 0px 1px 3px 1px rgba(0, 0, 0, 0.15);\n",
              "      filter: drop-shadow(0px 1px 2px rgba(0, 0, 0, 0.3));\n",
              "      fill: #FFFFFF;\n",
              "    }\n",
              "  </style>\n",
              "\n",
              "    <script>\n",
              "      const buttonEl =\n",
              "        document.querySelector('#df-42685f0c-183f-45d0-a6a6-d56caa2e8140 button.colab-df-convert');\n",
              "      buttonEl.style.display =\n",
              "        google.colab.kernel.accessAllowed ? 'block' : 'none';\n",
              "\n",
              "      async function convertToInteractive(key) {\n",
              "        const element = document.querySelector('#df-42685f0c-183f-45d0-a6a6-d56caa2e8140');\n",
              "        const dataTable =\n",
              "          await google.colab.kernel.invokeFunction('convertToInteractive',\n",
              "                                                    [key], {});\n",
              "        if (!dataTable) return;\n",
              "\n",
              "        const docLinkHtml = 'Like what you see? Visit the ' +\n",
              "          '<a target=\"_blank\" href=https://colab.research.google.com/notebooks/data_table.ipynb>data table notebook</a>'\n",
              "          + ' to learn more about interactive tables.';\n",
              "        element.innerHTML = '';\n",
              "        dataTable['output_type'] = 'display_data';\n",
              "        await google.colab.output.renderOutput(dataTable, element);\n",
              "        const docLink = document.createElement('div');\n",
              "        docLink.innerHTML = docLinkHtml;\n",
              "        element.appendChild(docLink);\n",
              "      }\n",
              "    </script>\n",
              "  </div>\n",
              "\n",
              "\n",
              "<div id=\"df-b992d1fb-9621-40b5-bc97-fa36c5d3afd5\">\n",
              "  <button class=\"colab-df-quickchart\" onclick=\"quickchart('df-b992d1fb-9621-40b5-bc97-fa36c5d3afd5')\"\n",
              "            title=\"Suggest charts\"\n",
              "            style=\"display:none;\">\n",
              "\n",
              "<svg xmlns=\"http://www.w3.org/2000/svg\" height=\"24px\"viewBox=\"0 0 24 24\"\n",
              "     width=\"24px\">\n",
              "    <g>\n",
              "        <path d=\"M19 3H5c-1.1 0-2 .9-2 2v14c0 1.1.9 2 2 2h14c1.1 0 2-.9 2-2V5c0-1.1-.9-2-2-2zM9 17H7v-7h2v7zm4 0h-2V7h2v10zm4 0h-2v-4h2v4z\"/>\n",
              "    </g>\n",
              "</svg>\n",
              "  </button>\n",
              "\n",
              "<style>\n",
              "  .colab-df-quickchart {\n",
              "      --bg-color: #E8F0FE;\n",
              "      --fill-color: #1967D2;\n",
              "      --hover-bg-color: #E2EBFA;\n",
              "      --hover-fill-color: #174EA6;\n",
              "      --disabled-fill-color: #AAA;\n",
              "      --disabled-bg-color: #DDD;\n",
              "  }\n",
              "\n",
              "  [theme=dark] .colab-df-quickchart {\n",
              "      --bg-color: #3B4455;\n",
              "      --fill-color: #D2E3FC;\n",
              "      --hover-bg-color: #434B5C;\n",
              "      --hover-fill-color: #FFFFFF;\n",
              "      --disabled-bg-color: #3B4455;\n",
              "      --disabled-fill-color: #666;\n",
              "  }\n",
              "\n",
              "  .colab-df-quickchart {\n",
              "    background-color: var(--bg-color);\n",
              "    border: none;\n",
              "    border-radius: 50%;\n",
              "    cursor: pointer;\n",
              "    display: none;\n",
              "    fill: var(--fill-color);\n",
              "    height: 32px;\n",
              "    padding: 0;\n",
              "    width: 32px;\n",
              "  }\n",
              "\n",
              "  .colab-df-quickchart:hover {\n",
              "    background-color: var(--hover-bg-color);\n",
              "    box-shadow: 0 1px 2px rgba(60, 64, 67, 0.3), 0 1px 3px 1px rgba(60, 64, 67, 0.15);\n",
              "    fill: var(--button-hover-fill-color);\n",
              "  }\n",
              "\n",
              "  .colab-df-quickchart-complete:disabled,\n",
              "  .colab-df-quickchart-complete:disabled:hover {\n",
              "    background-color: var(--disabled-bg-color);\n",
              "    fill: var(--disabled-fill-color);\n",
              "    box-shadow: none;\n",
              "  }\n",
              "\n",
              "  .colab-df-spinner {\n",
              "    border: 2px solid var(--fill-color);\n",
              "    border-color: transparent;\n",
              "    border-bottom-color: var(--fill-color);\n",
              "    animation:\n",
              "      spin 1s steps(1) infinite;\n",
              "  }\n",
              "\n",
              "  @keyframes spin {\n",
              "    0% {\n",
              "      border-color: transparent;\n",
              "      border-bottom-color: var(--fill-color);\n",
              "      border-left-color: var(--fill-color);\n",
              "    }\n",
              "    20% {\n",
              "      border-color: transparent;\n",
              "      border-left-color: var(--fill-color);\n",
              "      border-top-color: var(--fill-color);\n",
              "    }\n",
              "    30% {\n",
              "      border-color: transparent;\n",
              "      border-left-color: var(--fill-color);\n",
              "      border-top-color: var(--fill-color);\n",
              "      border-right-color: var(--fill-color);\n",
              "    }\n",
              "    40% {\n",
              "      border-color: transparent;\n",
              "      border-right-color: var(--fill-color);\n",
              "      border-top-color: var(--fill-color);\n",
              "    }\n",
              "    60% {\n",
              "      border-color: transparent;\n",
              "      border-right-color: var(--fill-color);\n",
              "    }\n",
              "    80% {\n",
              "      border-color: transparent;\n",
              "      border-right-color: var(--fill-color);\n",
              "      border-bottom-color: var(--fill-color);\n",
              "    }\n",
              "    90% {\n",
              "      border-color: transparent;\n",
              "      border-bottom-color: var(--fill-color);\n",
              "    }\n",
              "  }\n",
              "</style>\n",
              "\n",
              "  <script>\n",
              "    async function quickchart(key) {\n",
              "      const quickchartButtonEl =\n",
              "        document.querySelector('#' + key + ' button');\n",
              "      quickchartButtonEl.disabled = true;  // To prevent multiple clicks.\n",
              "      quickchartButtonEl.classList.add('colab-df-spinner');\n",
              "      try {\n",
              "        const charts = await google.colab.kernel.invokeFunction(\n",
              "            'suggestCharts', [key], {});\n",
              "      } catch (error) {\n",
              "        console.error('Error during call to suggestCharts:', error);\n",
              "      }\n",
              "      quickchartButtonEl.classList.remove('colab-df-spinner');\n",
              "      quickchartButtonEl.classList.add('colab-df-quickchart-complete');\n",
              "    }\n",
              "    (() => {\n",
              "      let quickchartButtonEl =\n",
              "        document.querySelector('#df-b992d1fb-9621-40b5-bc97-fa36c5d3afd5 button');\n",
              "      quickchartButtonEl.style.display =\n",
              "        google.colab.kernel.accessAllowed ? 'block' : 'none';\n",
              "    })();\n",
              "  </script>\n",
              "</div>\n",
              "\n",
              "    </div>\n",
              "  </div>\n"
            ],
            "application/vnd.google.colaboratory.intrinsic+json": {
              "type": "dataframe",
              "variable_name": "data",
              "summary": "{\n  \"name\": \"data\",\n  \"rows\": 100,\n  \"fields\": [\n    {\n      \"column\": \"feature_1\",\n      \"properties\": {\n        \"dtype\": \"number\",\n        \"std\": 0.8563132108586035,\n        \"min\": -2.6197451040897444,\n        \"max\": 1.8861859012105302,\n        \"num_unique_values\": 100,\n        \"samples\": [\n          -1.0708924980611123,\n          -0.4694743859349521,\n          -0.6017066122293969\n        ],\n        \"semantic_type\": \"\",\n        \"description\": \"\"\n      }\n    },\n    {\n      \"column\": \"feature_2\",\n      \"properties\": {\n        \"dtype\": \"number\",\n        \"std\": 0.9988585571788423,\n        \"min\": -1.9875689146008928,\n        \"max\": 2.720169166589619,\n        \"num_unique_values\": 100,\n        \"samples\": [\n          0.4824724152431853,\n          0.5425600435859647,\n          1.8522781845089378\n        ],\n        \"semantic_type\": \"\",\n        \"description\": \"\"\n      }\n    },\n    {\n      \"column\": \"target\",\n      \"properties\": {\n        \"dtype\": \"number\",\n        \"std\": 107.25626157538166,\n        \"min\": -198.71009117148287,\n        \"max\": 214.6337145987182,\n        \"num_unique_values\": 100,\n        \"samples\": [\n          -41.22513971800483,\n          9.301432279832845,\n          79.68246503158821\n        ],\n        \"semantic_type\": \"\",\n        \"description\": \"\"\n      }\n    }\n  ]\n}"
            }
          },
          "metadata": {},
          "execution_count": 4
        }
      ]
    },
    {
      "cell_type": "code",
      "source": [
        "graph=px.scatter_3d(data,x='feature_1',y='feature_2',z='target')\n",
        "graph.show"
      ],
      "metadata": {
        "colab": {
          "base_uri": "https://localhost:8080/",
          "height": 187
        },
        "id": "MNXQrQoXi446",
        "outputId": "9cb9593e-6ff0-4661-85b5-cbc56cec52ba"
      },
      "execution_count": 8,
      "outputs": [
        {
          "output_type": "execute_result",
          "data": {
            "text/plain": [
              "<bound method BaseFigure.show of Figure({\n",
              "    'data': [{'hovertemplate': 'feature_1=%{x}<br>feature_2=%{y}<br>target=%{z}<extra></extra>',\n",
              "              'legendgroup': '',\n",
              "              'marker': {'color': '#636efa', 'symbol': 'circle'},\n",
              "              'mode': 'markers',\n",
              "              'name': '',\n",
              "              'scene': 'scene',\n",
              "              'showlegend': False,\n",
              "              'type': 'scatter3d',\n",
              "              'x': array([-1.1913035 ,  0.05820872,  0.58685709,  0.47323762,  0.73846658,\n",
              "                          -0.88951443, -1.91877122, -0.44651495,  0.81252582,  1.14282281,\n",
              "                          -1.10633497,  0.62566735, -0.60063869, -0.39210815, -0.23415337,\n",
              "                          -0.84679372,  0.91540212,  0.32408397,  0.09707755, -0.07201012,\n",
              "                          -0.46341769, -1.06230371,  1.57921282,  0.01300189, -0.91942423,\n",
              "                          -0.21967189,  0.00511346, -1.32818605, -0.11564828,  0.49671415,\n",
              "                           0.09176078,  0.17318093, -1.72491783, -0.68002472, -1.41537074,\n",
              "                           1.8861859 ,  0.64768854, -0.676922  ,  0.29307247,  0.96337613,\n",
              "                           0.24196227, -2.6197451 , -0.24538812, -0.90802408,  0.52194157,\n",
              "                           0.81351722, -0.70205309,  0.82254491,  1.46564877, -0.8084936 ,\n",
              "                          -0.83921752,  0.09965137,  0.36163603, -0.46947439, -0.47917424,\n",
              "                          -1.15099358,  0.82206016, -0.19236096,  1.47789404, -1.55066343,\n",
              "                          -0.5297602 ,  0.08704707,  0.06023021, -1.23695071, -0.07710171,\n",
              "                          -0.16128571, -1.60748323,  0.34361829,  1.86577451, -0.78325329,\n",
              "                          -0.60170661, -0.34271452,  1.03099952,  0.22745993, -1.01283112,\n",
              "                           0.25049285, -0.97468167,  0.79103195, -0.26465683,  0.21409374,\n",
              "                           0.2088636 , -0.03471177,  0.2766908 , -1.0708925 , -0.01349722,\n",
              "                           0.33126343, -0.22346279, -0.54438272,  0.25755039,  0.0675282 ,\n",
              "                          -0.03582604,  1.40279431, -1.47852199, -0.88385744,  1.15859558,\n",
              "                           0.36139561,  0.29612028, -0.99053633, -0.46063877,  0.25988279]),\n",
              "              'y': array([ 0.65655361, -1.1429703 ,  2.19045563, -0.07282891,  0.17136828,\n",
              "                          -0.81581028, -0.02651388,  0.85639879,  1.35624003,  0.75193303,\n",
              "                          -1.19620662, -0.85715756, -0.29169375, -1.46351495, -0.23413696,\n",
              "                          -1.51484722,  0.32875111, -0.38508228,  0.96864499,  1.0035329 ,\n",
              "                          -0.46572975,  0.47359243,  0.76743473,  1.45353408,  1.54993441,\n",
              "                           0.35711257, -0.23458713,  0.19686124, -0.3011037 , -0.1382643 ,\n",
              "                          -1.98756891,  0.38531738, -0.56228753,  0.2322537 , -0.42064532,\n",
              "                           0.17457781,  1.52302986,  0.61167629, -0.71435142,  0.41278093,\n",
              "                          -1.91328024,  0.8219025 , -0.75373616, -1.4123037 ,  0.29698467,\n",
              "                          -1.23086432, -0.32766215, -1.22084365, -0.2257763 , -0.50175704,\n",
              "                          -0.30921238, -0.50347565, -0.64511975,  0.54256004, -0.18565898,\n",
              "                           0.37569802,  1.89679298,  0.30154734, -0.51827022,  0.06856297,\n",
              "                           0.51326743, -0.29900735,  2.46324211, -1.32045661,  0.34115197,\n",
              "                           0.40405086,  0.18463386, -1.76304016,  0.47383292, -0.32206152,\n",
              "                           1.85227818, -0.80227727,  0.93128012,  1.30714275,  0.31424733,\n",
              "                           0.34644821,  0.7870846 , -0.90938745,  2.72016917, -1.24573878,\n",
              "                          -1.95967012, -1.16867804,  0.82718325,  0.48247242, -1.05771093,\n",
              "                           0.97554513,  0.71400049,  0.11092259, -0.07444592, -1.42474819,\n",
              "                           1.56464366, -1.40185106, -0.71984421,  0.15372511, -0.82068232,\n",
              "                           1.53803657,  0.26105527, -0.56629773,  1.05712223,  0.78182287]),\n",
              "              'z': array([ -42.64371649,  -90.76419736,  208.69997671,   22.26746564,\n",
              "                            91.21069747, -126.70992235, -184.46527355,   30.40930601,\n",
              "                           214.6337146 ,  154.77852855, -198.71009117,  -20.38846867,\n",
              "                           -89.76268312, -134.71547378,  -65.44150492, -168.51853154,\n",
              "                            97.9777426 ,  -21.64632764,   67.20491919,   80.69897405,\n",
              "                           -64.88310003,  -66.92231598,  176.64853547,  104.65154889,\n",
              "                            36.76128175,   17.28010427,    1.4284012 , -139.29390867,\n",
              "                           -64.70580314,   54.99920157, -141.47675315,   56.33010721,\n",
              "                          -115.93751152,  -41.06287117, -112.89777908,  168.73636689,\n",
              "                           190.72376143,  -28.38632777,  -34.90979357,  157.76221056,\n",
              "                          -110.19972435, -151.91675606,  -80.39980408, -161.57530052,\n",
              "                            71.77463398,  -48.51999885,  -50.5593467 ,  -16.63090789,\n",
              "                           130.94731174, -132.1095669 , -111.1435007 ,    4.09547207,\n",
              "                           -56.5623276 ,    9.30143228,  -54.88305486,  -57.9751625 ,\n",
              "                           173.59206039,   20.95312881,  108.58971636, -159.57493136,\n",
              "                           -17.95739926,  -30.36266557,  196.63007048, -197.09993703,\n",
              "                            24.12660867,  -14.60735388, -127.15449232,  -99.16673808,\n",
              "                           201.06843413,  -63.75237536,   79.68246503,  -68.84972598,\n",
              "                           173.03538546,  140.04903033,  -54.16680871,   35.63702674,\n",
              "                             4.5091486 ,  -62.78690265,  168.42129879,  -57.23916835,\n",
              "                           -80.54791216, -108.15612809,   73.09725446,  -41.22513972,\n",
              "                           -89.24338739,  105.65865477,   40.42520259,  -45.85126188,\n",
              "                            42.42028092,  -86.58830659,   99.52488233,   -1.25508485,\n",
              "                          -192.4839753 ,  -82.73969819,   16.10217559,  149.36988569,\n",
              "                            20.10127194, -153.81221212,   59.67210362,   61.08622834])}],\n",
              "    'layout': {'legend': {'tracegroupgap': 0},\n",
              "               'margin': {'t': 60},\n",
              "               'scene': {'domain': {'x': [0.0, 1.0], 'y': [0.0, 1.0]},\n",
              "                         'xaxis': {'title': {'text': 'feature_1'}},\n",
              "                         'yaxis': {'title': {'text': 'feature_2'}},\n",
              "                         'zaxis': {'title': {'text': 'target'}}},\n",
              "               'template': '...'}\n",
              "})>"
            ],
            "text/html": [
              "<div style=\"max-width:800px; border: 1px solid var(--colab-border-color);\"><style>\n",
              "      pre.function-repr-contents {\n",
              "        overflow-x: auto;\n",
              "        padding: 8px 12px;\n",
              "        max-height: 500px;\n",
              "      }\n",
              "\n",
              "      pre.function-repr-contents.function-repr-contents-collapsed {\n",
              "        cursor: pointer;\n",
              "        max-height: 100px;\n",
              "      }\n",
              "    </style>\n",
              "    <pre style=\"white-space: initial; background:\n",
              "         var(--colab-secondary-surface-color); padding: 8px 12px;\n",
              "         border-bottom: 1px solid var(--colab-border-color);\"><b>plotly.basedatatypes.BaseFigure.show</b><br/>def show(*args, **kwargs)</pre><pre class=\"function-repr-contents function-repr-contents-collapsed\" style=\"\"><a class=\"filepath\" style=\"display:none\" href=\"#\">/usr/local/lib/python3.10/dist-packages/plotly/basedatatypes.py</a>Show a figure using either the default renderer(s) or the renderer(s)\n",
              "specified by the renderer argument\n",
              "\n",
              "Parameters\n",
              "----------\n",
              "renderer: str or None (default None)\n",
              "    A string containing the names of one or more registered renderers\n",
              "    (separated by &#x27;+&#x27; characters) or None.  If None, then the default\n",
              "    renderers specified in plotly.io.renderers.default are used.\n",
              "\n",
              "validate: bool (default True)\n",
              "    True if the figure should be validated before being shown,\n",
              "    False otherwise.\n",
              "\n",
              "width: int or float\n",
              "    An integer or float that determines the number of pixels wide the\n",
              "    plot is. The default is set in plotly.js.\n",
              "\n",
              "height: int or float\n",
              "    An integer or float that determines the number of pixels wide the\n",
              "    plot is. The default is set in plotly.js.\n",
              "\n",
              "config: dict\n",
              "    A dict of parameters to configure the figure. The defaults are set\n",
              "    in plotly.js.\n",
              "\n",
              "Returns\n",
              "-------\n",
              "None</pre>\n",
              "      <script>\n",
              "      if (google.colab.kernel.accessAllowed && google.colab.files && google.colab.files.view) {\n",
              "        for (const element of document.querySelectorAll('.filepath')) {\n",
              "          element.style.display = 'block'\n",
              "          element.onclick = (event) => {\n",
              "            event.preventDefault();\n",
              "            event.stopPropagation();\n",
              "            google.colab.files.view(element.textContent, 3375);\n",
              "          };\n",
              "        }\n",
              "      }\n",
              "      for (const element of document.querySelectorAll('.function-repr-contents')) {\n",
              "        element.onclick = (event) => {\n",
              "          event.preventDefault();\n",
              "          event.stopPropagation();\n",
              "          element.classList.toggle('function-repr-contents-collapsed');\n",
              "        };\n",
              "      }\n",
              "      </script>\n",
              "      </div>"
            ]
          },
          "metadata": {},
          "execution_count": 8
        }
      ]
    },
    {
      "cell_type": "code",
      "source": [
        "from sklearn.model_selection import train_test_split\n",
        "X_train,X_test,y_train,y_test=train_test_split(X,y,test_size=0.2,random_state=42)\n"
      ],
      "metadata": {
        "id": "ZNhg5sJCjxvB"
      },
      "execution_count": 9,
      "outputs": []
    },
    {
      "cell_type": "code",
      "source": [
        "from sklearn.linear_model import LinearRegression\n",
        "model=LinearRegression()\n",
        "model.fit(X_train,y_train)"
      ],
      "metadata": {
        "colab": {
          "base_uri": "https://localhost:8080/",
          "height": 75
        },
        "id": "jQhRCqgcj4l2",
        "outputId": "2f7a18cb-a866-4c53-ff73-9ae365405163"
      },
      "execution_count": 10,
      "outputs": [
        {
          "output_type": "execute_result",
          "data": {
            "text/plain": [
              "LinearRegression()"
            ],
            "text/html": [
              "<style>#sk-container-id-1 {color: black;background-color: white;}#sk-container-id-1 pre{padding: 0;}#sk-container-id-1 div.sk-toggleable {background-color: white;}#sk-container-id-1 label.sk-toggleable__label {cursor: pointer;display: block;width: 100%;margin-bottom: 0;padding: 0.3em;box-sizing: border-box;text-align: center;}#sk-container-id-1 label.sk-toggleable__label-arrow:before {content: \"▸\";float: left;margin-right: 0.25em;color: #696969;}#sk-container-id-1 label.sk-toggleable__label-arrow:hover:before {color: black;}#sk-container-id-1 div.sk-estimator:hover label.sk-toggleable__label-arrow:before {color: black;}#sk-container-id-1 div.sk-toggleable__content {max-height: 0;max-width: 0;overflow: hidden;text-align: left;background-color: #f0f8ff;}#sk-container-id-1 div.sk-toggleable__content pre {margin: 0.2em;color: black;border-radius: 0.25em;background-color: #f0f8ff;}#sk-container-id-1 input.sk-toggleable__control:checked~div.sk-toggleable__content {max-height: 200px;max-width: 100%;overflow: auto;}#sk-container-id-1 input.sk-toggleable__control:checked~label.sk-toggleable__label-arrow:before {content: \"▾\";}#sk-container-id-1 div.sk-estimator input.sk-toggleable__control:checked~label.sk-toggleable__label {background-color: #d4ebff;}#sk-container-id-1 div.sk-label input.sk-toggleable__control:checked~label.sk-toggleable__label {background-color: #d4ebff;}#sk-container-id-1 input.sk-hidden--visually {border: 0;clip: rect(1px 1px 1px 1px);clip: rect(1px, 1px, 1px, 1px);height: 1px;margin: -1px;overflow: hidden;padding: 0;position: absolute;width: 1px;}#sk-container-id-1 div.sk-estimator {font-family: monospace;background-color: #f0f8ff;border: 1px dotted black;border-radius: 0.25em;box-sizing: border-box;margin-bottom: 0.5em;}#sk-container-id-1 div.sk-estimator:hover {background-color: #d4ebff;}#sk-container-id-1 div.sk-parallel-item::after {content: \"\";width: 100%;border-bottom: 1px solid gray;flex-grow: 1;}#sk-container-id-1 div.sk-label:hover label.sk-toggleable__label {background-color: #d4ebff;}#sk-container-id-1 div.sk-serial::before {content: \"\";position: absolute;border-left: 1px solid gray;box-sizing: border-box;top: 0;bottom: 0;left: 50%;z-index: 0;}#sk-container-id-1 div.sk-serial {display: flex;flex-direction: column;align-items: center;background-color: white;padding-right: 0.2em;padding-left: 0.2em;position: relative;}#sk-container-id-1 div.sk-item {position: relative;z-index: 1;}#sk-container-id-1 div.sk-parallel {display: flex;align-items: stretch;justify-content: center;background-color: white;position: relative;}#sk-container-id-1 div.sk-item::before, #sk-container-id-1 div.sk-parallel-item::before {content: \"\";position: absolute;border-left: 1px solid gray;box-sizing: border-box;top: 0;bottom: 0;left: 50%;z-index: -1;}#sk-container-id-1 div.sk-parallel-item {display: flex;flex-direction: column;z-index: 1;position: relative;background-color: white;}#sk-container-id-1 div.sk-parallel-item:first-child::after {align-self: flex-end;width: 50%;}#sk-container-id-1 div.sk-parallel-item:last-child::after {align-self: flex-start;width: 50%;}#sk-container-id-1 div.sk-parallel-item:only-child::after {width: 0;}#sk-container-id-1 div.sk-dashed-wrapped {border: 1px dashed gray;margin: 0 0.4em 0.5em 0.4em;box-sizing: border-box;padding-bottom: 0.4em;background-color: white;}#sk-container-id-1 div.sk-label label {font-family: monospace;font-weight: bold;display: inline-block;line-height: 1.2em;}#sk-container-id-1 div.sk-label-container {text-align: center;}#sk-container-id-1 div.sk-container {/* jupyter's `normalize.less` sets `[hidden] { display: none; }` but bootstrap.min.css set `[hidden] { display: none !important; }` so we also need the `!important` here to be able to override the default hidden behavior on the sphinx rendered scikit-learn.org. See: https://github.com/scikit-learn/scikit-learn/issues/21755 */display: inline-block !important;position: relative;}#sk-container-id-1 div.sk-text-repr-fallback {display: none;}</style><div id=\"sk-container-id-1\" class=\"sk-top-container\"><div class=\"sk-text-repr-fallback\"><pre>LinearRegression()</pre><b>In a Jupyter environment, please rerun this cell to show the HTML representation or trust the notebook. <br />On GitHub, the HTML representation is unable to render, please try loading this page with nbviewer.org.</b></div><div class=\"sk-container\" hidden><div class=\"sk-item\"><div class=\"sk-estimator sk-toggleable\"><input class=\"sk-toggleable__control sk-hidden--visually\" id=\"sk-estimator-id-1\" type=\"checkbox\" checked><label for=\"sk-estimator-id-1\" class=\"sk-toggleable__label sk-toggleable__label-arrow\">LinearRegression</label><div class=\"sk-toggleable__content\"><pre>LinearRegression()</pre></div></div></div></div></div>"
            ]
          },
          "metadata": {},
          "execution_count": 10
        }
      ]
    },
    {
      "cell_type": "code",
      "source": [
        "model.coef_"
      ],
      "metadata": {
        "colab": {
          "base_uri": "https://localhost:8080/"
        },
        "id": "leSY3q39j9Bw",
        "outputId": "7aa81dc0-fce9-49db-d7ba-bcbac18f6516"
      },
      "execution_count": 11,
      "outputs": [
        {
          "output_type": "execute_result",
          "data": {
            "text/plain": [
              "array([84.88306347, 73.26169635])"
            ]
          },
          "metadata": {},
          "execution_count": 11
        }
      ]
    },
    {
      "cell_type": "code",
      "source": [
        "from sklearn.metrics import mean_absolute_error,mean_squared_error,r2_score\n",
        "y_pred=model.predict(X_test)\n",
        "mean_absolute_error(y_test,y_pred)"
      ],
      "metadata": {
        "colab": {
          "base_uri": "https://localhost:8080/"
        },
        "id": "xXY1aZdXj_lH",
        "outputId": "7699f461-a43c-455e-aff8-7b2a90ed6d6f"
      },
      "execution_count": 12,
      "outputs": [
        {
          "output_type": "execute_result",
          "data": {
            "text/plain": [
              "19.335602141311302"
            ]
          },
          "metadata": {},
          "execution_count": 12
        }
      ]
    },
    {
      "cell_type": "code",
      "source": [
        "r2_score(y_test,y_pred)\n"
      ],
      "metadata": {
        "colab": {
          "base_uri": "https://localhost:8080/"
        },
        "id": "TVG5XC3akIQZ",
        "outputId": "a38b8259-e849-457c-f0d0-9a05dbd80594"
      },
      "execution_count": 13,
      "outputs": [
        {
          "output_type": "execute_result",
          "data": {
            "text/plain": [
              "0.9370884128261223"
            ]
          },
          "metadata": {},
          "execution_count": 13
        }
      ]
    },
    {
      "cell_type": "code",
      "source": [
        "x = np.linspace(-5, 5, 10)\n",
        "y = np.linspace(-5, 5, 10)\n",
        "xGrid, yGrid = np.meshgrid(y, x)\n",
        "\n",
        "z_final = model.predict(final).reshape(10,10)\n",
        "\n",
        "z = z_final\n",
        "\n",
        "final = np.vstack((xGrid.ravel().reshape(1,100),yGrid.ravel().reshape(1,100))).T"
      ],
      "metadata": {
        "colab": {
          "base_uri": "https://localhost:8080/",
          "height": 211
        },
        "id": "BQyD7DpLkN5O",
        "outputId": "aead32d4-2242-418c-e93a-0cc4dbe535e5"
      },
      "execution_count": 15,
      "outputs": [
        {
          "output_type": "error",
          "ename": "NameError",
          "evalue": "name 'final' is not defined",
          "traceback": [
            "\u001b[0;31m---------------------------------------------------------------------------\u001b[0m",
            "\u001b[0;31mNameError\u001b[0m                                 Traceback (most recent call last)",
            "\u001b[0;32m<ipython-input-15-b318609c3764>\u001b[0m in \u001b[0;36m<cell line: 5>\u001b[0;34m()\u001b[0m\n\u001b[1;32m      3\u001b[0m \u001b[0mxGrid\u001b[0m\u001b[0;34m,\u001b[0m \u001b[0myGrid\u001b[0m \u001b[0;34m=\u001b[0m \u001b[0mnp\u001b[0m\u001b[0;34m.\u001b[0m\u001b[0mmeshgrid\u001b[0m\u001b[0;34m(\u001b[0m\u001b[0my\u001b[0m\u001b[0;34m,\u001b[0m \u001b[0mx\u001b[0m\u001b[0;34m)\u001b[0m\u001b[0;34m\u001b[0m\u001b[0;34m\u001b[0m\u001b[0m\n\u001b[1;32m      4\u001b[0m \u001b[0;34m\u001b[0m\u001b[0m\n\u001b[0;32m----> 5\u001b[0;31m \u001b[0mz_final\u001b[0m \u001b[0;34m=\u001b[0m \u001b[0mmodel\u001b[0m\u001b[0;34m.\u001b[0m\u001b[0mpredict\u001b[0m\u001b[0;34m(\u001b[0m\u001b[0mfinal\u001b[0m\u001b[0;34m)\u001b[0m\u001b[0;34m.\u001b[0m\u001b[0mreshape\u001b[0m\u001b[0;34m(\u001b[0m\u001b[0;36m10\u001b[0m\u001b[0;34m,\u001b[0m\u001b[0;36m10\u001b[0m\u001b[0;34m)\u001b[0m\u001b[0;34m\u001b[0m\u001b[0;34m\u001b[0m\u001b[0m\n\u001b[0m\u001b[1;32m      6\u001b[0m \u001b[0;34m\u001b[0m\u001b[0m\n\u001b[1;32m      7\u001b[0m \u001b[0mz\u001b[0m \u001b[0;34m=\u001b[0m \u001b[0mz_final\u001b[0m\u001b[0;34m\u001b[0m\u001b[0;34m\u001b[0m\u001b[0m\n",
            "\u001b[0;31mNameError\u001b[0m: name 'final' is not defined"
          ]
        }
      ]
    }
  ]
}