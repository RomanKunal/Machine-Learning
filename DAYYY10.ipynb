{
  "nbformat": 4,
  "nbformat_minor": 0,
  "metadata": {
    "colab": {
      "provenance": [],
      "authorship_tag": "ABX9TyNkj0avH32GxXwyXoAKQoYy",
      "include_colab_link": true
    },
    "kernelspec": {
      "name": "python3",
      "display_name": "Python 3"
    },
    "language_info": {
      "name": "python"
    }
  },
  "cells": [
    {
      "cell_type": "markdown",
      "metadata": {
        "id": "view-in-github",
        "colab_type": "text"
      },
      "source": [
        "<a href=\"https://colab.research.google.com/github/RomanKunal/Machine-Learning/blob/main/DAYYY10.ipynb\" target=\"_parent\"><img src=\"https://colab.research.google.com/assets/colab-badge.svg\" alt=\"Open In Colab\"/></a>"
      ]
    },
    {
      "cell_type": "markdown",
      "source": [],
      "metadata": {
        "id": "ckCfRjp4ewQI"
      }
    },
    {
      "cell_type": "code",
      "execution_count": 10,
      "metadata": {
        "colab": {
          "base_uri": "https://localhost:8080/"
        },
        "id": "h9vMi_eoep0b",
        "outputId": "dc16f304-caf5-49df-d8ad-963a86dcbb90"
      },
      "outputs": [
        {
          "output_type": "execute_result",
          "data": {
            "text/plain": [
              "['4312012']"
            ]
          },
          "metadata": {},
          "execution_count": 10
        }
      ],
      "source": [
        "import re\n",
        "chat1='codebasic hola amigo you need to give an order #4312012.96756'\n",
        "pattern='order[^\\d]*(\\d*)'\n",
        "matches=re.findall(pattern,chat1)\n",
        "matches"
      ]
    },
    {
      "cell_type": "code",
      "source": [
        "import re\n",
        "s = \"Welcome to GeeksForGeeks\"\n",
        "res = re.search(r\"\\D{2} t\", s)\n",
        "print(res.group())"
      ],
      "metadata": {
        "colab": {
          "base_uri": "https://localhost:8080/"
        },
        "id": "jsP7wkqokMqd",
        "outputId": "84f07c57-a876-4e8f-b972-69edd6c0047d"
      },
      "execution_count": 13,
      "outputs": [
        {
          "output_type": "stream",
          "name": "stdout",
          "text": [
            "me t\n"
          ]
        }
      ]
    },
    {
      "cell_type": "code",
      "source": [
        "chat1='my email is singhkunal12@gmail.91A number is 7191288219 foursumtech12@gmail.com'\n",
        "chat2='email is threesumtech1234@gmail.com number is 382938929'\n",
        "pattern='[a-zA-Z0-9]*@[a-z]*\\.[a-zA-Z0-9]*'\n",
        "matches=re.findall(pattern,chat1)\n",
        "matches\n"
      ],
      "metadata": {
        "colab": {
          "base_uri": "https://localhost:8080/"
        },
        "id": "KTg2FU4XlGTq",
        "outputId": "5bd72cb6-cc47-4cb7-c5b2-5f69d8719948"
      },
      "execution_count": 17,
      "outputs": [
        {
          "output_type": "execute_result",
          "data": {
            "text/plain": [
              "['singhkunal12@gmail.91A', 'foursumtech12@gmail.com']"
            ]
          },
          "metadata": {},
          "execution_count": 17
        }
      ]
    },
    {
      "cell_type": "code",
      "source": [
        "chat1='email id is kunal212321@gmail.com'\n",
        "pattern = r'\\b\\w+@\\w+\\.[a-zA-Z]+\\b'\n",
        "matches=re.findall(pattern,chat1)\n",
        "matches"
      ],
      "metadata": {
        "colab": {
          "base_uri": "https://localhost:8080/"
        },
        "id": "QDbOGBkao3Th",
        "outputId": "b654bcc6-a519-4d84-be97-47cc8bcf8ae4"
      },
      "execution_count": 23,
      "outputs": [
        {
          "output_type": "execute_result",
          "data": {
            "text/plain": [
              "['kunal212321@gmail.com']"
            ]
          },
          "metadata": {},
          "execution_count": 23
        }
      ]
    },
    {
      "cell_type": "code",
      "source": [
        "chat1='my date of birth is 18-09-2005'\n",
        "pattern='\\d{1,2}-\\d{1,2}-\\d{4}'\n",
        "matches=re.findall(pattern,chat1)\n",
        "matches"
      ],
      "metadata": {
        "colab": {
          "base_uri": "https://localhost:8080/"
        },
        "id": "GmRKBVx5qFLR",
        "outputId": "dd08a162-6e8a-4958-909b-102151b08abb"
      },
      "execution_count": 24,
      "outputs": [
        {
          "output_type": "execute_result",
          "data": {
            "text/plain": [
              "['18-09-2005']"
            ]
          },
          "metadata": {},
          "execution_count": 24
        }
      ]
    },
    {
      "cell_type": "code",
      "source": [
        "\n",
        "\n",
        "# Input string with phone number\n",
        "chat1 = 'number is 7191288219'\n",
        "\n",
        "# Regular expression pattern to match either 10 digits or (xxx)-xxx-xxxx format\n",
        "pattern = r'\\d{10}|\\(\\d{3}\\)-\\d{3}-\\d{4}'\n",
        "\n",
        "# Find all matches in the string\n",
        "matches = re.findall(pattern, chat1)\n",
        "\n",
        "# Print the matches\n",
        "print(matches)"
      ],
      "metadata": {
        "colab": {
          "base_uri": "https://localhost:8080/"
        },
        "id": "UZHrUy7HrTY5",
        "outputId": "fea85c4f-1a13-47a9-b752-e1c01751a565"
      },
      "execution_count": 29,
      "outputs": [
        {
          "output_type": "stream",
          "name": "stdout",
          "text": [
            "['7191288219']\n"
          ]
        }
      ]
    },
    {
      "cell_type": "code",
      "source": [
        "text='''\n",
        "Born Elon Reeve Musk\n",
        "June 28, 1971 (age 50)\n",
        "Pretoria, Transvaal, South Africa\n",
        "Citizenship\n",
        "South Africa (1971–present)\n",
        "Canada (1971–present)\n",
        "United States (2002–present)\n",
        "Education University of Pennsylvania (BS, BA)\n",
        "Title\n",
        "Founder, CEO and Chief Engineer of SpaceX\n",
        "CEO and product architect of Tesla, Inc.\n",
        "Founder of The Boring Company and X.com (now part of PayPal)\n",
        "Co-founder of Neuralink, OpenAI, and Zip2\n",
        "Spouse(s)\n",
        "Justine Wilson\n",
        "\n",
        "(m. 2000; div. 2008)\n",
        "Talulah Riley\n",
        "\n",
        "(m. 2010; div. 2012)\n",
        "\n",
        "(m. 2013; div. 2016)\n",
        "'''\n"
      ],
      "metadata": {
        "id": "ma4wS6epvZ51"
      },
      "execution_count": 30,
      "outputs": []
    },
    {
      "cell_type": "code",
      "source": [
        "age=re.findall(r'age (\\d+)',text)\n",
        "age"
      ],
      "metadata": {
        "colab": {
          "base_uri": "https://localhost:8080/"
        },
        "id": "TPTuxZWTvb9k",
        "outputId": "34d30c96-4ba8-4dd9-eb37-e46cfcfc160a"
      },
      "execution_count": 31,
      "outputs": [
        {
          "output_type": "execute_result",
          "data": {
            "text/plain": [
              "['50']"
            ]
          },
          "metadata": {},
          "execution_count": 31
        }
      ]
    },
    {
      "cell_type": "code",
      "source": [
        "name=re.findall(r'Born(.*)\\n',text)\n",
        "name"
      ],
      "metadata": {
        "colab": {
          "base_uri": "https://localhost:8080/"
        },
        "id": "biLiJiSxvv5R",
        "outputId": "0b142683-022f-45d3-d853-1c0e35e3555f"
      },
      "execution_count": 34,
      "outputs": [
        {
          "output_type": "execute_result",
          "data": {
            "text/plain": [
              "[' Elon Reeve Musk']"
            ]
          },
          "metadata": {},
          "execution_count": 34
        }
      ]
    },
    {
      "cell_type": "code",
      "source": [
        "born=re.findall(r'Born.*\\n(.*)\\(age',text)\n",
        "born"
      ],
      "metadata": {
        "colab": {
          "base_uri": "https://localhost:8080/"
        },
        "id": "2kVxUJclxPaf",
        "outputId": "e4584d82-06cc-4862-f958-443ad16ababe"
      },
      "execution_count": 38,
      "outputs": [
        {
          "output_type": "execute_result",
          "data": {
            "text/plain": [
              "['June 28, 1971 ']"
            ]
          },
          "metadata": {},
          "execution_count": 38
        }
      ]
    },
    {
      "cell_type": "code",
      "source": [
        "def get_pattern_match(pattern,text):\n",
        "    matches=re.findall(pattern,text)\n",
        "    if matches:\n",
        "        return matches[0]"
      ],
      "metadata": {
        "id": "tDzKhg9pyYjk"
      },
      "execution_count": 39,
      "outputs": []
    },
    {
      "cell_type": "code",
      "source": [
        "def extract_personal_information(text):\n",
        "    age=get_pattern_match(r'age (\\d+)',text)\n",
        "    full_name=get_pattern_match(r'Born(.*)\\n',text)\n",
        "    birth_date=get_pattern_match(r'Born.*\\n(.*)\\(age',text)\n",
        "    birth_place=get_pattern_match(r'\\(age.*\\n(.*)',text)\n",
        "    return{\n",
        "        'age':int(age),\n",
        "        'name':full_name.strip(),\n",
        "        'birth_date':birth_date.strip(),\n",
        "        'birth_place':birth_place.strip()\n",
        "    }"
      ],
      "metadata": {
        "id": "w3-OafRSybTL"
      },
      "execution_count": 40,
      "outputs": []
    },
    {
      "cell_type": "code",
      "source": [
        "extract_personal_information(text)"
      ],
      "metadata": {
        "colab": {
          "base_uri": "https://localhost:8080/"
        },
        "id": "yhHHDvZWyfh0",
        "outputId": "d99b016d-4d45-4f7c-a93a-447ec7a0e571"
      },
      "execution_count": 41,
      "outputs": [
        {
          "output_type": "execute_result",
          "data": {
            "text/plain": [
              "{'age': 50,\n",
              " 'name': 'Elon Reeve Musk',\n",
              " 'birth_date': 'June 28, 1971',\n",
              " 'birth_place': 'Pretoria, Transvaal, South Africa'}"
            ]
          },
          "metadata": {},
          "execution_count": 41
        }
      ]
    }
  ]
}