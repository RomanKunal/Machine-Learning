{
  "nbformat": 4,
  "nbformat_minor": 0,
  "metadata": {
    "colab": {
      "provenance": [],
      "authorship_tag": "ABX9TyOho2ol2ciVDsgZFQFDKe+s",
      "include_colab_link": true
    },
    "kernelspec": {
      "name": "python3",
      "display_name": "Python 3"
    },
    "language_info": {
      "name": "python"
    }
  },
  "cells": [
    {
      "cell_type": "markdown",
      "metadata": {
        "id": "view-in-github",
        "colab_type": "text"
      },
      "source": [
        "<a href=\"https://colab.research.google.com/github/RomanKunal/Machine-Learning/blob/main/MR2.ipynb\" target=\"_parent\"><img src=\"https://colab.research.google.com/assets/colab-badge.svg\" alt=\"Open In Colab\"/></a>"
      ]
    },
    {
      "cell_type": "code",
      "execution_count": 1,
      "metadata": {
        "id": "xmZEXB5bkvIS"
      },
      "outputs": [],
      "source": [
        "import numpy as np\n",
        "from sklearn.datasets import load_diabetes\n",
        "from sklearn.model_selection import train_test_split\n",
        "from sklearn.linear_model import LinearRegression\n",
        "from sklearn.metrics import mean_squared_error, r2_score"
      ]
    },
    {
      "cell_type": "code",
      "source": [
        "X,y=load_diabetes(return_X_y=True)\n"
      ],
      "metadata": {
        "id": "JZXxMQSNrYyy"
      },
      "execution_count": 2,
      "outputs": []
    },
    {
      "cell_type": "code",
      "source": [
        "X.shape"
      ],
      "metadata": {
        "colab": {
          "base_uri": "https://localhost:8080/"
        },
        "id": "oMUZfwpcrnHo",
        "outputId": "27299f2e-0df8-4463-c1e6-eece7fc32b4d"
      },
      "execution_count": 3,
      "outputs": [
        {
          "output_type": "execute_result",
          "data": {
            "text/plain": [
              "(442, 10)"
            ]
          },
          "metadata": {},
          "execution_count": 3
        }
      ]
    },
    {
      "cell_type": "code",
      "source": [
        "y.shape"
      ],
      "metadata": {
        "colab": {
          "base_uri": "https://localhost:8080/"
        },
        "id": "Ll9uzZLVrpE8",
        "outputId": "81913e3d-9cda-40ce-d569-ca75bcfaf232"
      },
      "execution_count": 4,
      "outputs": [
        {
          "output_type": "execute_result",
          "data": {
            "text/plain": [
              "(442,)"
            ]
          },
          "metadata": {},
          "execution_count": 4
        }
      ]
    },
    {
      "cell_type": "code",
      "source": [
        "X_train,X_test,y_train,y_test=train_test_split(X,y,test_size=0.2,random_state=42)\n"
      ],
      "metadata": {
        "id": "XTOnAqSLrrPd"
      },
      "execution_count": 5,
      "outputs": []
    },
    {
      "cell_type": "code",
      "source": [
        "X_train.shape"
      ],
      "metadata": {
        "colab": {
          "base_uri": "https://localhost:8080/"
        },
        "id": "gDHogas7r0kr",
        "outputId": "fe030fde-8f0f-4609-af84-c798a55cef28"
      },
      "execution_count": 6,
      "outputs": [
        {
          "output_type": "execute_result",
          "data": {
            "text/plain": [
              "(353, 10)"
            ]
          },
          "metadata": {},
          "execution_count": 6
        }
      ]
    },
    {
      "cell_type": "code",
      "source": [
        "lr=LinearRegression()\n",
        "lr.fit(X_train,y_train)"
      ],
      "metadata": {
        "colab": {
          "base_uri": "https://localhost:8080/",
          "height": 75
        },
        "id": "4ij5A47Sr3mv",
        "outputId": "075f7b9e-c7f5-4208-ea34-44f1dfb98443"
      },
      "execution_count": 7,
      "outputs": [
        {
          "output_type": "execute_result",
          "data": {
            "text/plain": [
              "LinearRegression()"
            ],
            "text/html": [
              "<style>#sk-container-id-1 {color: black;background-color: white;}#sk-container-id-1 pre{padding: 0;}#sk-container-id-1 div.sk-toggleable {background-color: white;}#sk-container-id-1 label.sk-toggleable__label {cursor: pointer;display: block;width: 100%;margin-bottom: 0;padding: 0.3em;box-sizing: border-box;text-align: center;}#sk-container-id-1 label.sk-toggleable__label-arrow:before {content: \"▸\";float: left;margin-right: 0.25em;color: #696969;}#sk-container-id-1 label.sk-toggleable__label-arrow:hover:before {color: black;}#sk-container-id-1 div.sk-estimator:hover label.sk-toggleable__label-arrow:before {color: black;}#sk-container-id-1 div.sk-toggleable__content {max-height: 0;max-width: 0;overflow: hidden;text-align: left;background-color: #f0f8ff;}#sk-container-id-1 div.sk-toggleable__content pre {margin: 0.2em;color: black;border-radius: 0.25em;background-color: #f0f8ff;}#sk-container-id-1 input.sk-toggleable__control:checked~div.sk-toggleable__content {max-height: 200px;max-width: 100%;overflow: auto;}#sk-container-id-1 input.sk-toggleable__control:checked~label.sk-toggleable__label-arrow:before {content: \"▾\";}#sk-container-id-1 div.sk-estimator input.sk-toggleable__control:checked~label.sk-toggleable__label {background-color: #d4ebff;}#sk-container-id-1 div.sk-label input.sk-toggleable__control:checked~label.sk-toggleable__label {background-color: #d4ebff;}#sk-container-id-1 input.sk-hidden--visually {border: 0;clip: rect(1px 1px 1px 1px);clip: rect(1px, 1px, 1px, 1px);height: 1px;margin: -1px;overflow: hidden;padding: 0;position: absolute;width: 1px;}#sk-container-id-1 div.sk-estimator {font-family: monospace;background-color: #f0f8ff;border: 1px dotted black;border-radius: 0.25em;box-sizing: border-box;margin-bottom: 0.5em;}#sk-container-id-1 div.sk-estimator:hover {background-color: #d4ebff;}#sk-container-id-1 div.sk-parallel-item::after {content: \"\";width: 100%;border-bottom: 1px solid gray;flex-grow: 1;}#sk-container-id-1 div.sk-label:hover label.sk-toggleable__label {background-color: #d4ebff;}#sk-container-id-1 div.sk-serial::before {content: \"\";position: absolute;border-left: 1px solid gray;box-sizing: border-box;top: 0;bottom: 0;left: 50%;z-index: 0;}#sk-container-id-1 div.sk-serial {display: flex;flex-direction: column;align-items: center;background-color: white;padding-right: 0.2em;padding-left: 0.2em;position: relative;}#sk-container-id-1 div.sk-item {position: relative;z-index: 1;}#sk-container-id-1 div.sk-parallel {display: flex;align-items: stretch;justify-content: center;background-color: white;position: relative;}#sk-container-id-1 div.sk-item::before, #sk-container-id-1 div.sk-parallel-item::before {content: \"\";position: absolute;border-left: 1px solid gray;box-sizing: border-box;top: 0;bottom: 0;left: 50%;z-index: -1;}#sk-container-id-1 div.sk-parallel-item {display: flex;flex-direction: column;z-index: 1;position: relative;background-color: white;}#sk-container-id-1 div.sk-parallel-item:first-child::after {align-self: flex-end;width: 50%;}#sk-container-id-1 div.sk-parallel-item:last-child::after {align-self: flex-start;width: 50%;}#sk-container-id-1 div.sk-parallel-item:only-child::after {width: 0;}#sk-container-id-1 div.sk-dashed-wrapped {border: 1px dashed gray;margin: 0 0.4em 0.5em 0.4em;box-sizing: border-box;padding-bottom: 0.4em;background-color: white;}#sk-container-id-1 div.sk-label label {font-family: monospace;font-weight: bold;display: inline-block;line-height: 1.2em;}#sk-container-id-1 div.sk-label-container {text-align: center;}#sk-container-id-1 div.sk-container {/* jupyter's `normalize.less` sets `[hidden] { display: none; }` but bootstrap.min.css set `[hidden] { display: none !important; }` so we also need the `!important` here to be able to override the default hidden behavior on the sphinx rendered scikit-learn.org. See: https://github.com/scikit-learn/scikit-learn/issues/21755 */display: inline-block !important;position: relative;}#sk-container-id-1 div.sk-text-repr-fallback {display: none;}</style><div id=\"sk-container-id-1\" class=\"sk-top-container\"><div class=\"sk-text-repr-fallback\"><pre>LinearRegression()</pre><b>In a Jupyter environment, please rerun this cell to show the HTML representation or trust the notebook. <br />On GitHub, the HTML representation is unable to render, please try loading this page with nbviewer.org.</b></div><div class=\"sk-container\" hidden><div class=\"sk-item\"><div class=\"sk-estimator sk-toggleable\"><input class=\"sk-toggleable__control sk-hidden--visually\" id=\"sk-estimator-id-1\" type=\"checkbox\" checked><label for=\"sk-estimator-id-1\" class=\"sk-toggleable__label sk-toggleable__label-arrow\">LinearRegression</label><div class=\"sk-toggleable__content\"><pre>LinearRegression()</pre></div></div></div></div></div>"
            ]
          },
          "metadata": {},
          "execution_count": 7
        }
      ]
    },
    {
      "cell_type": "code",
      "source": [
        "lr.predict(X_test)"
      ],
      "metadata": {
        "colab": {
          "base_uri": "https://localhost:8080/"
        },
        "id": "6GEmoPV4r9yQ",
        "outputId": "7f301ecf-8c55-4c2f-99fc-974411b553d7"
      },
      "execution_count": 8,
      "outputs": [
        {
          "output_type": "execute_result",
          "data": {
            "text/plain": [
              "array([139.5475584 , 179.51720835, 134.03875572, 291.41702925,\n",
              "       123.78965872,  92.1723465 , 258.23238899, 181.33732057,\n",
              "        90.22411311, 108.63375858,  94.13865744, 168.43486358,\n",
              "        53.5047888 , 206.63081659, 100.12925869, 130.66657085,\n",
              "       219.53071499, 250.7803234 , 196.3688346 , 218.57511815,\n",
              "       207.35050182,  88.48340941,  70.43285917, 188.95914235,\n",
              "       154.8868162 , 159.36170122, 188.31263363, 180.39094033,\n",
              "        47.99046561, 108.97453871, 174.77897633,  86.36406656,\n",
              "       132.95761215, 184.53819483, 173.83220911, 190.35858492,\n",
              "       124.4156176 , 119.65110656, 147.95168682,  59.05405241,\n",
              "        71.62331856, 107.68284704, 165.45365458, 155.00975931,\n",
              "       171.04799096,  61.45761356,  71.66672581, 114.96732206,\n",
              "        51.57975523, 167.57599528, 152.52291955,  62.95568515,\n",
              "       103.49741722, 109.20751489, 175.64118426, 154.60296242,\n",
              "        94.41704366, 210.74209145, 120.2566205 ,  77.61585399,\n",
              "       187.93203995, 206.49337474, 140.63167076, 105.59678023,\n",
              "       130.70432536, 202.18534537, 171.13039501, 164.91423047,\n",
              "       124.72472569, 144.81030894, 181.99635452, 199.41369642,\n",
              "       234.21436188, 145.95665512,  79.86703276, 157.36941275,\n",
              "       192.74412541, 208.89814032, 158.58722555, 206.02195855,\n",
              "       107.47971675, 140.93598906,  54.82129332,  55.92573195,\n",
              "       115.01180018,  78.95584188,  81.56087285,  54.37997256,\n",
              "       166.2543518 ])"
            ]
          },
          "metadata": {},
          "execution_count": 8
        }
      ]
    },
    {
      "cell_type": "code",
      "source": [
        "y_test"
      ],
      "metadata": {
        "colab": {
          "base_uri": "https://localhost:8080/"
        },
        "id": "RfWoQ5TEsBhF",
        "outputId": "6282d1ab-6f30-44a0-9fc8-8af63862240b"
      },
      "execution_count": 14,
      "outputs": [
        {
          "output_type": "execute_result",
          "data": {
            "text/plain": [
              "array([219.,  70., 202., 230., 111.,  84., 242., 272.,  94.,  96.,  94.,\n",
              "       252.,  99., 297., 135.,  67., 295., 264., 170., 275., 310.,  64.,\n",
              "       128., 232., 129., 118., 263.,  77.,  48., 107., 140., 113.,  90.,\n",
              "       164., 180., 233.,  42.,  84., 172.,  63.,  48., 108., 156., 168.,\n",
              "        90.,  52., 200.,  87.,  90., 258., 136., 158.,  69.,  72., 171.,\n",
              "        95.,  72., 151., 168.,  60., 122.,  52., 187., 102., 214., 248.,\n",
              "       181., 110., 140., 202., 101., 222., 281.,  61.,  89.,  91., 186.,\n",
              "       220., 237., 233.,  68., 190.,  96.,  72., 153.,  98.,  37.,  63.,\n",
              "       184.])"
            ]
          },
          "metadata": {},
          "execution_count": 14
        }
      ]
    },
    {
      "cell_type": "code",
      "source": [
        "lr.predict(X_test[[1]])"
      ],
      "metadata": {
        "colab": {
          "base_uri": "https://localhost:8080/"
        },
        "id": "CtZ4zsdtsLUP",
        "outputId": "e11f023b-0a6c-4b9d-ce4d-588607299d39"
      },
      "execution_count": 11,
      "outputs": [
        {
          "output_type": "execute_result",
          "data": {
            "text/plain": [
              "array([179.51720835])"
            ]
          },
          "metadata": {},
          "execution_count": 11
        }
      ]
    },
    {
      "cell_type": "code",
      "source": [
        "print(\"R2 score\",r2_score(y_test,lr.predict(X_test)))"
      ],
      "metadata": {
        "colab": {
          "base_uri": "https://localhost:8080/"
        },
        "id": "sCWGib31sPao",
        "outputId": "12ebd48b-23c4-43e0-99e0-e5d75fdb72e0"
      },
      "execution_count": 13,
      "outputs": [
        {
          "output_type": "stream",
          "name": "stdout",
          "text": [
            "R2 score 0.4526027629719195\n"
          ]
        }
      ]
    },
    {
      "cell_type": "markdown",
      "source": [
        "# Own Logic"
      ],
      "metadata": {
        "id": "gjfTjnnqstk7"
      }
    },
    {
      "cell_type": "code",
      "source": [
        "class Own:\n",
        "\n",
        "    def __init__(self):\n",
        "        self.coef_ = None\n",
        "        self.intercept_ = None\n",
        "\n",
        "    def fit(self,X_train,y_train):\n",
        "        X_train = np.insert(X_train,0,1,axis=1)\n",
        "\n",
        "        # calcuate the coeffs\n",
        "        betas = np.linalg.inv(np.dot(X_train.T,X_train)).dot(X_train.T).dot(y_train)\n",
        "        self.intercept_ = betas[0]\n",
        "        self.coef_ = betas[1:]\n",
        "\n",
        "    def predict(self,X_test):\n",
        "        y_pred = np.dot(X_test,self.coef_) + self.intercept_\n",
        "        return y_pred"
      ],
      "metadata": {
        "id": "d_rqOKezsdVl"
      },
      "execution_count": 16,
      "outputs": []
    },
    {
      "cell_type": "code",
      "source": [
        "l=Own()\n",
        "l.fit(X_train,y_train)"
      ],
      "metadata": {
        "id": "Xy541mnmtDGc"
      },
      "execution_count": 18,
      "outputs": []
    },
    {
      "cell_type": "code",
      "source": [
        "l.predict(X_test)"
      ],
      "metadata": {
        "colab": {
          "base_uri": "https://localhost:8080/"
        },
        "id": "J14jnBIOtHqQ",
        "outputId": "31762946-382b-4069-e848-c2476fe10672"
      },
      "execution_count": 19,
      "outputs": [
        {
          "output_type": "execute_result",
          "data": {
            "text/plain": [
              "array([139.5475584 , 179.51720835, 134.03875572, 291.41702925,\n",
              "       123.78965872,  92.1723465 , 258.23238899, 181.33732057,\n",
              "        90.22411311, 108.63375858,  94.13865744, 168.43486358,\n",
              "        53.5047888 , 206.63081659, 100.12925869, 130.66657085,\n",
              "       219.53071499, 250.7803234 , 196.3688346 , 218.57511815,\n",
              "       207.35050182,  88.48340941,  70.43285917, 188.95914235,\n",
              "       154.8868162 , 159.36170122, 188.31263363, 180.39094033,\n",
              "        47.99046561, 108.97453871, 174.77897633,  86.36406656,\n",
              "       132.95761215, 184.53819483, 173.83220911, 190.35858492,\n",
              "       124.4156176 , 119.65110656, 147.95168682,  59.05405241,\n",
              "        71.62331856, 107.68284704, 165.45365458, 155.00975931,\n",
              "       171.04799096,  61.45761356,  71.66672581, 114.96732206,\n",
              "        51.57975523, 167.57599528, 152.52291955,  62.95568515,\n",
              "       103.49741722, 109.20751489, 175.64118426, 154.60296242,\n",
              "        94.41704366, 210.74209145, 120.2566205 ,  77.61585399,\n",
              "       187.93203995, 206.49337474, 140.63167076, 105.59678023,\n",
              "       130.70432536, 202.18534537, 171.13039501, 164.91423047,\n",
              "       124.72472569, 144.81030894, 181.99635452, 199.41369642,\n",
              "       234.21436188, 145.95665512,  79.86703276, 157.36941275,\n",
              "       192.74412541, 208.89814032, 158.58722555, 206.02195855,\n",
              "       107.47971675, 140.93598906,  54.82129332,  55.92573195,\n",
              "       115.01180018,  78.95584188,  81.56087285,  54.37997256,\n",
              "       166.2543518 ])"
            ]
          },
          "metadata": {},
          "execution_count": 19
        }
      ]
    },
    {
      "cell_type": "code",
      "source": [
        "l.coef_"
      ],
      "metadata": {
        "colab": {
          "base_uri": "https://localhost:8080/"
        },
        "id": "hA_YKUzotKJU",
        "outputId": "292f730c-19d5-4adf-e101-3f6b28d4687e"
      },
      "execution_count": 20,
      "outputs": [
        {
          "output_type": "execute_result",
          "data": {
            "text/plain": [
              "array([  37.90402135, -241.96436231,  542.42875852,  347.70384391,\n",
              "       -931.48884588,  518.06227698,  163.41998299,  275.31790158,\n",
              "        736.1988589 ,   48.67065743])"
            ]
          },
          "metadata": {},
          "execution_count": 20
        }
      ]
    },
    {
      "cell_type": "code",
      "source": [],
      "metadata": {
        "colab": {
          "base_uri": "https://localhost:8080/",
          "height": 141
        },
        "id": "0ro4mS4atM2f",
        "outputId": "8faa81d5-df77-4841-90c6-7605513d50ad"
      },
      "execution_count": 22,
      "outputs": [
        {
          "output_type": "error",
          "ename": "AttributeError",
          "evalue": "'Own' object has no attribute 'r2_score'",
          "traceback": [
            "\u001b[0;31m---------------------------------------------------------------------------\u001b[0m",
            "\u001b[0;31mAttributeError\u001b[0m                            Traceback (most recent call last)",
            "\u001b[0;32m<ipython-input-22-6e24d1d0ddb0>\u001b[0m in \u001b[0;36m<cell line: 1>\u001b[0;34m()\u001b[0m\n\u001b[0;32m----> 1\u001b[0;31m \u001b[0ml\u001b[0m\u001b[0;34m.\u001b[0m\u001b[0mr2_score\u001b[0m\u001b[0;34m(\u001b[0m\u001b[0my_test\u001b[0m\u001b[0;34m,\u001b[0m\u001b[0ml\u001b[0m\u001b[0;34m.\u001b[0m\u001b[0mpredict\u001b[0m\u001b[0;34m(\u001b[0m\u001b[0mX_test\u001b[0m\u001b[0;34m)\u001b[0m\u001b[0;34m)\u001b[0m\u001b[0;34m\u001b[0m\u001b[0;34m\u001b[0m\u001b[0m\n\u001b[0m",
            "\u001b[0;31mAttributeError\u001b[0m: 'Own' object has no attribute 'r2_score'"
          ]
        }
      ]
    }
  ]
}