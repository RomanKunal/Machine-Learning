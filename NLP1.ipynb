{
  "nbformat": 4,
  "nbformat_minor": 0,
  "metadata": {
    "colab": {
      "provenance": [],
      "authorship_tag": "ABX9TyPvyckQYW07TXF7u5wEo/Pi",
      "include_colab_link": true
    },
    "kernelspec": {
      "name": "python3",
      "display_name": "Python 3"
    },
    "language_info": {
      "name": "python"
    }
  },
  "cells": [
    {
      "cell_type": "markdown",
      "metadata": {
        "id": "view-in-github",
        "colab_type": "text"
      },
      "source": [
        "<a href=\"https://colab.research.google.com/github/RomanKunal/Machine-Learning/blob/main/NLP1.ipynb\" target=\"_parent\"><img src=\"https://colab.research.google.com/assets/colab-badge.svg\" alt=\"Open In Colab\"/></a>"
      ]
    },
    {
      "cell_type": "code",
      "execution_count": 1,
      "metadata": {
        "id": "5TtnSFWOqDgS"
      },
      "outputs": [],
      "source": [
        "import spacy"
      ]
    },
    {
      "cell_type": "code",
      "source": [
        "nlp=spacy.blank('hi')\n",
        "doc=nlp(' मुझे ₹100 ')\n",
        "for token in doc:\n",
        "  if token.is_currency:\n",
        "    print(token)"
      ],
      "metadata": {
        "colab": {
          "base_uri": "https://localhost:8080/"
        },
        "id": "LbKZThEoqOw1",
        "outputId": "1b8c1005-80c4-445c-dc7c-936fdda82020"
      },
      "execution_count": 5,
      "outputs": [
        {
          "output_type": "stream",
          "name": "stdout",
          "text": [
            "₹\n"
          ]
        }
      ]
    },
    {
      "cell_type": "markdown",
      "source": [
        "# StopWord removal"
      ],
      "metadata": {
        "id": "SzdDWo53rSee"
      }
    },
    {
      "cell_type": "code",
      "source": [
        "from spacy.lang.hi.stop_words import STOP_WORDS\n",
        "len(STOP_WORDS)"
      ],
      "metadata": {
        "colab": {
          "base_uri": "https://localhost:8080/"
        },
        "id": "RCkJmnqcraS8",
        "outputId": "57f60a3f-f7dd-4490-bf62-2500d8f0299b"
      },
      "execution_count": 8,
      "outputs": [
        {
          "output_type": "execute_result",
          "data": {
            "text/plain": [
              "230"
            ]
          },
          "metadata": {},
          "execution_count": 8
        }
      ]
    },
    {
      "cell_type": "code",
      "source": [
        "print(STOP_WORDS)"
      ],
      "metadata": {
        "colab": {
          "base_uri": "https://localhost:8080/"
        },
        "id": "6Fwd2HSwrnx2",
        "outputId": "70bc0a7e-2e14-49ef-dbcf-a5896b6c79db"
      },
      "execution_count": 9,
      "outputs": [
        {
          "output_type": "stream",
          "name": "stdout",
          "text": [
            "{'जिंहें', 'वहां', 'अंदर', 'बहि', 'सभी', 'जीधर', 'बनि', 'करें', 'रहे', 'किसे', 'रखें', 'इसी', 'ही', 'कुल', 'भि', 'थि', 'इसके', 'कौन', 'जिसे', 'किंहें', 'ओर', 'है', 'वुह', 'इनका', 'कोई', 'तिन', 'इसका', 'जिन्हों', 'आदि', 'कर', 'जेसा', 'पर', 'करता', 'में', 'हूँ', 'इंहों', 'उंहों', 'उनको', 'उसि', 'का', 'बिलकुल', 'नहीं', 'बाला', 'भितर', 'से', 'तब', 'किंहों', 'बाद', 'करने', 'जैसे', 'यह', 'हैं', 'हुइ', 'दवारा', 'जितना', 'लिये', 'होती', 'थी', 'सभि', 'साबुत', 'कइ', 'को', 'जैसा', 'घर', 'कितना', 'द्वारा', 'यहि', 'उसके', 'होते', 'वग़ैरह', 'हो', 'जिन', 'ने', 'या', 'थे', 'साथ', 'एवं', 'जब', 'उन्हों', 'जिस', 'इंहें', 'एसे', 'किर', 'साभ', 'ना', 'कोइ', 'इसमें', 'रहा', 'जहां', 'जा', 'करते', 'वरग', 'जिंहों', 'भी', 'बही', 'फिर', 'सकते', 'दिया', 'दो', 'उन्हीं', 'अभी', 'हि', 'तक', 'नीचे', 'ये', 'मैं', 'इंहिं', 'पे', 'वाले', 'बनी', 'इस', 'इत्यादि', 'किस', 'दबारा', 'उन', 'और', 'कोन', 'तिस', 'बहुत', 'नहिं', 'वहिं', 'वहाँ', 'सारा', 'की', 'इसकि', 'एक', 'दुसरा', 'उनके', 'अपने', 'पुरा', 'था', 'उनका', 'कोनसा', 'करना', 'यही', 'इन', 'अपनी', 'यिह', 'उस', 'तो', 'तिन्हों', 'इसे', 'जिन्हें', 'मुझको', 'दूसरे', 'किसी', 'वर्ग', 'वह', 'अपनि', 'यदि', 'इन्हीं', 'किया', 'जहाँ', 'ऱ्वासा', 'इन्हें', 'दुसरे', 'किसि', 'मगर', 'सबसे', 'अत', 'होना', 'किन्हें', 'एस', 'तरह', 'इन्हों', 'यहां', 'काफ़ी', 'हुआ', 'तिंहों', 'उसी', 'न', 'मे', 'हे', 'कि', 'इसि', 'कौनसा', 'निचे', 'सो', 'हुए', 'जो', 'निहायत', 'गया', 'तिसे', 'हुअ', 'आप', 'उंहिं', 'अदि', 'ऐसे', 'इसकी', 'कुछ', 'सकता', 'उनकि', 'उसे', 'होता', 'इतयादि', 'भीतर', 'पहले', 'अप', 'किन्हों', 'यहाँ', 'हुई', 'मानो', 'होति', 'होने', 'काफि', 'वे', 'व', 'जिधर', 'पूरा', 'उन्हें', 'अगर', 'तिन्हें', 'मेरा', 'संग', 'हें', 'रवासा', 'अभि', 'अपना', 'कई', 'कहा', 'उंहें', 'लिए', 'उनकी', 'कहते', 'वहीं', 'वगेरह', 'जेसे', 'लेकिन', 'तिंहें', 'के'}\n"
          ]
        }
      ]
    },
    {
      "cell_type": "code",
      "source": [
        "nlp=spacy.load('en_core_web_sm')\n",
        "doc=nlp('Apple is looking at buying U.K. startup for $1 billion ')\n",
        "for token in doc:\n",
        "  if token.is_stop:\n",
        "    print(token)"
      ],
      "metadata": {
        "colab": {
          "base_uri": "https://localhost:8080/"
        },
        "id": "RJsRD0OrruKN",
        "outputId": "1ed9257c-720c-4ffa-9a64-a414244e2810"
      },
      "execution_count": 14,
      "outputs": [
        {
          "output_type": "stream",
          "name": "stdout",
          "text": [
            "is\n",
            "at\n",
            "for\n"
          ]
        }
      ]
    },
    {
      "cell_type": "code",
      "source": [
        "nlp=spacy.load('en_core_web_sm')\n",
        "doc=nlp('Apple is looking at buying U.K. startup for $1 billion ')\n",
        "for token in doc:\n",
        "  if not token.is_stop:\n",
        "    print(token)"
      ],
      "metadata": {
        "colab": {
          "base_uri": "https://localhost:8080/"
        },
        "id": "b3dJqCYKt4I3",
        "outputId": "792d0106-3431-46cf-aaa6-e9684a589869"
      },
      "execution_count": 15,
      "outputs": [
        {
          "output_type": "stream",
          "name": "stdout",
          "text": [
            "Apple\n",
            "looking\n",
            "buying\n",
            "U.K.\n",
            "startup\n",
            "$\n",
            "1\n",
            "billion\n"
          ]
        }
      ]
    },
    {
      "cell_type": "code",
      "source": [
        "def preprocess(text):\n",
        "  doc=nlp(text)\n",
        "  for token in doc:\n",
        "    if not token.is_stop:\n",
        "      print(token)"
      ],
      "metadata": {
        "id": "UVk5YQpCvBEX"
      },
      "execution_count": 18,
      "outputs": []
    },
    {
      "cell_type": "code",
      "source": [
        "preprocess('Apple is looking at buying U.K. startup for $1 billion ')"
      ],
      "metadata": {
        "colab": {
          "base_uri": "https://localhost:8080/"
        },
        "id": "9oBUWPo-vSfU",
        "outputId": "0c37d00d-ac79-4036-b96e-399c1981c923"
      },
      "execution_count": 19,
      "outputs": [
        {
          "output_type": "stream",
          "name": "stdout",
          "text": [
            "Apple\n",
            "looking\n",
            "buying\n",
            "U.K.\n",
            "startup\n",
            "$\n",
            "1\n",
            "billion\n"
          ]
        }
      ]
    },
    {
      "cell_type": "code",
      "source": [
        "preprocess('haanji haanji dedo thoda is my life')"
      ],
      "metadata": {
        "colab": {
          "base_uri": "https://localhost:8080/"
        },
        "id": "m40hhCfIvjpa",
        "outputId": "d0fee031-8fb7-4460-881e-f908c75695b7"
      },
      "execution_count": 20,
      "outputs": [
        {
          "output_type": "stream",
          "name": "stdout",
          "text": [
            "haanji\n",
            "haanji\n",
            "dedo\n",
            "thoda\n",
            "life\n"
          ]
        }
      ]
    },
    {
      "cell_type": "code",
      "source": [
        "import pandas as pd\n",
        "try:\n",
        "  df=pd.read_json('/content/doj_press.json',lines=True)\n",
        "  print(df.head())\n",
        "  print(df.shape)\n",
        "except ValueError as e:\n",
        "  print('Error',e)"
      ],
      "metadata": {
        "colab": {
          "base_uri": "https://localhost:8080/"
        },
        "id": "-6jw54__wBZO",
        "outputId": "f9ec081a-2a9f-43dc-c387-fb23eda55f2e"
      },
      "execution_count": 22,
      "outputs": [
        {
          "output_type": "stream",
          "name": "stdout",
          "text": [
            "        id                                              title  \\\n",
            "0     None       Convicted Bomb Plotter Sentenced to 30 Years   \n",
            "1  12-919   $1 Million in Restitution Payments Announced t...   \n",
            "2  11-1002  $1 Million Settlement Reached for Natural Reso...   \n",
            "3   10-015  10 Las Vegas Men Indicted \\r\\nfor Falsifying V...   \n",
            "4   18-898  $100 Million Settlement Will Speed Cleanup Wor...   \n",
            "\n",
            "                                            contents  \\\n",
            "0  PORTLAND, Oregon. – Mohamed Osman Mohamud, 23,...   \n",
            "1    WASHINGTON – North Carolina’s Waccamaw River...   \n",
            "2        BOSTON– A $1-million settlement has been...   \n",
            "3    WASHINGTON—A federal grand jury in Las Vegas...   \n",
            "4  The U.S. Department of Justice, the U.S. Envir...   \n",
            "\n",
            "                        date         topics  \\\n",
            "0  2014-10-01T00:00:00-04:00             []   \n",
            "1  2012-07-25T00:00:00-04:00             []   \n",
            "2  2011-08-03T00:00:00-04:00             []   \n",
            "3  2010-01-08T00:00:00-05:00             []   \n",
            "4  2018-07-09T00:00:00-04:00  [Environment]   \n",
            "\n",
            "                                     components  \n",
            "0            [National Security Division (NSD)]  \n",
            "1  [Environment and Natural Resources Division]  \n",
            "2  [Environment and Natural Resources Division]  \n",
            "3  [Environment and Natural Resources Division]  \n",
            "4  [Environment and Natural Resources Division]  \n",
            "(13087, 6)\n"
          ]
        }
      ]
    },
    {
      "cell_type": "code",
      "source": [
        "data=pd.read_json('/content/doj_press.json',lines=True)\n",
        "data.head()"
      ],
      "metadata": {
        "colab": {
          "base_uri": "https://localhost:8080/",
          "height": 293
        },
        "id": "GOFD3BXDzLTV",
        "outputId": "a7fb7247-0e07-490d-b76b-70745f21d335"
      },
      "execution_count": 24,
      "outputs": [
        {
          "output_type": "execute_result",
          "data": {
            "text/plain": [
              "        id                                              title  \\\n",
              "0     None       Convicted Bomb Plotter Sentenced to 30 Years   \n",
              "1  12-919   $1 Million in Restitution Payments Announced t...   \n",
              "2  11-1002  $1 Million Settlement Reached for Natural Reso...   \n",
              "3   10-015  10 Las Vegas Men Indicted \\r\\nfor Falsifying V...   \n",
              "4   18-898  $100 Million Settlement Will Speed Cleanup Wor...   \n",
              "\n",
              "                                            contents  \\\n",
              "0  PORTLAND, Oregon. – Mohamed Osman Mohamud, 23,...   \n",
              "1    WASHINGTON – North Carolina’s Waccamaw River...   \n",
              "2        BOSTON– A $1-million settlement has been...   \n",
              "3    WASHINGTON—A federal grand jury in Las Vegas...   \n",
              "4  The U.S. Department of Justice, the U.S. Envir...   \n",
              "\n",
              "                        date         topics  \\\n",
              "0  2014-10-01T00:00:00-04:00             []   \n",
              "1  2012-07-25T00:00:00-04:00             []   \n",
              "2  2011-08-03T00:00:00-04:00             []   \n",
              "3  2010-01-08T00:00:00-05:00             []   \n",
              "4  2018-07-09T00:00:00-04:00  [Environment]   \n",
              "\n",
              "                                     components  \n",
              "0            [National Security Division (NSD)]  \n",
              "1  [Environment and Natural Resources Division]  \n",
              "2  [Environment and Natural Resources Division]  \n",
              "3  [Environment and Natural Resources Division]  \n",
              "4  [Environment and Natural Resources Division]  "
            ],
            "text/html": [
              "\n",
              "  <div id=\"df-447b8e19-f4da-4b3e-8fb8-3f8cf8186258\" class=\"colab-df-container\">\n",
              "    <div>\n",
              "<style scoped>\n",
              "    .dataframe tbody tr th:only-of-type {\n",
              "        vertical-align: middle;\n",
              "    }\n",
              "\n",
              "    .dataframe tbody tr th {\n",
              "        vertical-align: top;\n",
              "    }\n",
              "\n",
              "    .dataframe thead th {\n",
              "        text-align: right;\n",
              "    }\n",
              "</style>\n",
              "<table border=\"1\" class=\"dataframe\">\n",
              "  <thead>\n",
              "    <tr style=\"text-align: right;\">\n",
              "      <th></th>\n",
              "      <th>id</th>\n",
              "      <th>title</th>\n",
              "      <th>contents</th>\n",
              "      <th>date</th>\n",
              "      <th>topics</th>\n",
              "      <th>components</th>\n",
              "    </tr>\n",
              "  </thead>\n",
              "  <tbody>\n",
              "    <tr>\n",
              "      <th>0</th>\n",
              "      <td>None</td>\n",
              "      <td>Convicted Bomb Plotter Sentenced to 30 Years</td>\n",
              "      <td>PORTLAND, Oregon. – Mohamed Osman Mohamud, 23,...</td>\n",
              "      <td>2014-10-01T00:00:00-04:00</td>\n",
              "      <td>[]</td>\n",
              "      <td>[National Security Division (NSD)]</td>\n",
              "    </tr>\n",
              "    <tr>\n",
              "      <th>1</th>\n",
              "      <td>12-919</td>\n",
              "      <td>$1 Million in Restitution Payments Announced t...</td>\n",
              "      <td>WASHINGTON – North Carolina’s Waccamaw River...</td>\n",
              "      <td>2012-07-25T00:00:00-04:00</td>\n",
              "      <td>[]</td>\n",
              "      <td>[Environment and Natural Resources Division]</td>\n",
              "    </tr>\n",
              "    <tr>\n",
              "      <th>2</th>\n",
              "      <td>11-1002</td>\n",
              "      <td>$1 Million Settlement Reached for Natural Reso...</td>\n",
              "      <td>BOSTON– A $1-million settlement has been...</td>\n",
              "      <td>2011-08-03T00:00:00-04:00</td>\n",
              "      <td>[]</td>\n",
              "      <td>[Environment and Natural Resources Division]</td>\n",
              "    </tr>\n",
              "    <tr>\n",
              "      <th>3</th>\n",
              "      <td>10-015</td>\n",
              "      <td>10 Las Vegas Men Indicted \\r\\nfor Falsifying V...</td>\n",
              "      <td>WASHINGTON—A federal grand jury in Las Vegas...</td>\n",
              "      <td>2010-01-08T00:00:00-05:00</td>\n",
              "      <td>[]</td>\n",
              "      <td>[Environment and Natural Resources Division]</td>\n",
              "    </tr>\n",
              "    <tr>\n",
              "      <th>4</th>\n",
              "      <td>18-898</td>\n",
              "      <td>$100 Million Settlement Will Speed Cleanup Wor...</td>\n",
              "      <td>The U.S. Department of Justice, the U.S. Envir...</td>\n",
              "      <td>2018-07-09T00:00:00-04:00</td>\n",
              "      <td>[Environment]</td>\n",
              "      <td>[Environment and Natural Resources Division]</td>\n",
              "    </tr>\n",
              "  </tbody>\n",
              "</table>\n",
              "</div>\n",
              "    <div class=\"colab-df-buttons\">\n",
              "\n",
              "  <div class=\"colab-df-container\">\n",
              "    <button class=\"colab-df-convert\" onclick=\"convertToInteractive('df-447b8e19-f4da-4b3e-8fb8-3f8cf8186258')\"\n",
              "            title=\"Convert this dataframe to an interactive table.\"\n",
              "            style=\"display:none;\">\n",
              "\n",
              "  <svg xmlns=\"http://www.w3.org/2000/svg\" height=\"24px\" viewBox=\"0 -960 960 960\">\n",
              "    <path d=\"M120-120v-720h720v720H120Zm60-500h600v-160H180v160Zm220 220h160v-160H400v160Zm0 220h160v-160H400v160ZM180-400h160v-160H180v160Zm440 0h160v-160H620v160ZM180-180h160v-160H180v160Zm440 0h160v-160H620v160Z\"/>\n",
              "  </svg>\n",
              "    </button>\n",
              "\n",
              "  <style>\n",
              "    .colab-df-container {\n",
              "      display:flex;\n",
              "      gap: 12px;\n",
              "    }\n",
              "\n",
              "    .colab-df-convert {\n",
              "      background-color: #E8F0FE;\n",
              "      border: none;\n",
              "      border-radius: 50%;\n",
              "      cursor: pointer;\n",
              "      display: none;\n",
              "      fill: #1967D2;\n",
              "      height: 32px;\n",
              "      padding: 0 0 0 0;\n",
              "      width: 32px;\n",
              "    }\n",
              "\n",
              "    .colab-df-convert:hover {\n",
              "      background-color: #E2EBFA;\n",
              "      box-shadow: 0px 1px 2px rgba(60, 64, 67, 0.3), 0px 1px 3px 1px rgba(60, 64, 67, 0.15);\n",
              "      fill: #174EA6;\n",
              "    }\n",
              "\n",
              "    .colab-df-buttons div {\n",
              "      margin-bottom: 4px;\n",
              "    }\n",
              "\n",
              "    [theme=dark] .colab-df-convert {\n",
              "      background-color: #3B4455;\n",
              "      fill: #D2E3FC;\n",
              "    }\n",
              "\n",
              "    [theme=dark] .colab-df-convert:hover {\n",
              "      background-color: #434B5C;\n",
              "      box-shadow: 0px 1px 3px 1px rgba(0, 0, 0, 0.15);\n",
              "      filter: drop-shadow(0px 1px 2px rgba(0, 0, 0, 0.3));\n",
              "      fill: #FFFFFF;\n",
              "    }\n",
              "  </style>\n",
              "\n",
              "    <script>\n",
              "      const buttonEl =\n",
              "        document.querySelector('#df-447b8e19-f4da-4b3e-8fb8-3f8cf8186258 button.colab-df-convert');\n",
              "      buttonEl.style.display =\n",
              "        google.colab.kernel.accessAllowed ? 'block' : 'none';\n",
              "\n",
              "      async function convertToInteractive(key) {\n",
              "        const element = document.querySelector('#df-447b8e19-f4da-4b3e-8fb8-3f8cf8186258');\n",
              "        const dataTable =\n",
              "          await google.colab.kernel.invokeFunction('convertToInteractive',\n",
              "                                                    [key], {});\n",
              "        if (!dataTable) return;\n",
              "\n",
              "        const docLinkHtml = 'Like what you see? Visit the ' +\n",
              "          '<a target=\"_blank\" href=https://colab.research.google.com/notebooks/data_table.ipynb>data table notebook</a>'\n",
              "          + ' to learn more about interactive tables.';\n",
              "        element.innerHTML = '';\n",
              "        dataTable['output_type'] = 'display_data';\n",
              "        await google.colab.output.renderOutput(dataTable, element);\n",
              "        const docLink = document.createElement('div');\n",
              "        docLink.innerHTML = docLinkHtml;\n",
              "        element.appendChild(docLink);\n",
              "      }\n",
              "    </script>\n",
              "  </div>\n",
              "\n",
              "\n",
              "<div id=\"df-3f0b3fc2-bf4f-49da-9599-288445a9b069\">\n",
              "  <button class=\"colab-df-quickchart\" onclick=\"quickchart('df-3f0b3fc2-bf4f-49da-9599-288445a9b069')\"\n",
              "            title=\"Suggest charts\"\n",
              "            style=\"display:none;\">\n",
              "\n",
              "<svg xmlns=\"http://www.w3.org/2000/svg\" height=\"24px\"viewBox=\"0 0 24 24\"\n",
              "     width=\"24px\">\n",
              "    <g>\n",
              "        <path d=\"M19 3H5c-1.1 0-2 .9-2 2v14c0 1.1.9 2 2 2h14c1.1 0 2-.9 2-2V5c0-1.1-.9-2-2-2zM9 17H7v-7h2v7zm4 0h-2V7h2v10zm4 0h-2v-4h2v4z\"/>\n",
              "    </g>\n",
              "</svg>\n",
              "  </button>\n",
              "\n",
              "<style>\n",
              "  .colab-df-quickchart {\n",
              "      --bg-color: #E8F0FE;\n",
              "      --fill-color: #1967D2;\n",
              "      --hover-bg-color: #E2EBFA;\n",
              "      --hover-fill-color: #174EA6;\n",
              "      --disabled-fill-color: #AAA;\n",
              "      --disabled-bg-color: #DDD;\n",
              "  }\n",
              "\n",
              "  [theme=dark] .colab-df-quickchart {\n",
              "      --bg-color: #3B4455;\n",
              "      --fill-color: #D2E3FC;\n",
              "      --hover-bg-color: #434B5C;\n",
              "      --hover-fill-color: #FFFFFF;\n",
              "      --disabled-bg-color: #3B4455;\n",
              "      --disabled-fill-color: #666;\n",
              "  }\n",
              "\n",
              "  .colab-df-quickchart {\n",
              "    background-color: var(--bg-color);\n",
              "    border: none;\n",
              "    border-radius: 50%;\n",
              "    cursor: pointer;\n",
              "    display: none;\n",
              "    fill: var(--fill-color);\n",
              "    height: 32px;\n",
              "    padding: 0;\n",
              "    width: 32px;\n",
              "  }\n",
              "\n",
              "  .colab-df-quickchart:hover {\n",
              "    background-color: var(--hover-bg-color);\n",
              "    box-shadow: 0 1px 2px rgba(60, 64, 67, 0.3), 0 1px 3px 1px rgba(60, 64, 67, 0.15);\n",
              "    fill: var(--button-hover-fill-color);\n",
              "  }\n",
              "\n",
              "  .colab-df-quickchart-complete:disabled,\n",
              "  .colab-df-quickchart-complete:disabled:hover {\n",
              "    background-color: var(--disabled-bg-color);\n",
              "    fill: var(--disabled-fill-color);\n",
              "    box-shadow: none;\n",
              "  }\n",
              "\n",
              "  .colab-df-spinner {\n",
              "    border: 2px solid var(--fill-color);\n",
              "    border-color: transparent;\n",
              "    border-bottom-color: var(--fill-color);\n",
              "    animation:\n",
              "      spin 1s steps(1) infinite;\n",
              "  }\n",
              "\n",
              "  @keyframes spin {\n",
              "    0% {\n",
              "      border-color: transparent;\n",
              "      border-bottom-color: var(--fill-color);\n",
              "      border-left-color: var(--fill-color);\n",
              "    }\n",
              "    20% {\n",
              "      border-color: transparent;\n",
              "      border-left-color: var(--fill-color);\n",
              "      border-top-color: var(--fill-color);\n",
              "    }\n",
              "    30% {\n",
              "      border-color: transparent;\n",
              "      border-left-color: var(--fill-color);\n",
              "      border-top-color: var(--fill-color);\n",
              "      border-right-color: var(--fill-color);\n",
              "    }\n",
              "    40% {\n",
              "      border-color: transparent;\n",
              "      border-right-color: var(--fill-color);\n",
              "      border-top-color: var(--fill-color);\n",
              "    }\n",
              "    60% {\n",
              "      border-color: transparent;\n",
              "      border-right-color: var(--fill-color);\n",
              "    }\n",
              "    80% {\n",
              "      border-color: transparent;\n",
              "      border-right-color: var(--fill-color);\n",
              "      border-bottom-color: var(--fill-color);\n",
              "    }\n",
              "    90% {\n",
              "      border-color: transparent;\n",
              "      border-bottom-color: var(--fill-color);\n",
              "    }\n",
              "  }\n",
              "</style>\n",
              "\n",
              "  <script>\n",
              "    async function quickchart(key) {\n",
              "      const quickchartButtonEl =\n",
              "        document.querySelector('#' + key + ' button');\n",
              "      quickchartButtonEl.disabled = true;  // To prevent multiple clicks.\n",
              "      quickchartButtonEl.classList.add('colab-df-spinner');\n",
              "      try {\n",
              "        const charts = await google.colab.kernel.invokeFunction(\n",
              "            'suggestCharts', [key], {});\n",
              "      } catch (error) {\n",
              "        console.error('Error during call to suggestCharts:', error);\n",
              "      }\n",
              "      quickchartButtonEl.classList.remove('colab-df-spinner');\n",
              "      quickchartButtonEl.classList.add('colab-df-quickchart-complete');\n",
              "    }\n",
              "    (() => {\n",
              "      let quickchartButtonEl =\n",
              "        document.querySelector('#df-3f0b3fc2-bf4f-49da-9599-288445a9b069 button');\n",
              "      quickchartButtonEl.style.display =\n",
              "        google.colab.kernel.accessAllowed ? 'block' : 'none';\n",
              "    })();\n",
              "  </script>\n",
              "</div>\n",
              "\n",
              "    </div>\n",
              "  </div>\n"
            ],
            "application/vnd.google.colaboratory.intrinsic+json": {
              "type": "dataframe",
              "variable_name": "data",
              "summary": "{\n  \"name\": \"data\",\n  \"rows\": 13087,\n  \"fields\": [\n    {\n      \"column\": \"id\",\n      \"properties\": {\n        \"dtype\": \"string\",\n        \"num_unique_values\": 12672,\n        \"samples\": [\n          \"18 - 320\",\n          \"16-769\",\n          \"17-401\"\n        ],\n        \"semantic_type\": \"\",\n        \"description\": \"\"\n      }\n    },\n    {\n      \"column\": \"title\",\n      \"properties\": {\n        \"dtype\": \"string\",\n        \"num_unique_values\": 12887,\n        \"samples\": [\n          \"14 Individuals Charged with Trafficking Identities of Puerto Rican U.S. Citizens\",\n          \"Former Puerto Rico Senator and Businessman Found Guilty of Bribery\",\n          \"Honduran Man Pleads Guilty to Conspiring to Launder Over $1 Million in Bribes and Funds Misappropriated From the Honduran Social Security Agency \"\n        ],\n        \"semantic_type\": \"\",\n        \"description\": \"\"\n      }\n    },\n    {\n      \"column\": \"contents\",\n      \"properties\": {\n        \"dtype\": \"string\",\n        \"num_unique_values\": 13080,\n        \"samples\": [\n          \" Habtom Merhay, a national of Eritrea and a citizen of the United Kingdom, made his initial appearance today in Washington, D.C., federal court to face human smuggling charges for his role in smuggling primarily Eritrean and Ethiopian undocumented migrants from Dubai, United Arab Emirates, through South and Central America and Mexico into the United States.Acting Assistant Attorney General David A. O\\u2019Neil of the Justice Department\\u2019s Criminal Division, U.S. Attorney Ronald C. Machen Jr.\\u00a0of the District of Columbia and Acting Special Agent in Charge Katrina W. Berger of U.S. Immigration and Customs Enforcement\\u2019s (ICE) Homeland Security Investigations (HSI) made the announcement.Merhay, 47, arrived in the United States on April 25, 2014, and made his initial appearance today before U.S. Magistrate Judge Deborah A. Robinson in the District of Columbia.   He was indicted under seal in the District of Columbia in 2012, and the charges were unsealed today.   Merhay has been in the custody of Moroccan authorities pending extradition since his arrest in Marrakech, Morocco, in August 2013.The indictment charges Merhay with one count of conspiracy to bring undocumented migrants to the United States for profit and 15 counts of unlawfully bringing an undocumented migrant to the United States for profit.   Court documents allege that Merhay operated with a network of smugglers in Africa, the United Arab Emirates, South and Central America, Mexico and elsewhere to coordinate and implement arrangements, including providing fraudulent identity and travel documents, for undocumented migrants to travel through Latin America and ultimately into the United States without authorization.   For up to $15,000, Merhay arranged for individual undocumented migrants to travel from points in Africa to a house or apartment in Dubai, where he provided travel documents, tickets and instructions for meeting other smugglers while on the way to the United States.   Merhay coordinated the migrants\\u2019 air travel to South America, where they would meet with Merhay\\u2019s associates, who would direct or guide them across the various country borders.   The undocumented migrants then met with other smugglers associated with Merhay and were further guided north to Mexico and then into the United States, sometimes by crossing the Rio Grande River by raft.The investigation was conducted under the Extraterritorial Criminal Travel Strike Force (ECT) program, a joint partnership between the Justice Department\\u2019s Criminal Division and ICE-HSI.   The ECT program focuses on human smuggling networks that may present particular national security or public safety risks or present grave humanitarian concerns.   ECT has dedicated investigative, intelligence and prosecutorial resources.   ECT coordinates and receives assistance from other U.S. government agencies and foreign law enforcement authorities.The investigation was conducted by HSI Washington.\\u00a0 This case is being prosecuted by Trial Attorney Jay Bauer of the Criminal Division\\u2019s Human Rights and Special Prosecutions Section and Assistant U.S. Attorney Frederick Yette of the District of Columbia.\\u00a0 The extradition was handled by Dan E. Stigall of the Criminal Division\\u2019s Office of International Affairs.The Department of Justice and HSI expressed their appreciation for the significant assistance provided by the Moroccan Ministry of Justice.The charges contained in the indictment are merely accusations, and the defendant is presumed innocent unless and until proven guilty.      \\u00a0\",\n          \"  Metropolitan Ambulance & First Aid Corp. (now known as SEZ Metro Corp.), Metro North Ambulance Corp. (now known as SEZ North Corp.) and Big Apple Ambulance Service Inc. (formerly known as United Ambulance) have paid the United States $2.85 million to resolve false claims made to Medicare, the Justice Department announced today. The United States stipulated to the dismissal of the False Claims Act qui tam suit against the companies, including their president, Steve Zakheim.   The United States alleged that the companies and Zakheim used, or caused the use of, falsified records to appeal a Medicare program refund demand. Medicare had demanded the companies return millions of dollars they had been paid for medically unnecessary ambulance trips. Under Medicare rules, the companies could bill for these expensive non-emergency transports only if the patient could not be transported by any other means, such as by car or by wheelchair van. Medicare audited the companies\\u2019 past billings and concluded that the companies had charged Medicare tens of millions of dollars for ambulance trips that did not meet this standard. Medicare demanded a refund and afforded the companies an extensive informal and formal appeals process to prove that their billings were proper.   The government contended that, rather than contesting the refund demand fairly, the companies resorted to fraud when they could not otherwise prove an ambulance was medically needed. According to the suit, in their ensuing appeals, the companies used, and Zakheim caused the use of, hundreds of letters attesting to the need for an ambulance that were forged or otherwise purported to come from some neutral, disinterested health care provider when they in fact did not.   \\\"Those who benefit from Medicare must play by the rules,\\\" said Tony West, Assistant Attorney General for the Civil Division of the Department of Justice. \\\"We will diligently protect taxpayer dollars from those who use fraud and deceit to take advantage of federal health care programs.\\\"   \\\"Healthcare providers who seek to defraud the Medicare program by submitting false documents will be vigorously pursued and held accountable for their fraud,\\\" said U.S. Attorney Loretta E. Lynch.   This action was originally filed by Larry Kaplan, a former Chief Financial Officer for one of the companies, under the False Claims Act. The qui tam, or whistleblower, provisions of the Act permit private citizens to file suit on behalf of the United States and share in any recovery. Mr. Kaplan\\u2019s share of the settlement announced today will be $618,450.   The investigation, litigation, and resolution of these allegations resulted from a coordinated effort by the Justice Department\\u2019s Civil Division, the U.S. Attorney\\u2019s Office for the Eastern District of New York, the Department of Health and Human Services\\u2019 Office of Inspector General, and the Federal Bureau of Investigation.   The suit is United States ex rel. Kaplan v. Metropolitan Ambulance & First-Aid Corp. et al., Civil Action No. 00-3010 (E.D.N.Y.).   This settlement is part of the government\\u2019s emphasis on combating health care fraud. One of the most powerful tools in that effort is the False Claims Act, which the Justice Department has used to recover approximately $3 billion since January 2009 in cases involving fraud against federal health care programs.\",\n          \"  WASHINGTON \\u2014 The United States has filed a complaint against Louisiana Generating alleging that the company violated the Clean Air Act by operating the Big Cajun 2 Power Plant, a coal-fired power plant in New Roads, La., without also installing and operating modern pollution control equipment after the generating units had undergone major modifications, the Justice Department and U.S. Environmental Protection Agency (EPA) announced today.\\u00a0   The complaint alleges that for more than a decade, the Big Cajun 2 Power Plant has operated without the best available emissions-control technology required by the New Source Review provisions of the Clean Air Act to control emissions of sulfur dioxide and nitrogen oxide, contributing to formation of fine particulate matter, smog and acid rain.   The lawsuit, filed by the Justice Department on behalf of the EPA, asks the court to order Louisiana Generating to install and operate appropriate air pollution control technology in order to substantially reduce sulfur dioxide and nitrogen oxide emissions from the Big Cajun 2 Power Plant.\\u00a0 The United States also seeks civil penalties up to the maximum amount authorized by law, as well as actions by the energy provider to mitigate the adverse effects alleged to have been caused by the violations.\\u00a0   Coal-fired power plants collectively produce more pollution than any other industry in the United States.\\u00a0 They account for nearly 70 percent of sulfur dioxide emissions each year and 20 percent of nitrogen oxides emissions.\\u00a0 Emissions from coal-fired power plants have detrimental health effects on asthma sufferers, the elderly and children.\\u00a0 Additionally, these emissions have been linked to forest degradation, waterway damage, reservoir contamination and deterioration of stone and copper in buildings.   To combat these adverse effects, the EPA and the Justice Department are pursuing a national initiative, targeting electric utilities whose coal-fired power plants violate the law.\\u00a0 The suit was filed in the U.S. District Court in Baton Rouge, La.\"\n        ],\n        \"semantic_type\": \"\",\n        \"description\": \"\"\n      }\n    },\n    {\n      \"column\": \"date\",\n      \"properties\": {\n        \"dtype\": \"object\",\n        \"num_unique_values\": 2400,\n        \"samples\": [\n          \"2010-10-12T00:00:00-04:00\",\n          \"2013-12-23T00:00:00-05:00\",\n          \"2013-07-02T00:00:00-04:00\"\n        ],\n        \"semantic_type\": \"\",\n        \"description\": \"\"\n      }\n    },\n    {\n      \"column\": \"topics\",\n      \"properties\": {\n        \"dtype\": \"object\",\n        \"semantic_type\": \"\",\n        \"description\": \"\"\n      }\n    },\n    {\n      \"column\": \"components\",\n      \"properties\": {\n        \"dtype\": \"object\",\n        \"semantic_type\": \"\",\n        \"description\": \"\"\n      }\n    }\n  ]\n}"
            }
          },
          "metadata": {},
          "execution_count": 24
        }
      ]
    },
    {
      "cell_type": "code",
      "source": [
        "# view the first few lines of json\n",
        "!head doj_press.json"
      ],
      "metadata": {
        "colab": {
          "base_uri": "https://localhost:8080/"
        },
        "id": "jigFlp1kyUR3",
        "outputId": "a998e6f4-0278-4e2e-c4cb-dc485311a087"
      },
      "execution_count": 25,
      "outputs": [
        {
          "output_type": "stream",
          "name": "stdout",
          "text": [
            "{\"id\": null, \"title\": \"Convicted Bomb Plotter Sentenced to 30 Years\", \"contents\": \"PORTLAND, Oregon. \\u2013 Mohamed Osman Mohamud, 23, who was convicted in 2013 of attempting to use a weapon of mass destruction (explosives) in connection with a plot to detonate a vehicle bomb at an annual Christmas tree lighting ceremony in Portland, was sentenced today to serve 30 years in prison, followed by a lifetime term of supervised release. Mohamud, a naturalized U.S. citizen from Somalia and former resident of Corvallis, Oregon, was arrested on Nov. 26, 2010, after he attempted to detonate what he believed to be an explosives-laden van that was parked near the tree lighting ceremony in Portland.\\u00a0 The arrest was the culmination of a long-term undercover operation, during which Mohamud was monitored closely for months as his bomb plot developed.\\u00a0 The device was in fact inert, and the public was never in danger from the device. At sentencing, United States District Court Judge Garr M. King, who presided over Mohamed\\u2019s 14-day trial, said \\u201cthe intended crime was horrific,\\u201d and that the defendant, even though he was presented with options by undercover FBI employees, \\u201cnever once expressed a change of heart.\\u201d\\u00a0 King further noted that the Christmas tree ceremony was attended by up to 10,000 people, and that the defendant \\u201cwanted everyone to leave either dead or injured.\\u201d\\u00a0 King said his sentence was necessary in view of the seriousness of the crime and to serve as deterrence to others who might consider similar acts.\\u00a0\\u00a0\\u00a0\\u00a0 \\u201cWith today\\u2019s sentencing, Mohamed Osman Mohamud is being held accountable for his attempted use of what he believed to be a massive bomb to attack innocent civilians attending a public Christmas tree lighting ceremony in Portland,\\u201d said John P. Carlin, Assistant Attorney General for National Security.\\u00a0 \\u201cThe evidence clearly indicated that Mohamud was intent on killing as many people as possible with his attack.\\u00a0 Fortunately, law enforcement was able to identify him as a threat, insert themselves in the place of a terrorist that Mohamud was trying to contact, and thwart Mohamud\\u2019s efforts to conduct an attack on our soil.\\u00a0 This case highlights how the use of undercover operations against would-be terrorists allows us to engage and disrupt those who wish to commit horrific acts of violence against the innocent public.\\u00a0 The many agents, analysts, and prosecutors who have worked on this case deserve great credit for their roles in protecting Portland from the threat posed by this defendant and ensuring that he was brought to justice.\\u201d \\u201cThis trial provided a rare glimpse into the techniques Al Qaeda employs to radicalize home-grown extremists,\\u201d said Amanda Marshall, U.S. Attorney for the District of Oregon.\\u00a0 \\u201cWith the sentencing today, the court has held this defendant accountable.\\u00a0\\u00a0 I thank the dedicated professionals in the law enforcement and intelligence communities who were responsible for this successful outcome.\\u00a0 I look forward to our continued work with Muslim communities in Oregon who are committed to ensuring that all young people are safe from extremists who seek to radicalize others to engage in violence.\\u201d\\u00a0 According to the trial evidence, in February 2009, Mohamud began communicating via e-mail with Samir Khan, a now-deceased al Qaeda terrorist who published Jihad Recollections, an online magazine that advocated violent jihad, and who also published Inspire, the official magazine of al-Qaeda in the Arabian Peninsula.\\u00a0 Between February and August 2009, Mohamed exchanged approximately 150 emails with Khan.\\u00a0 Mohamud wrote several articles for Jihad Recollections that were published under assumed names. In August 2009, Mohamud was in email contact with Amro Al-Ali, a Saudi national who was in Yemen at the time and is today in custody in Saudi Arabia for terrorism offenses.\\u00a0 Al-Ali sent Mohamud detailed e-mails designed to facilitate Mohamud\\u2019s travel to Yemen to train for violent jihad.\\u00a0 In December 2009, while Al-Ali was in the northwest frontier province of Pakistan, Mohamud and Al-Ali discussed the possibility of Mohamud traveling to Pakistan to join Al-Ali in terrorist activities. Mohamud responded to Al-Ali in an e-mail: \\u201cyes, that would be wonderful, just tell me what I need to do.\\u201d\\u00a0 Al-Ali referred Mohamud to a second associate overseas and provided Mohamud with a name and email address to facilitate the process. In the following months, Mohamud made several unsuccessful attempts to contact Al-Ali\\u2019s associate.\\u00a0 Ultimately, an FBI undercover operative contacted Mohamud via email under the guise of being an associate of Al-Ali\\u2019s.\\u00a0 Mohamud and the FBI undercover operative agreed to meet in Portland in July 2010.\\u00a0 At the meeting, Mohamud told the FBI undercover operative he had written articles that were published in Jihad Recollections.\\u00a0 Mohamud also said that he wanted to become \\u201coperational.\\u201d\\u00a0 Asked what he meant by \\u201coperational,\\u201d Mohamud said he wanted to put an explosion together, but needed help. According to evidence presented at trial, at a meeting in August 2010, Mohamud told undercover FBI operatives he had been thinking of committing violent jihad since the age of 15.\\u00a0 Mohamud then told the undercover FBI operatives that he had identified a potential target for a bomb: the annual Christmas tree lighting ceremony in Portland\\u2019s Pioneer Courthouse Square on Nov. 26, 2010.\\u00a0 The undercover FBI operatives cautioned Mohamud several times about the seriousness of this plan, noting there would be many people at the event, including children, and emphasized that Mohamud could abandon his attack plans at any time with no shame.\\u00a0 Mohamud indicated the deaths would be justified and that he would not mind carrying out a suicide attack on the crowd. According to evidence presented at trial, in the ensuing months Mohamud continued to express his interest in carrying out the attack and worked on logistics.\\u00a0 On Nov. 4, 2010, Mohamud and the undercover FBI operatives traveled to a remote location in Lincoln County, Oregon, where they detonated a bomb concealed in a backpack as a trial run for the upcoming attack.\\u00a0 During the drive back to Corvallis, Mohamud was asked if was capable looking at all the bodies of those who would be killed during the explosion.\\u00a0 In response, Mohamud noted, \\u201cI want whoever is attending that event to be, to leave either dead or injured.\\u201d\\u00a0 Mohamud later recorded a video of himself, with the assistance of the undercover FBI operatives, in which he read a statement that offered his rationale for his bomb attack.\\u00a0 On Nov. 18, 2010, undercover FBI operatives picked up Mohamud to travel to Portland to finalize the details of the attack.\\u00a0 On Nov. 26, 2010, just hours before the planned attack, Mohamud examined the 1,800 pound bomb in the van and remarked that it was \\u201cbeautiful.\\u201d\\u00a0 Later that day, Mohamud was arrested after he attempted to remotely detonate the inert vehicle bomb rked near the Christmas tree lighting ceremony This case was investigated by the FBI, with assistance from the Oregon State Police, the Corvallis Police Department, the Lincoln County Sheriff\\u2019s Office and the Portland Police Bureau.\\u00a0 The prosecution was handled by Assistant U.S. Attorneys Ethan D. Knight and Pamala Holsinger from the U.S. Attorney\\u2019s Office for the District of Oregon.\\u00a0 Trial Attorney Jolie F. Zimmerman, from the Counterterrorism Section of the Justice Department\\u2019s National Security Division, assisted. # # # 14-1077\", \"date\": \"2014-10-01T00:00:00-04:00\", \"topics\": [], \"components\": [\"National Security Division (NSD)\"]}\n",
            "{\"id\": \"12-919 \", \"title\": \"$1 Million in Restitution Payments Announced to Preserve North Carolina Wetlands\", \"contents\": \"  WASHINGTON \\u2013 North Carolina\\u2019s Waccamaw River watershed will benefit from a $1 million restitution order from a federal court, funding environmental projects to acquire and preserve wetlands in an area damaged by illegal releases of wastewater from a corporate hog farm, announced Ignacia S. Moreno, Assistant Attorney General of the Justice Department\\u2019s Environment and Natural Resources Division; U.S. Attorney for the Eastern District of North Carolina Thomas G. Walker; Director Greg McLeod from the North Carolina State Bureau of Investigation; and Camilla M. Herlevich, Executive Director of the North Carolina Coastal Land Trust.   Freedman Farms Inc. was sentenced in February 2012 to five years of probation and ordered to pay $1.5 million in fines, restitution and community service payments for violating the Clean Water Act when it discharged hog waste into a stream that leads to the Waccamaw River.\\u00a0 William B. Freedman, president of Freedman Farms, was sentenced to six months in prison to be followed by six months of home confinement.\\u00a0 Freedman Farms also is required to implement a comprehensive environmental compliance program and institute an annual training program.   In an order issued on April 19, 2012, the court ordered that the defendants would be responsible for restitution of $1 million in the form of five annual payments starting in January 2013, which the court will direct to the North Carolina Coastal Land Trust (NCCLT).\\u00a0 The NCCLT plans to use the money to acquire and conserve land along streams in the Waccamaw watershed.\\u00a0 The court also directed a $75,000 community service payment to the Southern Environmental Enforcement Network, an organization dedicated to environmental law enforcement training and information sharing in the region.   \\u00a0\\u201cThe resolution of the case against Freedman Farms demonstrates the commitment of the Department of Justice to enforcing the Clean Water Act to ensure the protection of human health and the environment,\\u201d said Assistant Attorney General Moreno.\\u00a0 \\u201cThe court-ordered restitution in this case will conserve wetlands for the benefit of the people of North Carolina.\\u00a0 By enforcing the nation\\u2019s environmental laws, we will continue to ensure that concentrated animal feeding operations (CAFOs) operate without threatening our drinking water, the health of our communities and the environment.\\u201d   \\u201cThis office is committed to doing our part to hold accountable those who commit crimes against our environment, which can cause serious health problems to residents and damage the environment that makes North Carolina such a beautiful place to live and visit,\\u201d said U.S. Attorney Walker.   \\u201cThis case shows what we can accomplish when our SBI agents work closely with their local, state and federal partners to investigate environmental crimes and hold the polluters accountable,\\u201d said Director McLeod.\\u00a0 \\u201cWe\\u2019ll continue our efforts to fight illegal pollution that damages our water and puts the public\\u2019s health at risk.\\u201d   \\u00a0\\u201cThe Waccamaw is unique and wild,\\u201d said Director Herlevich of the North Carolina Coastal Land Trust. \\u201cIts watershed includes some of the most extensive cypress gum swamps in the state, and its headwaters at Lake Waccamaw contain fish that are found nowhere else on Earth.\\u00a0 We appreciate the trust of the court and the U. S. Attorney, and we look forward to using these funds for conservation projects in a river system that is one of our top conservation priorities.\\u201d   According to evidence presented in court, in December 2007 Freedman Farms discharged hog waste into Browder\\u2019s Branch, a tributary to the Waccamaw River that flows through the White Marsh, a large wetlands complex.\\u00a0 Freedman Farms, located in Columbus County, N.C., is in the business of raising hogs for market, and this particular farm had some 4,800 hogs.\\u00a0 The hog waste was supposed to be directed to two lagoons for treatment and disposal.\\u00a0 Instead, hog waste was discharged from Freedman Farms directly into Browder\\u2019s Branch.\\u00a0   The Clean Water Act is a federal law that makes it illegal to knowingly or negligently discharge a pollutant into a water of the United States.\\u00a0   The Freedman case was investigated by the U.S. Environmental Protection Agency (EPA) Criminal Investigation Division, the U.S. Army Corps of Engineers and the North Carolina State Bureau of Investigation, with assistance from the EPA Science and Ecosystem Support Division.\\u00a0 The case was prosecuted by Assistant U.S. Attorney J. Gaston B. Williams of the Eastern District of North Carolina and Trial Attorney Mary Dee Carraway of the Environmental Crimes Section of the Justice Department\\u2019s Environment and Natural Resources Division.   The North Carolina Coastal Land Trust is celebrating its 20th anniversary of saving special lands in eastern North Carolina. The organization has protected nearly 50,000 acres of lands with scenic, recreational, historic and ecological values. North Carolina Coastal Land Trust has saved streams and wetlands that provide clean water, forests that are havens for wildlife, working farms that provide local food and nature parks that everyone can enjoy.\\u00a0 More information about the Coastal Land Trust is available at www.coastallandtrust.org.\", \"date\": \"2012-07-25T00:00:00-04:00\", \"topics\": [], \"components\": [\"Environment and Natural Resources Division\"]}\n",
            "{\"id\": \"11-1002\", \"title\": \"$1 Million Settlement Reached for Natural Resource Damages at Superfund Site in Massachusetts\", \"contents\": \"      BOSTON\\u2013 A $1-million settlement has been reached for natural resource damages (NRD) at the Blackburn & Union Privileges Superfund Site in Walpole, Mass., the Departments of Justice and Interior (DOI), and the Office of the Massachusetts Attorney General announced today.        \\u00a0       The Blackburn & Union Privileges Superfund Site includes 22 acres of contaminated land and water in Walpole. The contamination resulted from the operations of various industrial facilities dating back to the 19th century that exposed the site to asbestos, arsenic, lead and other hazardous substances.        \\u00a0       The private parties involved in the settlement include two former owners and operators of the site, W.R. Grace & Co.\\u2013 Conn. and Tyco Healthcare Group LP, as well as the current owners, BIM Investment Corp. and Shaffer Realty Nominee Trust.       \\u00a0       From about 1915 to 1936, a predecessor of W.R. Grace manufactured asbestos brake linings and clutch linings on a large portion of the property. From 1946 to about 1983, a predecessor of Tyco Healthcare operated a cotton fabric manufacturing business, which used caustic solutions, on a portion of the property.       \\u00a0       In a 2010 settlement with U.S. Environmental Protection Agency (EPA), the four private parties agreed to perform a remedial action to clean up the site at an estimated cost of $13 million. The consent decree lodged today resolves both state and federal NRD liability claims; it requires the parties to pay $1,094,169.56 to the state and federal natural resource trustees, the Massachusetts Executive Office of Energy and Environmental Affairs (EEA) and DOI, for injuries to ecological resources including groundwater and wetlands, which provide habitat for waterfowl and wading birds, including black ducks and great blue herons.  The trustees will use the settlement funds for natural resource restoration projects in the area.       \\u00a0       \\u201cThis settlement demonstrates our commitment to recovering damages from the parties responsible for injury to natural resources, in partnership with state trustees,\\u201d said Bruce Gelber, Acting Deputy Assistant Attorney General of the Justice Department\\u2019s Environment and Natural Resources Division.       \\u00a0       \\u201cThe citizens of Walpole have had to live with the environmental impact of this contamination for many years,\\u201d Attorney General Martha Coakley said. \\u201cWe are pleased that today\\u2019s agreement will not only require the responsible parties to reimburse taxpayer dollars, but will also provide funding to begin restoring or replacing the wetland and other natural resources.\\u201d         \\u00a0       The consent decree was lodged in the U.S. District Court for Massachusetts.     A portion of the funds, $300,000, will be distributed to the EEA-sponsored groundwater restoration projects; $575,000 will be used for ecological restoration projects jointly sponsored by EEA and the U.S. Fish and Wildlife Service (FWS).       \\u00a0       In addition, $125,000 will go for projects jointly sponsored by EEA and FWS that achieve both ecological and groundwater restoration; $57,491.34 will be allocated for reimbursement for the FWS\\u2019s assessment costs; and $36,678.22 will be distributed as reimbursement for the commonwealth\\u2019s assessment costs.       \\u201cThis settlement provides the means for a range of projects designed to compensate the public for decades of groundwater and other ecological damage at this site.\\u00a0 I encourage local citizens and organizations to become engaged in the public process that will take place as we solicit, take comment on, and choose these projects in the months ahead,\\u201d said Energy and Environmental Affairs Secretary Richard K. Sullivan Jr., who serves as the Commonwealth\\u2019s Natural Resources Damages trustee.       \\u201cThis settlement will help restore habitat for fish and wildlife in the Neponset River watershed,\\u201d said Tom Chapman of the FWS New England Field Office. \\u201cWe look forward to working with the commonwealth and local stakeholders to implement restoration.\\u201d       \\u00a0       \\u201cMore than 100 years-worth of industrial activities at this site caused major environmental contamination to the Neponset River, nearby wetlands and to groundwater below the site,\\u201d said Commissioner Kenneth Kimmell of the Massachusetts Department of Environmental Protection (MassDEP), which will staff the Trustee Council for the Commonwealth. \\u201cWe will ensure that the community and the public will be active participants in the process to use these NRD funds to restore the injured natural resources.\\u201d        \\u00a0       Under the federal Comprehensive Environmental Response, Compensation and Liability Act, EEA and DOI, acting through the FWS, are the designated state and federal natural resource Trustees for the site. The site has been listed on the EPA\\u2019s National Priorities List since 1994.        The consent decree is subject to a public comment period and court approval. A copy of the consent decree and instructions about how to submit comments is available on www.usdoj.gov/enrd/Consent_Decrees.html  .       \\u00a0       After the consent decree is approved, EEA and FWS will develop proposed restoration plans to use the settlement funds for restoration projects. The proposed restoration plans will also be made available to the public for review and comment.        \\u00a0       Assistant Attorney General Matthew Brock of Massachusetts Attorney General Coakley's Environmental Protection Division handled this matter.  Attorney Jennifer Davis of MassDEP, Attorney Anna Blumkin of EEA and MassDEP\\u2019s NRD Coordinator Karen Pelto also worked on this settlement.\", \"date\": \"2011-08-03T00:00:00-04:00\", \"topics\": [], \"components\": [\"Environment and Natural Resources Division\"]}\n",
            "{\"id\": \"10-015\", \"title\": \"10 Las Vegas Men Indicted \\r\\nfor Falsifying Vehicle Emissions Tests\", \"contents\": \"  WASHINGTON\\u2014A federal grand jury in Las Vegas today returned indictments against 10 Nevada-certified emissions testers for falsifying vehicle emissions test reports, the Justice Department announced.   Each defendant faces one felony Clean Air Act count for falsifying reports between November 2007 and May 2009. The number of falsifications varied by defendant, with some defendants having falsified approximately 250 records, while others falsified more than double that figure. One defendant is alleged to have falsified over 700 reports.   The individuals indicted include:\\u00a0    Escudero resides in Pahrump, Nev. All other individuals are from Clark County, Nev.    The 10 defendants are alleged to have engaged in a practice known as \\\"clean scanning\\\" vehicles. The scheme involved entering the Vehicle Identification Number (VIN) for a vehicle that would not pass the emissions test into the computerized system, then connecting a different vehicle the testers knew would pass the test. These falsifications were allegedly performed for anywhere from $10 to $100 over and above the usual emissions testing fee.    The U.S. Environmental Protection Agency (EPA), under the Clean Air Act, requires the state of Nevada to conduct vehicle emissions testing in certain areas because the areas exceed national standards for carbon monoxide and ozone. Las Vegas is currently required to perform emissions testing.    To obtain a registration renewal, vehicle owners bring the vehicles to a licensed inspection station for testing. The emissions inspector logs into a computer to activate the system by using a unique password issued to the emissions inspector. The emissions inspector manually inputs the vehicle\\u2019s VIN to identify the tested vehicle, then connects the vehicle for model year 1996 and later to an onboard diagnostics port connected to an analyzer. The analyzer downloads data from the vehicle\\u2019s computer, analyzes the data and provides a \\\"pass\\\" or \\\"fail\\\" result. The pass or fail result and vehicle identification data are reported on the Vehicle Inspection Report. It is a crime to knowingly alter or conceal any record or other document required to be maintained by the Clean Air Act.\\u00a0    \\\"Falsifications of vehicle emissions testing, such as those alleged in the indictments unsealed today, are serious matters and we intend to use all of our enforcement tools to stop this harmful practice. These actions undermine a system that is designed to reduce air pollutants including smog and provide better air quality for the citizens of Nevada,\\\" said Ignacia S. Moreno, Assistant Attorney General for the Justice Department\\u2019s Environment and Natural Resources Division.    \\\"The residents of Nevada deserve to know that the vast majority of licensed vehicle emission inspectors are not corrupt and are not circumventing emission testing procedures,\\\" said U.S. Attorney Bogden. \\\"These indictments should serve as a clear warning to offenders that the Department of Justice will prosecute you if you make fraudulent statements and reports concerning compliance with the federal Clean Air Act.\\\"    \\\"Lying about car emissions means dirtier air, which is especially of concern in areas like Las Vegas that are already experiencing air quality problems,\\\" said Cynthia Giles, Assistant Administrator for Enforcement and Compliance Assurance at EPA. \\\"We will take aggressive action to ensure communities have clean air.\\\"    The maximum penalty for the felony violations contained in the indictments includes up to two years in prison and a fine of up to $250,000.    An indictment is merely an accusation, and a defendant is presumed innocent unless and until proven guilty in a court of law.    The case was investigated by the EPA, Criminal Investigation Division; and the Nevada Department of Motor Vehicles Compliance Enforcement Division. The case is being prosecuted by the U.S. Attorney\\u2019s Office for the District of Nevada and the Justice Department\\u2019s Environmental Crimes Section.\", \"date\": \"2010-01-08T00:00:00-05:00\", \"topics\": [], \"components\": [\"Environment and Natural Resources Division\"]}\n",
            "{\"id\": \"18-898\", \"title\": \"$100 Million Settlement Will Speed Cleanup Work at Centredale Manor Superfund Site in North Providence, R.I.\", \"contents\": \"The U.S. Department of Justice, the U.S. Environmental Protection Agency (EPA), and the Rhode Island Department of Environmental Management (RIDEM) announced today that two subsidiaries of Stanley Black & Decker Inc.\\u2014Emhart Industries Inc. and Black & Decker Inc.\\u2014have agreed to clean up dioxin contaminated sediment and soil at the Centredale Manor Restoration Project Superfund Site in North Providence and Johnston, Rhode Island.\\u00a0 \\u201cWe are pleased to reach a resolution through collaborative work with the responsible parties, EPA, and other stakeholders,\\u201d said\\u00a0Acting Assistant Attorney General Jeffrey H. Wood for the Justice Department's\\u00a0Environment and Natural Resources Division . \\u201cToday\\u2019s settlement ends protracted litigation and allows for important work to get underway to restore a healthy environment for citizens living in and around the Centredale Manor Site and the Woonasquatucket River.\\u201d \\u201cThis settlement demonstrates the tremendous progress we are achieving working with responsible parties, states, and our federal partners to expedite sites through the entire Superfund remediation process,\\u201d said EPA Acting Administrator Andrew Wheeler. \\u201cThe Centredale Manor Site has been on the National Priorities List for 18 years; we are taking charge and ensuring the Agency makes good on its promise to clean it up for the betterment of the environment and those communities affected.\\u201d \\u201cSuccessfully concluding this settlement paves the way for EPA to make good on our commitment to aggressively pursue cleaning up the Centredale Manor Superfund Site,\\u201d said EPA New England Regional Administrator Alexandra Dunn. \\u201cWe are excited to get to work on the cleanup at this site, and get it closer to the goal of being fully utilized by the North Providence and Johnston communities.\\u201d \\u201cWe are pleased that the collective efforts of the State of Rhode Island, EPA, and DOJ in these negotiations have concluded in this major milestone toward the cleanup of the Centredale Manor Restoration Superfund site and are consistent with our long-standing efforts to make the polluter pay,\\u201d said RIDEM Director Janet Coit. \\u201cThe settlement will speed up a remedy that protects public health and the river environment, and moves us closer to the day that we can reclaim recreational uses of this beautiful river resource.\\u201d The settlement, which includes cleanup work in the Woonasquatucket River (River) and bordering residential and commercial properties along the River, requires the companies to perform the remedy selected by EPA for the Site in 2012, which is estimated to cost approximately $100 million, and resolves longstanding litigation. The cleanup remedy includes excavation of contaminated sediment and floodplain soil from the Woonasquatucket River, including from adjacent residential properties. Once the cleanup remedy is completed, full access to the Woonasquatucket River should be restored for local citizens. The cleanup will be a step toward the State\\u2019s goal of a fishable and swimmable river. The work will also include upgrading caps over contaminated soil in the peninsula area of the Site that currently house two high-rise apartment buildings. The settlement also ensures that the long-term monitoring and maintenance of the site, as directed in the remedy, will be implemented to ensure that public health is protected.\\u00a0 Under the settlement, Emhart and Black & Decker will reimburse EPA for approximately $42 million in past costs incurred at the Site. The companies will also reimburse EPA and the State of Rhode Island for future costs incurred by those agencies in overseeing the work required by the settlement. The settlement will also include payments on behalf of two federal agencies to resolve claims against those agencies. These payments, along with prior settlements related to the Site, will result in a 100 percent recovery for the United States of its past and future response costs related to the Site. Litigation related to the Site has been ongoing for nearly eight years. While the Federal District Court found Black & Decker and Emhart to be liable for their hazardous waste and responsible to conduct the cleanup of the Site, it had also ruled that EPA needed to reconsider certain aspects of that cleanup. EPA appealed the decision requiring it to reconsider aspects of the cleanup. This settlement, once entered by the District Court, will resolve the litigation between the United States, Rhode Island, and Emhart and Black and Decker, allowing the cleanup of the Site to begin. The Site spans a one and a half mile stretch of the Woonasquatucket River and encompasses a nine-acre peninsula, two ponds and a significant forested wetland. From the 1940s to the early 1970s, Emhart\\u2019s predecessor operated a chemical manufacturing facility on the peninsula and used a raw material that was contaminated with 2,3,7,8-tetrachlorodibenzo-p-dioxin, a toxic form of dioxin. The Site property was also previously used by a barrel refurbisher. Elevated levels of dioxins and other contaminants have been detected in soil, groundwater, sediment, surface water and fish.\\u00a0 The Site was added to the National Priorities List (NPL) in 2000, and in December 2017, EPA included the Centredale Manor Restoration Project Superfund Site on a list of Superfund sites targeted for immediate and intense attention. Several short-term actions were previously performed at the Site to address immediate threats to the residents and minimize potential erosion and downstream transport of contaminated soil and sediment. This settlement is the latest agreement EPA has reached since the Site was listed on the NPL. Prior agreements addressed the performance and recovery of costs for the past environmental investigations and interim cleanup actions from Emhart, the barrel reconditioning company, the current owners of the peninsula portion of the Site, and other potentially responsible parties. The Consent Decree, lodged in the U.S. District Court of Rhode Island, will be posted in the Federal Register and available for public comment for a period of 30 days. The Consent Decree can be viewed on the Justice Department website:\\u00a0www.justice.gov/enrd/Consent_Decrees.html.\\u00a0 EPA information on the Centredale Manor Superfund Site:\\u00a0www.epa.gov/superfund/centredale.\", \"date\": \"2018-07-09T00:00:00-04:00\", \"topics\": [\"Environment\"], \"components\": [\"Environment and Natural Resources Division\"]}\n",
            "{\"id\": null, \"title\": \"105 Individuals Indicted for Violating the RICO Act in Puerto Rico \", \"contents\": \"A nine count federal indictment was unsealed today in the District of Puerto Rico charging 105 defendants with racketeering, drug trafficking, drive-by shooting murders and related firearm offenses, announced U.S. Attorney Rosa Emilia Rodr\\u00edguez-V\\u00e9lez for the District of Puerto Rico. \\u00a0The Bureau of Alcohol, Tobacco, Firearms and Explosives (ATF) and the Puerto Rico Police Department (PRPD)-San Juan and Carolina Strike Forces were in charge of the investigation, with the assistance of PRPD\\u2019s Major Crimes Unit. The indictment alleges that the defendants are part of a criminal organization known as La Rompe ONU.\\u00a0 Through its criminal activities \\u201cLa Rompe ONU\\u201d enriched its members and maintained and increased the power of the organization. \\u00a0Members of La Rompe ONU would sell crack, cocaine, heroin and marihuana in public housing projects, including: Jardines del Para\\u00edso, Villa Andaluc\\u00eda, Alturas de Cupey, Jardines de Cupey, Brisas de Cupey, Los Claveles, Nuestra Se\\u00f1ora de Covodonga, Los Lirios, Jardines de Monte Hatillo, Jardines de Campo Rico, Jardines de Berwind, San Mart\\u00edn, Monte Park and Villa Lomas Verdes Public Housing Projects; as well as El Polvor\\u00edn Ward, Mango Sector and other surrounding areas within the municipalities of San Juan, Trujillo Alto and Carolina, PR. \\u00a0Moreover, members of the organization used violence and intimidation, including murder, to increase the power, territory and profits of La Rompe ONU. Members of La Rompe ONU had different roles in order to further the goals of the enterprise. \\u00a0As alleged in the indictment, 35 leaders/drug point owners/drug point administrators, who directed and supervised the organization\\u2019s criminal activities; 25 enforcers; eight suppliers; 11 runners; 25 sellers; and one drug processor. According to the indictment, as part of the racketeering conspiracy, the organization committed 12 murders, including three massacres.\\u00a0 Enforcers of La Rompe ONU carried out the murders of the following individuals: On Feb. 8, 2011, enforcers shot and killed David Gonz\\u00e1lez-Reyes, aka \\u201cChispa.\\u201d On May 10, 2011, enforcers shot and killed Ricco Luis D\\u00e1vila-D\\u00edaz. On June 25, 2011, during a drive-by shooting, enforcers shot and killed Edwin D\\u00edaz-Cruz, Hervin Valcarcel-Mart\\u00ednez aka \\u201cPrieto,\\u201d Javier Catala-Berm\\u00fadez, and Orlando Mel\\u00e9ndez-Villegas. This massacre is known as the Tortuguero Massacre. On July 20, 2011, during a drive-by shooting, enforcers shot and killed Santos D\\u00edaz-Camacho aka \\u201cJoel Bazooka,\\u201d Juan Rosario-Mercado aka \\u201cTo\\u00f1ito,\\u201d and Kevin Soto-Rom\\u00e1n aka \\u201cEl Gordo.\\u201d This massacre is known as the Paseos Massacre. On Aug. 28, 2012, during a drive-by shooting, enforcers shot and killed Luis Ojeda-Andino aka \\u201cPollo,\\u201d Luis Vel\\u00e1zquez-Aquino aka \\u201cUrraca\\u201d and Jos\\u00e9 Ayala-Garc\\u00eda. This massacre is known as the Jardines de Cupey Massacre. According to the indictment, 69 of the 105 defendants are charged with using and carrying firearms during and in relation to a drug trafficking crime. Thirty-two firearms were seized from the defendants during the investigation, and they face a forfeiture allegation of $82 million. \\u201cThe historic indictment unsealed today shows our continued efforts to dismantle dangerous criminal organizations operating in our communities,\\u201d said U.S. Attorney Rodr\\u00edguez-V\\u00e9lez. \\u00a0\\u201cWe remain undeterred in our commitment to ensure safety and seek justice for victims of violent crimes in Puerto Rico.\\u00a0 \\u2018La Rompe ONU\\u2019 will no longer terrorize law abiding citizens in Puerto Rico. \\u00a0We will continue to use all the tools at our disposal to build solid cases against these individuals, and bring them to justice.\\u201d \\u201cToday\\u2019s arrests demonstrate law enforcement\\u2019s commitment to dismantle violent drug trafficking gangs that are affecting the quality of life of our law abiding citizens in the community,\\u201d said Special Agent in Charge Hugo Barrera for ATF\\u2019s Miami Field Division.\\u00a0 \\u201cThe key to this fight is bringing the resources of all levels of government to empower law enforcement to target organized groups of violent criminals with enhanced punishment and criminal penalties through the utilization of federal statutes, such as, the Violent Crime in Aiding and Abetting Racketeering statute. \\u00a0This sends a clear message that our community will not tolerate the heinous activity perpetrated by gangs like \\u2018La Rompe ONU\\u2019 and evidences our commitment to work together to dismantle violent street gangs.\\u201d The defendants are: Josu\\u00e9 V\\u00e1zquez-Carrasquillo aka \\u201cMayito/Mayo/El Father,\\u201d Pedro Vigio-Aponte aka \\u201cPedrito/Pedrito He-Man/Pello/Pedrito Trauma,\\u201d Frankie Rosa-Calder\\u00f3n aka\\u00a0 \\u201cAnky/El Negro/Frank,\\u201d Luis F. Alicea-Col\\u00f3n aka \\u201cTrenza/Enano/Luis Trenza,\\u201d Miguel V\\u00e1zquez-Mart\\u00ednez aka \\u201cMiguelo/Radio/Miclo/Bj,\\u201d Rub\\u00e9n Cotto-Andino aka \\u201cRub\\u00e9n El Negro,\\u201d Ernesto Morales-Castro aka \\u201cNestor/Los Gorditos,\\u201d Christian Morales-Castro aka \\u201cBimbo/Los Gorditos,\\u201d Reyfrank Qui\\u00f1ones-Carri\\u00f3n aka \\u201cPelotero,\\u201d Kelvin D. Morales-Cintr\\u00f3n, Ismael M\\u00e9ndez-Arroyo aka \\u201cBolillo,\\u201d Michael Mu\\u00f1iz-S\\u00e1nchez, Jonathan P\\u00e9rez-Rodr\\u00edguez aka \\u201cPerra/Perreke,\\u201d Jos\\u00e9 L. Ortiz-Aguirre aka \\u201cCheo/Cheo Cede\\u00f1o,\\u201d Reinaldo Rodr\\u00edguez-Mart\\u00ednez aka \\u201cPitbull,\\u201d William Ortiz-Aguirre aka \\u201cPlaya/Play,\\u201d Kidanny Figueroa-Osorio aka \\u201cSony/Sonata,\\u201d Jos\\u00e9 L. Soto-Rivera aka \\u201cLuisito/Scary,\\u201d Jos\\u00e9 E. Mojica-Robles aka \\u201cPapito Mojica,\\u201d Victor M. Rodr\\u00edguez-Torres aka \\u201cCuca/Cucaracha/Papotin,\\u201d Rafael Andino-Ojeda aka \\u201cRafa/Rafa Colgate/Boca Chula,\\u201d Myles J. Rom\\u00e1n-Adorno, Guillermo S\\u00e1nchez-Mora aka \\u201cGuillo,\\u201d Emanuel Zabala-P\\u00e9rez aka \\u201cPunky/Dalmata,\\u201d Alexander Rivera-Carri\\u00f3n aka \\u201cLechon,\\u201d David E. Rodr\\u00edguez-Castro, Rafael Hiraldo-Alejandro aka \\u201cBolillo,\\u201d Alexis Cartagena-Gerena aka \\u201cPollo,\\u201d \\u00c1ngel L. Soto-Ramos aka \\u201cHuesito,\\u201d Oscar A. Calvi\\u00f1o-Acevedo aka \\u201cAlex,\\u201d Jes\\u00fas De-Jes\\u00fas-Col\\u00f3n aka \\u201cRomulo,\\u201d Jos\\u00e9 L. M\\u00e9ndez-De-Jes\\u00fas aka \\u201cSonso/Nariz,\\u201d William Zambrana-Sierra aka \\u201cW/Willito,\\u201d Edgar Gonz\\u00e1lez-Rivera aka \\u201cEggy,\\u201d Arnaldo Alicea-Col\\u00f3n aka \\u201cNaldito,\\u201d Xavier Castro-Vega aka \\u201cRaton,\\u201d Carlos M. Guerrero-Castro aka \\u201cCarlitos El Negro/Marcel,\\u201d Analdi Tanco-Moreno aka \\u201cKimbito,\\u201d Orlando J. Santana aka \\u201cFino,\\u201d Luis F. Rodr\\u00edguez-M\\u00e1rquez aka \\u201cCheykin,\\u201d Jes\\u00fas E. Montalvan-D\\u00edaz aka \\u201cLuis Garcia-Diaz/Willy Wonka,\\u201d Amaury M\\u00e9ndez-Rosado aka \\u201cBoty,\\u201d Luis Yanyore-Pizarro aka \\u201cKimbo/Bauncer/Jose Boria-Millan,\\u201d Fnu Lnu aka \\u201cEziel,\\u201d Luis Mart\\u00ednez-Nieves aka \\u201cRaya/Trenza,\\u201d Michael Rivera-Rodr\\u00edguez, Alvin A. Cabezas-Cintr\\u00f3n aka \\u201cArdilla,\\u201d Jaime M. Semiday-P\\u00e9rez, Kenny O. Pacheco aka \\u201cKeny/Bolin,\\u201d Roberto Fuentes-Pacheco aka \\u201cJunito Parcha,\\u201d Roger Falu-Diaz aka \\u201cGua,\\u201d F\\u00e9lix A. Malave-Torres aka \\u201cCholon,\\u201d Edgardo Luna-L\\u00f3pez aka \\u201cPiri/Enano,\\u201d Jessy J. Mel\\u00e9ndez-Hern\\u00e1ndez aka\\u00a0 \\u201cKoby/El Negro/Lely,\\u201d Denzel Rodr\\u00edguez-Caraballo, Abimael Cruz-Rodr\\u00edguez aka \\u201cLindo/Feo/Metra,\\u201d \\u00c1ngel L. Cotto-Negr\\u00f3n aka \\u201cQuija/Kija,\\u201d Jos\\u00e9 E. Rivera-Maldonado aka \\u201cCamon,\\u201d Fnu Lnu aka \\u201cGaby,\\u201d Jos\\u00e9 D. Resto-Figueroa aka \\u201cTego,\\u201d Orlando Padilla-Ayala aka \\u201cOreo/Willito/Angel M. Santiago-Ayala,\\u201d Kernis Rodr\\u00edguez-Rivera aka \\u201cSosa,\\u201d Walter D. Muller-Col\\u00f3n aka \\u201cVampy/Bolo,\\u201d Wilfredo Ruiz aka \\u201cFreddy,\\u201d Carlos E. Brioso-Collantes aka \\u201cEl Barber/Wiso El Barber,\\u201d Carlos Vel\\u00e1zquez-Fontanez aka \\u201cPirin,\\u201d Jonathan Figueroa-Catinchi aka \\u201cKatinchi,\\u201d Iram I. Santander-Zulueta aka \\u201cCubano,\\u201d Charlie J. Fournier-Collazo aka\\u00a0 \\u201cChiry,\\u201d Edgardo R. Ruano-Ch\\u00e9vere aka \\u201cMasacre/Masa,\\u201d Francisco J. Gonz\\u00e1lez-Camacho aka \\u201cLento,\\u201d Nestor R. Concepci\\u00f3n-Rivera aka \\u201cNesti/Kilate,\\u201d Ivette V\\u00e1zquez-Droz aka \\u201cIve/Precious Moments,\\u201d Billy Villanueva-Carrasquillo aka \\u201cMeca/Billy Meca,\\u201d Jayfrank Qui\\u00f1ones-Carri\\u00f3n, F\\u00e9lix Rodr\\u00edguez-Rodr\\u00edguez aka \\u201cCorrea/Baloncelista/El Indio,\\u201d Daniel O. Mart\\u00ednez-V\\u00e9lez aka \\u201cBerto,\\u201d Luis F. D\\u00edaz-Tineo aka \\u201cPipen/Pipe,\\u201d Josu\\u00e9 O. Figueroa-Rodr\\u00edguez, Ram\\u00f3n Vicenty-Rivera aka \\u201cPoke,\\u201d Luis E. Guadalupe-Camacho aka \\u201cYaya/Yayi/Ardilla,\\u201d Julio N. Matos-S\\u00e1nchez aka \\u201cJulio Mara\\u00f1a,\\u201d Reynaldo Gonz\\u00e1lez-Zayas aka \\u201cCuto,\\u201d Bryan Mart\\u00ednez aka \\u201cFat Boy,\\u201d Damian Fern\\u00e1ndez-Jorge, Jos\\u00e9 A. Fournier-Collazo aka \\u201cSemilla,\\u201d Kevin Castro-Vega, Juan Guadalupe-Delgado aka \\u201cBocao,\\u201d David Garc\\u00eda-Franco aka \\u201cDavid Nota,\\u201d Giovani Justiniano-D\\u00edaz aka \\u201cZegueta,\\u201d Christian V\\u00e1zquez-Hern\\u00e1ndez aka \\u201cChapa,\\u201d James Steele-Torres aka \\u201cNegro Steele,\\u201d Nilda Santiago-Espinosa aka \\u201cKaty,\\u201d Alex Santiago-Crespo aka \\u201cPapo Swing/Ale,\\u201d Francisco Vargas-S\\u00e1nchez aka \\u201cMara\\u00f1a,\\u201d Carlos Miranda aka \\u201cEo,\\u201d Ram\\u00f3n Andino-Peguero aka \\u201cMono,\\u201d Victor Alfonso-Jorge aka \\u201cNano,\\u201d H\\u00e9ctor J. Cruz-Vargas, aka \\u201cPunky,\\u201d Yamil Arrizmendi-Santana, aka \\u201cEl Mono,\\u201d Robert D. P\\u00e9rez-N\\u00fa\\u00f1ez aka \\u201cMinino,\\u201d Anthony Espada-Col\\u00f3n aka \\u201cOreo/Apu,\\u201d Daniel De-Jes\\u00fas-D\\u00edaz aka \\u201cPaleta,\\u201d Luis E. Espada-Col\\u00f3n aka \\u201cZona\\u201d and Astrid J. Mart\\u00ednez-Valentin aka \\u201cLa Jefa.\\u201d Assistant U.S. Attorneys Alberto L\\u00f3pez-Rocafort and Victor O. Acevedo-Hern\\u00e1ndez are in charge of the prosecution of the case. \\u00a0They were assisted by attorney from the U.S. Department of Justice\\u2019s Capital Crimes Section and Organized Crime and Gang Section. \\u00a0ATF and PRPD were in charge of the investigation. \\u00a0Approximately 700 agents from federal and commonwealth authorities participated in the arrests. If convicted, the defendants face up to life in prison. \\u00a0Eighteen of the defendants who participated in the murders included in the indictment are eligible for the death penalty.\\u00a0 Indictments contain only charges and are not evidence of guilt.\\u00a0 Defendants are presumed to be innocent until and unless proven guilty.\", \"date\": \"2015-07-22T00:00:00-04:00\", \"topics\": [], \"components\": [\"USAO - Puerto Rico\"]}\n",
            "{\"id\": \"14-032\", \"title\": \"12th Former Officer at Roxbury Correctional Institution Pleads Guilty and Admits Assault of an Inmate\", \"contents\": \"Michael Morgan, formerly an officer at Roxbury Correctional Institution (RCI) in Hagerstown, Md., pleaded guilty today to assaulting an inmate on March 9, 2008, announced the Justice Department and the U.S. Attorney\\u2019s Office for the District of Maryland.\\u00a0\\u00a0 Morgan is the 12th former RCI officer to enter a plea in connection with the federal investigation into a series of assaults that the inmate, identified by the initials K.D., suffered at RCI on March 8-9, 2008.\\u00a0 According to court documents filed in connection with his guilty plea, Morgan admitted that he assaulted K.D. by kicking the inmate in the area of his groin.\\u00a0 Morgan acknowledged that he kicked K.D. in order to punish him for his prior misconduct.\\u00a0 Morgan also admitted that he lied under oath in 2008, when he falsely denied both assaulting K.D. and having any knowledge of an assault of the inmate. \\u00a0 \\u201cMr. Morgan has admitted that, as a correctional officer, he \\u2013 and others \\u2013 violated a person\\u2019s constitutional rights and then lied to cover up their on-duty misconduct,\\u201d said Acting Assistant Attorney General Jocelyn Samuels for the Civil Rights Division.\\u00a0 \\u201cThe Justice Department will continue to vigorously prosecute officers who use their official position to commit and to cover up violations of federal criminal law.\\u201d \\u00a0 Morgan faces a statutory maximum penalty of 10 years in prison.\\u00a0 Sentencing is set for April 23, 2014, before U.S. District Judge James K. Bredar. \\u00a0 In related cases before Judge Bredar, former RCI Correctional Officers Ryan Lohr, Dustin Norris, Philip Mayo, Jeremy McCusker, Walter Steele, Lanny Harris, Keith Morris, Tyson Hinckle and Reginald Martin, and former RCI Lieutenants Robert Harvey and Edwin Stigile each has entered a guilty plea.\\u00a0 Two former RCI officers previously entered guilty pleas in state court.\\u00a0\\u00a0\\u00a0 \\u00a0 Three current or former RCI officers still face federal charges in connection with this incident.\\u00a0 These officers are innocent until proven guilty in a court of law. \\u00a0 The investigation by the Frederick Resident Agency of the FBI is ongoing.\\u00a0 The case is being prosecuted by Special Litigation Counsel Forrest Christian and Trial Attorneys Sanjay Patel and Christine Siscaretti of the Civil Rights Division of the Department of Justice, with the assistance of Michael Cunningham of the U.S. Attorney\\u2019s Office for the District of Maryland.\", \"date\": \"2014-01-10T00:00:00-05:00\", \"topics\": [], \"components\": [\"Civil Rights Division\", \"Civil Rights - Criminal Section\"]}\n",
            "{\"id\": \"14-1412\", \"title\": \"14 Indicted in Connection with New England Compounding Center and Nationwide Fungal Meningitis Outbreak\", \"contents\": \"A 131-count criminal indictment was unsealed today in Boston in connection with the 2012 nationwide fungal meningitis outbreak, the Justice Department announced.\\u00a0 Barry J. Cadden, owner and head pharmacist of New England Compounding Center (NECC) and NECC\\u2019s supervisory pharmacist Glenn A. Chin were charged with 25 acts of second-degree murder in Florida, Indiana, Maryland, Michigan, North Carolina, Tennessee and Virginia.\\u00a0\\u00a0\\u00a0 The outbreak was caused by contaminated vials of preservative-free methylprednisolone acetate (MPA) manufactured by NECC, located in Framingham, Massachusetts.\\u00a0 The U.S. Centers for Disease Control and Prevention (CDC) reported that 751 patients in 20 states were diagnosed with a fungal infection after receiving injections of NECC\\u2019s MPA.\\u00a0 Of those 751 patients, the CDC reported that 64 patients in nine states died.\\u00a0 Twelve other individuals, all associated with NECC, including six other pharmacists, the director of operations, the national sales director, an unlicensed pharmacy technician, two of NECC\\u2019s owners, and one other individual were charged with additional crimes including racketeering, mail fraud, conspiracy, contempt, structuring, and violations of the Food, Drug and Cosmetic Act. \\u201cAs alleged in the indictment,\\u00a0these employees\\u00a0knew\\u00a0they were\\u00a0producing their medication\\u00a0in an unsafe manner and in insanitary conditions, and authorized it to be shipped out anyway, with fatal results,\\u201d said Attorney General Eric Holder.\\u00a0\\u00a0\\u201cWith\\u00a0the indictment and these arrests, the Department of Justice is taking decisive action to hold\\u00a0these\\u00a0individuals accountable for their alleged participation in grievous wrongdoing.\\u00a0 Actions like the ones alleged in this case display not only a reckless disregard for health and safety regulations, but also an extreme and appalling indifference to human life.\\u00a0 American consumers have a right to know that their medications are safe to use, and this case proves that the Department of Justice will always stand resolute to ensure that right, to protect the American people, and to hold wrongdoers accountable to the fullest extent of the law.\\u201d \\u201cEvery patient receiving treatment deserves the peace of mind and knowledge that the medicine they are receiving is safe,\\u201d said Acting Associate Attorney General Stuart Delery.\\u00a0 \\u201cWhen people and companies violate that trust and break the law, the consequences to patients and their families can be catastrophic.\\u00a0 That\\u2019s why it remains a priority of the Department to use every tool at our disposal to protect patients\\u2019 safety and hold bad actors accountable.\\u201d \\u201cThose who produce and sell the drugs that we take have a special responsibility to make sure that they prepare those drugs under suitable conditions, and that what leaves their facilities is safe,\\u201d said Acting Assistant Attorney General Joyce R. Branda for the Justice Department\\u2019s Civil Division.\\u00a0 \\u201cThe indictment charges that the defendants\\u2019 conduct in this case was corrupt and carried out with a complete disregard to the public\\u2019s health.\\u00a0 The department\\u2018s Consumer Protection Branch along with our law enforcement partners is steadfast in our commitment to use every criminal and civil tool at our disposal to hold accountable those who are willing to put our lives at risk in the reckless pursuit of their profits.\\u201d \\u201cEver since the outbreak occurred, we have been committed to bringing to justice the individuals responsible for the deaths and suffering of so many innocent victims,\\u201d said U.S. Attorney Carmen Ortiz for the District of Massachusetts.\\u00a0 \\u201cThe indictment announced today is the first step in that process which addresses alleged criminal wrongdoing at NECC, a business that prioritized production and profit over safety.\\u00a0 We will make every effort to ensure that licensed pharmacists, and those working with them, are held to a standard of care that protects the public from unsafe and dangerous medications.\\u201d\\u00a0 \\u201cTwo years after the fungal meningitis outbreak, our hearts continue to go out to the victims of this tragedy and to their families,\\u201d said FDA Commissioner Margaret A. Hamburg M.D.\\u00a0 \\u201cOur work on behalf of all patients who want and deserve medicines that do not subject them to undue risk is far from done.\\u00a0 The FDA will continue to work aggressively on many fronts with the states, the Department of Justice, and others to protect the American public from unsafe compounded drug products.\\u201d\\u00a0 \\u201cThreats to public health, as alleged in today's indictment, are a priority for the FBI,\\u201d said Assistant Director Joseph S. Campbell of the FBI\\u2019s Criminal Division.\\u00a0 \\u201cTogether with our law enforcement and regulatory agency partners, we are determined to stop practices that jeopardize patients' health and violate the public trust.\\u00a0 These types of investigations are complex and resource intensive.\\u00a0 We greatly appreciate the efforts of our partners in this case and look forward to working with them to effectively identify criminal activities and combat fraudulent and abusive health practices in the future.\\u201d The 14 individuals charged in the indictment are Barry J. Cadden, 48, of Wrentham, Massachusetts; Glenn A. Chin, 46, of Canton, Massachusetts; Gene Svirskiy, 33, of Ashland, Massachusetts; Christopher M. Leary, 30, of Shrewsbury, Massachusetts; Joseph M. Evanosky, 42, of Westford, Massachusetts; Scott M. Connolly, 42, of East Greenwich, Rhode Island; Sharon P. Carter, 50, of Hopkinton, Massachusetts; Alla V. Stepanets, 34, of Framingham, Massachusetts; Gregory A. Conigliaro, 49 of Southborough, Massachusetts; Robert A. Ronzio, 40, of North Providence, Rhode Island; Kathy Chin, 42, of Canton, Massachusetts; Michelle Thomas, 31 of Cumberland, Rhode Island; Carla Conigliaro, 51, of Dedham, Massachusetts and Douglas A. Conigliaro, 53, of Dedham, Massachusetts.\\u00a0\\u00a0 The 25 second-degree murders are included in the indictment as predicate racketeering acts under the Racketeer Influenced and Corrupt Organizations Act (RICO).\\u00a0 These charges relate to patients who received NECC MPA and died in Florida, Indiana, Maryland, Michigan, North Carolina, Tennessee and Virginia. As a general matter, and depending on particular state law, second-degree murder does not require the government to prove Cadden and Chin had specific intent to kill the 25 patients, but rather that Cadden and Chin acted with extreme indifference to human life.\\u00a0 According to the indictment, Cadden and Chin knew that NECC was making MPA in a manner and in an environment in which they could not assure that the drug was sterile as it was identified to be.\\u00a0 Despite knowing that they were making the MPA in an unsafe manner and in insanitary conditions, Cadden and Chin nonetheless allegedly directed and authorized the shipping of MPA to NECC customers nationwide.\\u00a0 It is alleged that Cadden and Chin were aware that doctors would inject MPA into their patients\\u2019 bodies, and that if the MPA was not in fact sterile, it could kill them.\\u00a0 The 25 murder racketeering acts comprise only a portion of the broad racketeering scheme charged in the indictment.\\u00a0 The indictment also alleges that NECC\\u2019s other pharmacists knowingly made and sold numerous drugs in a similar unsafe manner and in insanitary conditions.\\u00a0 The unsafe manner alleged in the indictment includes, among other things, the pharmacists\\u2019 failure to properly sterilize NECC\\u2019s drugs, failure to properly test NECC\\u2019s drugs for sterility, and failure to wait for test results before sending the drugs to customers.\\u00a0 The insanitary conditions alleged in the indictment include, among other things, NECC\\u2019s lack of proper cleaning and NECC\\u2019s failure to take any action when its own environmental monitoring repeatedly detected mold and bacteria within NECC\\u2019s clean room suite of rooms throughout 2012.\\u00a0 It is further alleged that NECC repeatedly took steps to shield its operations from regulatory oversight by the FDA by claiming to be a pharmacy dispensing drugs pursuant to valid, patient-specific prescriptions.\\u00a0 In fact, NECC routinely dispensed drugs in bulk without valid prescriptions.\\u00a0 The indictment alleges that NECC even used fictional and celebrity names on fake prescriptions to dispense drugs.\\u00a0 Finally, the indictment charges Carla Conigliaro, the majority shareholder of NECC, and her husband Douglas Conigliaro with transferring assets following the fungal meningitis outbreak.\\u00a0 Specifically, the indictment charges that after NECC declared bankruptcy, and the bankruptcy court ordered the shareholders not to transfer assets, Carla and Doug Conigliaro transferred approximately $33.3 million to eight different bank accounts opened after the NECC bankruptcy.\\u00a0 Cadden and Chin face a maximum of up to life in prison if convicted on all counts.\\u00a0 \\u201cAlthough no VA patients were affected by the fungal meningitis outbreak, VA unknowingly purchased a variety of pharmaceutical products over a three year period from NECC that were intentionally produced in an unsafe manner under insanitary conditions,\\u201d said Assistant Inspector General for Investigations James J. O\\u2019Neill for the Office of Inspector General, Department of Veterans Affairs.\\u00a0 \\u201cWe are pleased to have contributed to this outstanding multi-agency criminal investigation.\\u201d \\u201cToday's results are part of an ongoing effort by the Defense Criminal Investigative Service and its law enforcement partners to protect the integrity of the Department of Defense's health care program and the quality of care our service members receive,\\u201d said Deputy Inspector General for Investigations James B. Burch for the U.S. Department of Defense Office of the Inspector General.\\u00a0 \\u201cThe Defense Criminal Investigative Service will continue to pursue allegations of health care fraud that put the Warfighter at risk.\\u201d \\u201cThe U.S. Postal Inspection Service is pleased to join our federal partners in this announcement\\u201d said Postal Inspector in Charge Shelly A. Binkowski of the Boston Division.\\u00a0 \\u201cWhat's particularly disturbing about this case is that through their alleged misrepresentation and greed, these defendants put the health and well-being of others at a high level of risk.\\u00a0 This criminal action today demonstrates the commitment and vigilance of postal inspectors and other federal agents to pursue criminals who prey on the public in such an egregious way.\\u201d In announcing the indictment today, Attorney General Holder and U.S. Attorney Ortiz acknowledged the assistance and cooperation of Michigan State Attorney General Bill Schuette.\\u00a0 The state of Michigan had the most deaths during the outbreak. The investigation was conducted by the FDA Office of Criminal Investigations and the FBI with assistance by the Defense Criminal Investigative Service, U.S. Department of Defense, Office of Inspector General; Department of Veterans Affairs Office of Inspector General and U.S. Postal Inspection Service. The case is being prosecuted by Assistant U.S. Attorneys George P. Varghese and Amanda P.M. Strachan of the Health Care Fraud Unit for the U.S. Attorney\\u2019s Office in the District of Massachusetts, and Trial Attorney John W.M. Claud of the Civil Division\\u2019s Consumer Protection Branch. The details contained in the indictment are allegations.\\u00a0 The defendants are presumed innocent unless and until proven guilty beyond a reasonable doubt. Victims with questions about today\\u2019s charges may call 1-888-221-6023 or email usama.victimassistance@usdoj.gov.\", \"date\": \"2014-12-17T00:00:00-05:00\", \"topics\": [\"Consumer Protection\"], \"components\": [\"Civil Division\"]}\n",
            "{\"id\": \"14-849\", \"title\": \"14 Individuals Charged with Trafficking Identities of Puerto Rican U.S. Citizens\", \"contents\": \"  Fourteen  individuals were charged in three indictments in Puerto Rico with conspiracy to  commit identification fraud, money laundering, aggravated identity theft and  passport fraud in connection with their alleged roles in a scheme to traffic the  identities and corresponding identity documents of Puerto Rican U.S. citizens.   \\u00a0   Assistant  Attorney General Leslie R. Caldwell of the Justice Department\\u2019s Criminal  Division, U.S. Attorney Rosa Emilia Rodriguez-Velez for the District of Puerto  Rico, Principal Deputy Assistant Secretary Thomas Winkowski of U.S. Immigration  and Customs Enforcement (ICE), which oversees Homeland Security Investigations  (HSI), Chief Postal Inspector Guy Cottrell of the U.S. Postal Inspection Service  (USPIS), Chief Richard Weber of the Internal Revenue Criminal Investigation  Division (IRSCID) and Director Bill Miller of the State Department\\u2019s Diplomatic  Security Service (DSS) made the announcement.   \\u00a0   The  multi-count indictments were returned by a federal grand jury on Aug. 6, 2014.    Since that time, five of the defendants  have been found and arrested (four in Puerto Rico and one in Florida).   They will be arraigned in federal court this  week.   Arrest warrants have been issued  for the remaining defendants, who will make their initial appearances in federal  court in the districts in which they are arrested.   \\u00a0   According to  the indictments, from at least July 2008 through April 2014, conspirators in the  mainland United States and in Puerto Rico sold the identities and corresponding  Social Security cards, Puerto Rico birth certificates and other identification  documents of Puerto Rican U.S. citizens to undocumented aliens and others  residing in the mainland United States.   \\u00a0   Specifically, the indictments allege that individuals located in  the Caguas, Rio Piedras and San Juan areas of Puerto Rico (suppliers) obtained  Puerto Rican identities and corresponding identity documents, and conspirators  in various locations in the United States (identity brokers) solicited customers  for those identities and documents.   The  identity brokers allegedly sold the identities and documents to the customers  for prices ranging from $700 to $2,500 per set of Social Security cards and  corresponding Puerto Rico birth certificates.   \\u00a0   According to  the indictment, the identity brokers ordered the identity documents from the  suppliers by making coded telephone calls, including using terms such as  \\u201cshirts,\\u201d \\u201cuniforms\\u201d or \\u201cclothes\\u201d to refer to identity documents.   The suppliers generally requested that the  identity brokers send payment for the documents through a money transfer service  to names provided by the suppliers.   The  conspirators frequently confirmed payee names and addresses, money transfer  control numbers and trafficked identities via text messaging.   The suppliers allegedly retrieved the  payments from the money transfer service and sent the identity documents to the  brokers using express, priority or regular U.S. Mail.   \\u00a0   According to  the indictments, once the identity brokers received the identity documents, they  delivered the documents to the customers and obtained the remaining payment from  the customers.   The brokers generally  kept the second payment for themselves as profit.   Some identity brokers allegedly assumed a  Puerto Rican identity themselves and used that identity in connection with the  trafficking operation.   \\u00a0   As alleged  in the indictments, the customers generally obtained the identity documents to  assume the identity of Puerto Rican U.S. citizens and obtain additional  identification documents, such as state driver\\u2019s licenses.   Some customers allegedly obtained the  documents to commit financial fraud and others attempted to obtain U.S.  passports.   The  indictments alleges that various identity brokers were operating in  Indianapolis,   Columbus and Seymour,  Indiana; Aurora, Illinois; Bartow, Florida; Lawrenceville, Jonesboro and  Norcross, Georgia; Salisbury, Maryland; Columbus, Ohio; Lawrence and  Springfield, Massachusetts; Grand Rapids, Michigan; Philadelphia, Pennsylvania;  Houston, Texas; Guymon, Oklahoma; Huron, South Dakota and Albertville, Alabama.   \\u00a0   The charges  announced today are the result of Operation Island Express II, an ongoing,  nationally-coordinated investigation led by the ICE-HSI Chicago Office and  USPIS, DSS and IRS-CID offices in Chicago, in coordination with the ICE-HSI San  Juan Office.   The Illinois Secretary of  State Police provided substantial assistance.    The ICE-HSI Attach\\u00e9 office in the Dominican Republic, National Drug  Intelligence Center - Document and Media Exploitation Branch and International  Organized Crime Intelligence and Operations Center (IOC-2) provided invaluable  assistance, as well as various ICE, USPIS, DSS and IRS CI offices around the  country.   \\u00a0   The case is  being prosecuted by the Criminal Division\\u2019s Organized Crime and Gang Section,  with the assistance of the Criminal Division\\u2019s Human Rights and Special  Prosecution Section, and the support of the U.S. Attorney\\u2019s Office for the  District of Puerto Rico.   \\u00a0   Anyone who  believes that their identity may have been compromised by the crimes that are  the subject of to this investigation may contact the ICE toll-free hotline at  1-866-DHS-2ICE (1-866-347-2423) and its online tip form at    www.ice.gov/tipline .   Anyone who may have information about  particular crimes in this case should report it to the ICE tip line or  website.   \\u00a0   Anyone who  believes that they have been a victim of identity theft, or wants information  about preventing identity theft, may obtain helpful information and complaint  forms on various government websites including the Federal Trade Commission ID  theft website,    www.ftc.gov/idtheft .   Additional resources regarding  identity theft can be found at    http://www.ojp.usdoj.gov/ovc/pubs/I  D_theft/idtheft.html ;    http://www.ssa.gov/pubs/10064.html ;    http://www.fbi.gov/about-us/investigate/cyber/identity_theft ; and    http://www.irs.gov/privacy/article/0,,id=186436,00.html .   \\u00a0   \\u00a0   An  indictment is merely a formal accusation. Defendants are presumed innocent  unless proven guilty in a court of law.\", \"date\": \"2014-08-12T00:00:00-04:00\", \"topics\": [], \"components\": [\"Criminal Division\"]}\n",
            "{\"id\": \"15-089\", \"title\": \"15th Member of Washington, D.C.-Based Identity Theft Ring Pleads Guilty\", \"contents\": \"Defendant Admits To Targeting Parents Of Hospitalized Children, Among Others A Maryland woman pleaded guilty today in connection with her involvement in a sophisticated identity theft ring that stole the identities of over 600 individuals in Washington, D.C., and surrounding areas with an estimated loss of well over $1 million.\\u00a0 Fifteen members of the fraud ring\\u2014which targeted, among others, the parents of sick and injured kids receiving treatment at a children\\u2019s hospital in Washington, D.C.\\u2014have been convicted so far as a result of this investigation. Assistant Attorney General Leslie R. Caldwell of the Justice Department\\u2019s Criminal Division, U.S. Attorney Dana J. Boente of the Eastern District of Virginia, U.S. Attorney Rod J. Rosenstein of the District of Maryland and Special Agent in Charge Kathy A. Michalko of the U.S. Secret Service\\u2019s Washington Field Office made the announcement after the guilty plea was accepted by U.S. District Judge Claude M. Hilton of the Eastern District of Virginia. \\u201cIdentity theft wreaks havoc on the lives of American citizens every year,\\u201d said Assistant Attorney General Caldwell.\\u00a0 \\u201cBut this group took the distress to a new level by targeting the parents of hospitalized children and stealing their identities, as well as those of other customers and members of businesses in the Washington, D.C., area.\\u00a0 Along with our law enforcement partners, the Criminal Division is committed to protecting the privacy and financial security of the American people from both foreign and domestic thieves.\\u201d Leah Shanae Elliott, 22, of Clinton, Maryland, pleaded guilty to one count of conspiracy to commit bank fraud, access device fraud and identity theft.\\u00a0 A sentencing hearing is scheduled for April 24, 2015, before Judge Hilton.\\u00a0\\u00a0\\u00a0 In a statement of facts filed with her plea agreement, Elliott admitted that she was a member of a large-scale identity theft ring that operated in the Washington, D.C., metropolitan area and elsewhere.\\u00a0 According to Elliott, members of the ring used their employment at local businesses and nonprofits\\u2014including banks, credit unions, medical and dental centers, employee associations, restaurants and stores\\u2014to access and steal personally identifiable information (PII) such as social security numbers, addresses, and dates of birth, as well as debit and credit card information.\\u00a0 The conspirators then used this stolen information to manufacture fraudulent driver\\u2019s licenses and other identifications, as well as fraudulent debit and credit cards.\\u00a0 Conspirators used the fake identifications and debit or credit cards to establish lines of credit, purchase merchandise at retail establishments, make unauthorized withdrawals from victims\\u2019 bank accounts and manufacture and cash counterfeit checks.\\u00a0 Elliott specifically admitted that that she stole PII and debit and credit card information at the restaurant at which she worked, and used stolen PII and fraudulent driver\\u2019s licenses to open lines of credit and obtain rental vehicles, computers, televisions, cameras, watches, jewelry and other items under victims\\u2019 names.\\u00a0 She also admitted that she retrieved \\u201cskimming\\u201d devices loaded with stolen PII and debit and credit card information from other members of the conspiracy and used those devices to transfer the stolen information into fake identifications and debit and credit cards.\\u00a0 Further, Elliott admitted that she solicited her mother\\u2014a credit and collections representative at a children\\u2019s hospital in Washington, D.C.\\u2014to steal the identities of parents of sick or injured children, and that after a further request from one of the ring\\u2019s leaders, her mother ultimately provided 78 stolen \\u201cprofiles\\u201d from the hospital.\\u00a0 Members of the fraud ring previously convicted include: Erin Lyles-Armstrong, 34, of Germantown, Maryland, who pleaded guilty to one count of aggravated identity theft on Feb. 1, 2012; Justin Gatling, 28, of Silver Spring, Maryland, who pleaded guilty to one count of exceeding authorized access to information stored in a computerized financial record of a financial institution on March 29, 2012; Segale Battle, 30, of Capitol Heights, Maryland, who pleaded guilty to identity theft on Sept. 15, 2013; Rungnatee Pearson, 45, of Bronx, New York, who pleaded guilty to one count of access device fraud on Sept. 18, 2013; Jamille Ferguson, 31, of Dumfries, Virginia, who pleaded guilty to one count of access device fraud and one count of aggravated identity theft on Oct. 8, 2013; Christopher Bush, 30, of New York, New York, who pleaded guilty to one count of bank fraud, one count of access device fraud and one count of aggravated identity theft on Oct. 11, 2013; Jenaro Blalock, 31, of Clinton, Maryland, who pleaded guilty to one count of access device fraud and one count of aggravated identity theft on Oct. 29, 2013; Kevin Middleton, 32, of McClellanville, South Carolina, who pleaded guilty to one count of access device fraud on Dec. 16, 2013; Adrienne Pritchett, 42, of District Heights, Maryland, who pleaded guilty to one count of bank fraud and one count of aggravated identity theft on Oct. 3, 2013; Tekia Thomas, 22, of Alexandria, Virginia, who pleaded guilty to one count of access device fraud on Oct. 8, 2013; Elizabeth Monika Hunter, 20, of Fredericksburg, Virginia, who pleaded guilty to one account of access device fraud on Jan. 28, 2014; LaShawn Powell, 35, of Upper Marlboro, Maryland, who pleaded guilty to one count of making false statements on April 15, 2014; Detrius Elliott, 43, of Clinton, Maryland, who pleaded guilty to one count of identity theft on May 29, 2014; and Chantel Thompson, 22, of Washington, D.C., who pleaded guilty to one count of conspiracy to commit bank fraud, access device fraud, and identity theft on Jan. 9, 2015. Most of the defendants have already been sentenced.\\u00a0 Last year Judge Hilton sentenced Blalock and Bush, two of the leaders of the ring, to 12 years in prison and 10 years in prison, respectively.\\u00a0 Blalock was also ordered to pay $614,685.58 in restitution. The U.S. Secret Service led this investigation, with significant assistance from the U.S. Postal Inspection Service, U.S. Department of Agriculture\\u2019s Office of Inspector General, U.S. Office of Personnel Management\\u2019s Office of Inspector General, Montgomery County Police Department, Fairfax County Police Department, City of Fairfax Police Department, D.C. Metropolitan Police Department, Metropolitan Washington Airports Authority, Prince George\\u2019s County Police Department\\u2019s Washington Area Vehicle Enforcement Unit and others.\\u00a0 The cases are being prosecuted by Senior Counsels Matthew A. Lamberti and Peter V. Roman of the Criminal Division\\u2019s Computer Crime and Intellectual Property Section and Assistant U.S. Attorney Tamera Fine of the District of Maryland.\", \"date\": \"2015-01-23T00:00:00-05:00\", \"topics\": [], \"components\": [\"Criminal Division\"]}\n"
          ]
        }
      ]
    },
    {
      "cell_type": "markdown",
      "source": [
        "# Sentiment detection"
      ],
      "metadata": {
        "id": "nIIrSz0w0dLD"
      }
    },
    {
      "cell_type": "code",
      "source": [
        "preprocess('this is a good movie we gotta work on this')"
      ],
      "metadata": {
        "colab": {
          "base_uri": "https://localhost:8080/"
        },
        "id": "6AkYxE8v0BnK",
        "outputId": "1981b7b7-4027-403c-be83-51bf89604c42"
      },
      "execution_count": 28,
      "outputs": [
        {
          "output_type": "stream",
          "name": "stdout",
          "text": [
            "good\n",
            "movie\n",
            "got\n",
            "ta\n",
            "work\n"
          ]
        }
      ]
    },
    {
      "cell_type": "code",
      "source": [],
      "metadata": {
        "id": "wLjP3zuL0mEL"
      },
      "execution_count": null,
      "outputs": []
    }
  ]
}