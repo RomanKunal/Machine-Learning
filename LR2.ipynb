{
  "nbformat": 4,
  "nbformat_minor": 0,
  "metadata": {
    "colab": {
      "provenance": [],
      "authorship_tag": "ABX9TyP11PehhECzs3u+h3krrvEN",
      "include_colab_link": true
    },
    "kernelspec": {
      "name": "python3",
      "display_name": "Python 3"
    },
    "language_info": {
      "name": "python"
    }
  },
  "cells": [
    {
      "cell_type": "markdown",
      "metadata": {
        "id": "view-in-github",
        "colab_type": "text"
      },
      "source": [
        "<a href=\"https://colab.research.google.com/github/RomanKunal/Machine-Learning/blob/main/LR2.ipynb\" target=\"_parent\"><img src=\"https://colab.research.google.com/assets/colab-badge.svg\" alt=\"Open In Colab\"/></a>"
      ]
    },
    {
      "cell_type": "markdown",
      "source": [
        "# Own linear regression logic\n"
      ],
      "metadata": {
        "id": "47sF21mIb-1K"
      }
    },
    {
      "cell_type": "code",
      "source": [
        "class LR:\n",
        "  def __init__(self):\n",
        "    self.m=None\n",
        "    self.m=None\n",
        "  def fit(self,X_train,Y_train):\n",
        "    num=0\n",
        "    den=0\n",
        "    for i in range(X_train.shape[0]):\n",
        "      num=num+((X_train[i]-X_train.mean())*(Y_train[i]-Y_train.mean()))\n",
        "      den=den+((X_train[i]-X_train.mean())**2)\n",
        "    self.m=num/den\n",
        "    self.b=Y_train.mean()-self.m*X_train.mean()\n",
        "  def predict(self,X_test):\n",
        "    return self.m*X_test+self.b"
      ],
      "metadata": {
        "id": "qk2nplzZcEUP"
      },
      "execution_count": null,
      "outputs": []
    },
    {
      "cell_type": "code",
      "source": [
        "import pandas as pd\n",
        "import numpy as np\n",
        "import matplotlib.pyplot as plt\n",
        "from sklearn.model_selection import train_test_split"
      ],
      "metadata": {
        "id": "eaC-jSuEdBT_"
      },
      "execution_count": null,
      "outputs": []
    },
    {
      "cell_type": "code",
      "source": [
        "data=pd.read_csv(\"/content/placement.csv\")\n",
        "data.head()"
      ],
      "metadata": {
        "colab": {
          "base_uri": "https://localhost:8080/",
          "height": 206
        },
        "id": "OFyovUTvdVoU",
        "outputId": "521f2d8c-a792-459b-ce6b-95200613c21d"
      },
      "execution_count": null,
      "outputs": [
        {
          "output_type": "execute_result",
          "data": {
            "text/plain": [
              "   cgpa  package\n",
              "0  6.89     3.26\n",
              "1  5.12     1.98\n",
              "2  7.82     3.25\n",
              "3  7.42     3.67\n",
              "4  6.94     3.57"
            ],
            "text/html": [
              "\n",
              "  <div id=\"df-19a30b52-5d22-42bc-8d8d-7bce1cef51f4\" class=\"colab-df-container\">\n",
              "    <div>\n",
              "<style scoped>\n",
              "    .dataframe tbody tr th:only-of-type {\n",
              "        vertical-align: middle;\n",
              "    }\n",
              "\n",
              "    .dataframe tbody tr th {\n",
              "        vertical-align: top;\n",
              "    }\n",
              "\n",
              "    .dataframe thead th {\n",
              "        text-align: right;\n",
              "    }\n",
              "</style>\n",
              "<table border=\"1\" class=\"dataframe\">\n",
              "  <thead>\n",
              "    <tr style=\"text-align: right;\">\n",
              "      <th></th>\n",
              "      <th>cgpa</th>\n",
              "      <th>package</th>\n",
              "    </tr>\n",
              "  </thead>\n",
              "  <tbody>\n",
              "    <tr>\n",
              "      <th>0</th>\n",
              "      <td>6.89</td>\n",
              "      <td>3.26</td>\n",
              "    </tr>\n",
              "    <tr>\n",
              "      <th>1</th>\n",
              "      <td>5.12</td>\n",
              "      <td>1.98</td>\n",
              "    </tr>\n",
              "    <tr>\n",
              "      <th>2</th>\n",
              "      <td>7.82</td>\n",
              "      <td>3.25</td>\n",
              "    </tr>\n",
              "    <tr>\n",
              "      <th>3</th>\n",
              "      <td>7.42</td>\n",
              "      <td>3.67</td>\n",
              "    </tr>\n",
              "    <tr>\n",
              "      <th>4</th>\n",
              "      <td>6.94</td>\n",
              "      <td>3.57</td>\n",
              "    </tr>\n",
              "  </tbody>\n",
              "</table>\n",
              "</div>\n",
              "    <div class=\"colab-df-buttons\">\n",
              "\n",
              "  <div class=\"colab-df-container\">\n",
              "    <button class=\"colab-df-convert\" onclick=\"convertToInteractive('df-19a30b52-5d22-42bc-8d8d-7bce1cef51f4')\"\n",
              "            title=\"Convert this dataframe to an interactive table.\"\n",
              "            style=\"display:none;\">\n",
              "\n",
              "  <svg xmlns=\"http://www.w3.org/2000/svg\" height=\"24px\" viewBox=\"0 -960 960 960\">\n",
              "    <path d=\"M120-120v-720h720v720H120Zm60-500h600v-160H180v160Zm220 220h160v-160H400v160Zm0 220h160v-160H400v160ZM180-400h160v-160H180v160Zm440 0h160v-160H620v160ZM180-180h160v-160H180v160Zm440 0h160v-160H620v160Z\"/>\n",
              "  </svg>\n",
              "    </button>\n",
              "\n",
              "  <style>\n",
              "    .colab-df-container {\n",
              "      display:flex;\n",
              "      gap: 12px;\n",
              "    }\n",
              "\n",
              "    .colab-df-convert {\n",
              "      background-color: #E8F0FE;\n",
              "      border: none;\n",
              "      border-radius: 50%;\n",
              "      cursor: pointer;\n",
              "      display: none;\n",
              "      fill: #1967D2;\n",
              "      height: 32px;\n",
              "      padding: 0 0 0 0;\n",
              "      width: 32px;\n",
              "    }\n",
              "\n",
              "    .colab-df-convert:hover {\n",
              "      background-color: #E2EBFA;\n",
              "      box-shadow: 0px 1px 2px rgba(60, 64, 67, 0.3), 0px 1px 3px 1px rgba(60, 64, 67, 0.15);\n",
              "      fill: #174EA6;\n",
              "    }\n",
              "\n",
              "    .colab-df-buttons div {\n",
              "      margin-bottom: 4px;\n",
              "    }\n",
              "\n",
              "    [theme=dark] .colab-df-convert {\n",
              "      background-color: #3B4455;\n",
              "      fill: #D2E3FC;\n",
              "    }\n",
              "\n",
              "    [theme=dark] .colab-df-convert:hover {\n",
              "      background-color: #434B5C;\n",
              "      box-shadow: 0px 1px 3px 1px rgba(0, 0, 0, 0.15);\n",
              "      filter: drop-shadow(0px 1px 2px rgba(0, 0, 0, 0.3));\n",
              "      fill: #FFFFFF;\n",
              "    }\n",
              "  </style>\n",
              "\n",
              "    <script>\n",
              "      const buttonEl =\n",
              "        document.querySelector('#df-19a30b52-5d22-42bc-8d8d-7bce1cef51f4 button.colab-df-convert');\n",
              "      buttonEl.style.display =\n",
              "        google.colab.kernel.accessAllowed ? 'block' : 'none';\n",
              "\n",
              "      async function convertToInteractive(key) {\n",
              "        const element = document.querySelector('#df-19a30b52-5d22-42bc-8d8d-7bce1cef51f4');\n",
              "        const dataTable =\n",
              "          await google.colab.kernel.invokeFunction('convertToInteractive',\n",
              "                                                    [key], {});\n",
              "        if (!dataTable) return;\n",
              "\n",
              "        const docLinkHtml = 'Like what you see? Visit the ' +\n",
              "          '<a target=\"_blank\" href=https://colab.research.google.com/notebooks/data_table.ipynb>data table notebook</a>'\n",
              "          + ' to learn more about interactive tables.';\n",
              "        element.innerHTML = '';\n",
              "        dataTable['output_type'] = 'display_data';\n",
              "        await google.colab.output.renderOutput(dataTable, element);\n",
              "        const docLink = document.createElement('div');\n",
              "        docLink.innerHTML = docLinkHtml;\n",
              "        element.appendChild(docLink);\n",
              "      }\n",
              "    </script>\n",
              "  </div>\n",
              "\n",
              "\n",
              "<div id=\"df-c4e6ab33-d80f-400d-b3f3-d661f3440409\">\n",
              "  <button class=\"colab-df-quickchart\" onclick=\"quickchart('df-c4e6ab33-d80f-400d-b3f3-d661f3440409')\"\n",
              "            title=\"Suggest charts\"\n",
              "            style=\"display:none;\">\n",
              "\n",
              "<svg xmlns=\"http://www.w3.org/2000/svg\" height=\"24px\"viewBox=\"0 0 24 24\"\n",
              "     width=\"24px\">\n",
              "    <g>\n",
              "        <path d=\"M19 3H5c-1.1 0-2 .9-2 2v14c0 1.1.9 2 2 2h14c1.1 0 2-.9 2-2V5c0-1.1-.9-2-2-2zM9 17H7v-7h2v7zm4 0h-2V7h2v10zm4 0h-2v-4h2v4z\"/>\n",
              "    </g>\n",
              "</svg>\n",
              "  </button>\n",
              "\n",
              "<style>\n",
              "  .colab-df-quickchart {\n",
              "      --bg-color: #E8F0FE;\n",
              "      --fill-color: #1967D2;\n",
              "      --hover-bg-color: #E2EBFA;\n",
              "      --hover-fill-color: #174EA6;\n",
              "      --disabled-fill-color: #AAA;\n",
              "      --disabled-bg-color: #DDD;\n",
              "  }\n",
              "\n",
              "  [theme=dark] .colab-df-quickchart {\n",
              "      --bg-color: #3B4455;\n",
              "      --fill-color: #D2E3FC;\n",
              "      --hover-bg-color: #434B5C;\n",
              "      --hover-fill-color: #FFFFFF;\n",
              "      --disabled-bg-color: #3B4455;\n",
              "      --disabled-fill-color: #666;\n",
              "  }\n",
              "\n",
              "  .colab-df-quickchart {\n",
              "    background-color: var(--bg-color);\n",
              "    border: none;\n",
              "    border-radius: 50%;\n",
              "    cursor: pointer;\n",
              "    display: none;\n",
              "    fill: var(--fill-color);\n",
              "    height: 32px;\n",
              "    padding: 0;\n",
              "    width: 32px;\n",
              "  }\n",
              "\n",
              "  .colab-df-quickchart:hover {\n",
              "    background-color: var(--hover-bg-color);\n",
              "    box-shadow: 0 1px 2px rgba(60, 64, 67, 0.3), 0 1px 3px 1px rgba(60, 64, 67, 0.15);\n",
              "    fill: var(--button-hover-fill-color);\n",
              "  }\n",
              "\n",
              "  .colab-df-quickchart-complete:disabled,\n",
              "  .colab-df-quickchart-complete:disabled:hover {\n",
              "    background-color: var(--disabled-bg-color);\n",
              "    fill: var(--disabled-fill-color);\n",
              "    box-shadow: none;\n",
              "  }\n",
              "\n",
              "  .colab-df-spinner {\n",
              "    border: 2px solid var(--fill-color);\n",
              "    border-color: transparent;\n",
              "    border-bottom-color: var(--fill-color);\n",
              "    animation:\n",
              "      spin 1s steps(1) infinite;\n",
              "  }\n",
              "\n",
              "  @keyframes spin {\n",
              "    0% {\n",
              "      border-color: transparent;\n",
              "      border-bottom-color: var(--fill-color);\n",
              "      border-left-color: var(--fill-color);\n",
              "    }\n",
              "    20% {\n",
              "      border-color: transparent;\n",
              "      border-left-color: var(--fill-color);\n",
              "      border-top-color: var(--fill-color);\n",
              "    }\n",
              "    30% {\n",
              "      border-color: transparent;\n",
              "      border-left-color: var(--fill-color);\n",
              "      border-top-color: var(--fill-color);\n",
              "      border-right-color: var(--fill-color);\n",
              "    }\n",
              "    40% {\n",
              "      border-color: transparent;\n",
              "      border-right-color: var(--fill-color);\n",
              "      border-top-color: var(--fill-color);\n",
              "    }\n",
              "    60% {\n",
              "      border-color: transparent;\n",
              "      border-right-color: var(--fill-color);\n",
              "    }\n",
              "    80% {\n",
              "      border-color: transparent;\n",
              "      border-right-color: var(--fill-color);\n",
              "      border-bottom-color: var(--fill-color);\n",
              "    }\n",
              "    90% {\n",
              "      border-color: transparent;\n",
              "      border-bottom-color: var(--fill-color);\n",
              "    }\n",
              "  }\n",
              "</style>\n",
              "\n",
              "  <script>\n",
              "    async function quickchart(key) {\n",
              "      const quickchartButtonEl =\n",
              "        document.querySelector('#' + key + ' button');\n",
              "      quickchartButtonEl.disabled = true;  // To prevent multiple clicks.\n",
              "      quickchartButtonEl.classList.add('colab-df-spinner');\n",
              "      try {\n",
              "        const charts = await google.colab.kernel.invokeFunction(\n",
              "            'suggestCharts', [key], {});\n",
              "      } catch (error) {\n",
              "        console.error('Error during call to suggestCharts:', error);\n",
              "      }\n",
              "      quickchartButtonEl.classList.remove('colab-df-spinner');\n",
              "      quickchartButtonEl.classList.add('colab-df-quickchart-complete');\n",
              "    }\n",
              "    (() => {\n",
              "      let quickchartButtonEl =\n",
              "        document.querySelector('#df-c4e6ab33-d80f-400d-b3f3-d661f3440409 button');\n",
              "      quickchartButtonEl.style.display =\n",
              "        google.colab.kernel.accessAllowed ? 'block' : 'none';\n",
              "    })();\n",
              "  </script>\n",
              "</div>\n",
              "\n",
              "    </div>\n",
              "  </div>\n"
            ],
            "application/vnd.google.colaboratory.intrinsic+json": {
              "type": "dataframe",
              "variable_name": "data",
              "summary": "{\n  \"name\": \"data\",\n  \"rows\": 200,\n  \"fields\": [\n    {\n      \"column\": \"cgpa\",\n      \"properties\": {\n        \"dtype\": \"number\",\n        \"std\": 1.0694086798895526,\n        \"min\": 4.26,\n        \"max\": 9.58,\n        \"num_unique_values\": 163,\n        \"samples\": [\n          8.71,\n          6.37,\n          7.94\n        ],\n        \"semantic_type\": \"\",\n        \"description\": \"\"\n      }\n    },\n    {\n      \"column\": \"package\",\n      \"properties\": {\n        \"dtype\": \"number\",\n        \"std\": 0.6916442411250215,\n        \"min\": 1.37,\n        \"max\": 4.62,\n        \"num_unique_values\": 138,\n        \"samples\": [\n          3.76,\n          3.13,\n          2.89\n        ],\n        \"semantic_type\": \"\",\n        \"description\": \"\"\n      }\n    }\n  ]\n}"
            }
          },
          "metadata": {},
          "execution_count": 3
        }
      ]
    },
    {
      "cell_type": "code",
      "source": [
        "X=data.iloc[:,0:1]\n",
        "Y=data.iloc[:,-1]"
      ],
      "metadata": {
        "id": "bHRjgMpCdfBI"
      },
      "execution_count": null,
      "outputs": []
    },
    {
      "cell_type": "code",
      "source": [
        "X_train,X_test,Y_train,Y_test=train_test_split(X,Y,test_size=0.2,random_state=2)"
      ],
      "metadata": {
        "id": "agoPgg0Qdxqq"
      },
      "execution_count": null,
      "outputs": []
    },
    {
      "cell_type": "code",
      "source": [
        "X_train.values"
      ],
      "metadata": {
        "colab": {
          "base_uri": "https://localhost:8080/"
        },
        "id": "4nn_2z3Ne7mg",
        "outputId": "4b504327-91c8-4be3-872d-9ffb9a5dfefd"
      },
      "execution_count": 8,
      "outputs": [
        {
          "output_type": "execute_result",
          "data": {
            "text/plain": [
              "array([[7.14],\n",
              "       [8.93],\n",
              "       [5.42],\n",
              "       [5.1 ],\n",
              "       [7.77],\n",
              "       [6.76],\n",
              "       [6.89],\n",
              "       [6.68],\n",
              "       [7.91],\n",
              "       [7.89],\n",
              "       [8.71],\n",
              "       [7.95],\n",
              "       [6.61],\n",
              "       [6.26],\n",
              "       [6.53],\n",
              "       [6.42],\n",
              "       [5.11],\n",
              "       [6.09],\n",
              "       [6.93],\n",
              "       [7.04],\n",
              "       [5.94],\n",
              "       [6.05],\n",
              "       [5.83],\n",
              "       [5.95],\n",
              "       [9.31],\n",
              "       [5.58],\n",
              "       [7.88],\n",
              "       [6.13],\n",
              "       [7.76],\n",
              "       [4.85],\n",
              "       [6.19],\n",
              "       [8.6 ],\n",
              "       [6.07],\n",
              "       [7.18],\n",
              "       [5.12],\n",
              "       [7.39],\n",
              "       [8.25],\n",
              "       [8.28],\n",
              "       [7.13],\n",
              "       [7.35],\n",
              "       [5.66],\n",
              "       [5.99],\n",
              "       [8.01],\n",
              "       [7.14],\n",
              "       [6.34],\n",
              "       [6.89],\n",
              "       [5.42],\n",
              "       [6.47],\n",
              "       [7.69],\n",
              "       [7.4 ],\n",
              "       [7.28],\n",
              "       [5.95],\n",
              "       [7.38],\n",
              "       [6.93],\n",
              "       [8.99],\n",
              "       [7.36],\n",
              "       [7.08],\n",
              "       [5.38],\n",
              "       [7.56],\n",
              "       [8.22],\n",
              "       [5.84],\n",
              "       [6.78],\n",
              "       [7.19],\n",
              "       [7.28],\n",
              "       [6.79],\n",
              "       [6.12],\n",
              "       [6.85],\n",
              "       [8.2 ],\n",
              "       [6.84],\n",
              "       [7.37],\n",
              "       [6.22],\n",
              "       [6.61],\n",
              "       [5.23],\n",
              "       [7.21],\n",
              "       [6.85],\n",
              "       [6.19],\n",
              "       [7.3 ],\n",
              "       [6.17],\n",
              "       [5.89],\n",
              "       [8.09],\n",
              "       [7.11],\n",
              "       [4.26],\n",
              "       [6.94],\n",
              "       [5.98],\n",
              "       [6.71],\n",
              "       [7.33],\n",
              "       [9.06],\n",
              "       [6.1 ],\n",
              "       [5.48],\n",
              "       [6.1 ],\n",
              "       [7.56],\n",
              "       [7.29],\n",
              "       [5.84],\n",
              "       [7.48],\n",
              "       [7.61],\n",
              "       [5.79],\n",
              "       [5.61],\n",
              "       [7.34],\n",
              "       [9.38],\n",
              "       [7.91],\n",
              "       [6.94],\n",
              "       [7.94],\n",
              "       [8.31],\n",
              "       [6.96],\n",
              "       [6.93],\n",
              "       [7.11],\n",
              "       [8.44],\n",
              "       [8.18],\n",
              "       [6.66],\n",
              "       [8.44],\n",
              "       [7.12],\n",
              "       [6.3 ],\n",
              "       [5.84],\n",
              "       [6.98],\n",
              "       [7.63],\n",
              "       [5.64],\n",
              "       [7.43],\n",
              "       [8.87],\n",
              "       [7.84],\n",
              "       [5.84],\n",
              "       [9.58],\n",
              "       [8.37],\n",
              "       [7.63],\n",
              "       [6.31],\n",
              "       [6.5 ],\n",
              "       [8.11],\n",
              "       [6.07],\n",
              "       [4.73],\n",
              "       [7.3 ],\n",
              "       [6.51],\n",
              "       [7.28],\n",
              "       [6.92],\n",
              "       [6.35],\n",
              "       [8.62],\n",
              "       [7.05],\n",
              "       [9.26],\n",
              "       [6.33],\n",
              "       [6.22],\n",
              "       [6.94],\n",
              "       [5.13],\n",
              "       [8.13],\n",
              "       [5.9 ],\n",
              "       [9.04],\n",
              "       [6.06],\n",
              "       [7.57],\n",
              "       [8.1 ],\n",
              "       [9.16],\n",
              "       [5.84],\n",
              "       [7.89],\n",
              "       [6.63],\n",
              "       [7.09],\n",
              "       [5.53],\n",
              "       [6.75],\n",
              "       [7.62],\n",
              "       [6.97],\n",
              "       [7.66],\n",
              "       [6.14],\n",
              "       [7.78],\n",
              "       [7.25],\n",
              "       [8.65]])"
            ]
          },
          "metadata": {},
          "execution_count": 8
        }
      ]
    },
    {
      "cell_type": "code",
      "source": [
        "lr=LR()\n",
        "lr.fit(X_train.values,Y_train.values)\n"
      ],
      "metadata": {
        "id": "vjhBdoZSfElU"
      },
      "execution_count": 9,
      "outputs": []
    },
    {
      "cell_type": "code",
      "source": [
        "lr.m"
      ],
      "metadata": {
        "colab": {
          "base_uri": "https://localhost:8080/"
        },
        "id": "3ElS_mQNfNSJ",
        "outputId": "7d637e4b-0c34-42a6-db9d-f2636ec5331b"
      },
      "execution_count": 10,
      "outputs": [
        {
          "output_type": "execute_result",
          "data": {
            "text/plain": [
              "array([0.55795197])"
            ]
          },
          "metadata": {},
          "execution_count": 10
        }
      ]
    },
    {
      "cell_type": "code",
      "source": [
        "lr.b"
      ],
      "metadata": {
        "colab": {
          "base_uri": "https://localhost:8080/"
        },
        "id": "OfSbcXPdfQOs",
        "outputId": "5b69ec67-c230-40d9-ee51-1631ed6e6866"
      },
      "execution_count": 11,
      "outputs": [
        {
          "output_type": "execute_result",
          "data": {
            "text/plain": [
              "array([-0.89611192])"
            ]
          },
          "metadata": {},
          "execution_count": 11
        }
      ]
    },
    {
      "cell_type": "code",
      "source": [
        "lr.predict(8.9)"
      ],
      "metadata": {
        "colab": {
          "base_uri": "https://localhost:8080/"
        },
        "id": "fl7tsZshfQSC",
        "outputId": "64eb9188-9c6d-4f14-ad1a-ea248deb5022"
      },
      "execution_count": 15,
      "outputs": [
        {
          "output_type": "execute_result",
          "data": {
            "text/plain": [
              "array([4.06966064])"
            ]
          },
          "metadata": {},
          "execution_count": 15
        }
      ]
    },
    {
      "cell_type": "code",
      "source": [],
      "metadata": {
        "id": "9aNBMhKYfqZE"
      },
      "execution_count": null,
      "outputs": []
    }
  ]
}