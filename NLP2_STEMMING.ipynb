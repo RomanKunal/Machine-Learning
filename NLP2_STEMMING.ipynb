{
  "nbformat": 4,
  "nbformat_minor": 0,
  "metadata": {
    "colab": {
      "provenance": [],
      "authorship_tag": "ABX9TyOsPrY5+iNgc71nY9RoCplQ",
      "include_colab_link": true
    },
    "kernelspec": {
      "name": "python3",
      "display_name": "Python 3"
    },
    "language_info": {
      "name": "python"
    }
  },
  "cells": [
    {
      "cell_type": "markdown",
      "metadata": {
        "id": "view-in-github",
        "colab_type": "text"
      },
      "source": [
        "<a href=\"https://colab.research.google.com/github/RomanKunal/Machine-Learning/blob/main/NLP2_STEMMING.ipynb\" target=\"_parent\"><img src=\"https://colab.research.google.com/assets/colab-badge.svg\" alt=\"Open In Colab\"/></a>"
      ]
    },
    {
      "cell_type": "code",
      "execution_count": 1,
      "metadata": {
        "id": "bri5Jyn_3ezz"
      },
      "outputs": [],
      "source": [
        "from nltk.stem import PorterStemmer\n",
        "stemmer=PorterStemmer()"
      ]
    },
    {
      "cell_type": "code",
      "source": [
        "words=['connect','connected','meeting','accordingly','husband','wife','she','he']\n",
        "for w in words:\n",
        "    print(w,\":\",stemmer.stem(w))"
      ],
      "metadata": {
        "colab": {
          "base_uri": "https://localhost:8080/"
        },
        "id": "jgGs0Eiv4Q2K",
        "outputId": "52f4cf65-27e7-40aa-c3ac-7ce28cf36b6b"
      },
      "execution_count": 5,
      "outputs": [
        {
          "output_type": "stream",
          "name": "stdout",
          "text": [
            "connect : connect\n",
            "connected : connect\n",
            "meeting : meet\n",
            "accordingly : accordingli\n",
            "husband : husband\n",
            "wife : wife\n",
            "she : she\n",
            "he : he\n"
          ]
        }
      ]
    },
    {
      "cell_type": "code",
      "source": [
        "words=['सुन्दरता','संचार','महिलाएं']\n",
        "for w in words:\n",
        "  print(w,\":\",stemmer.stem(w))"
      ],
      "metadata": {
        "colab": {
          "base_uri": "https://localhost:8080/"
        },
        "id": "wawf8cJL46Tm",
        "outputId": "ddf0ca98-caab-4315-8bee-7e3f963a2624"
      },
      "execution_count": 6,
      "outputs": [
        {
          "output_type": "stream",
          "name": "stdout",
          "text": [
            "सुन्दरता : सुन्दरता\n",
            "संचार : संचार\n",
            "महिलाएं : महिलाएं\n"
          ]
        }
      ]
    },
    {
      "cell_type": "code",
      "source": [
        "import spacy\n",
        "nlp=spacy.load('en_core_web_sm')\n",
        "doc=nlp('I talked for 3 hours although talking was not his thing')\n",
        "for token in doc:\n",
        "  print(token.text,\":\",token.lemma_)"
      ],
      "metadata": {
        "colab": {
          "base_uri": "https://localhost:8080/"
        },
        "id": "T4kDlDEx54pc",
        "outputId": "4e566978-ea10-4dfc-cc4d-a5376e0506ef"
      },
      "execution_count": 7,
      "outputs": [
        {
          "output_type": "stream",
          "name": "stdout",
          "text": [
            "I : I\n",
            "talked : talk\n",
            "for : for\n",
            "3 : 3\n",
            "hours : hour\n",
            "although : although\n",
            "talking : talk\n",
            "was : be\n",
            "not : not\n",
            "his : his\n",
            "thing : thing\n"
          ]
        }
      ]
    },
    {
      "cell_type": "code",
      "source": [
        "words=['process','processor','processing']\n",
        "# for w in words:\n",
        "#   print(w,\":\",stemmer.stem(w))\n",
        "for w in words:\n",
        "  doc=nlp(w)\n",
        "  for token in doc:\n",
        "    print(token.text,\":\",token.lemma_)"
      ],
      "metadata": {
        "colab": {
          "base_uri": "https://localhost:8080/"
        },
        "id": "36zaJ8366z4s",
        "outputId": "e8cca906-c216-4631-d365-a7560b0f52b9"
      },
      "execution_count": 12,
      "outputs": [
        {
          "output_type": "stream",
          "name": "stdout",
          "text": [
            "process : process\n",
            "processor : processor\n",
            "processing : process\n"
          ]
        }
      ]
    },
    {
      "cell_type": "code",
      "source": [
        "nlp.pipe_names"
      ],
      "metadata": {
        "colab": {
          "base_uri": "https://localhost:8080/"
        },
        "id": "NBko5bFs7eCk",
        "outputId": "0a06c56b-78b0-454f-eb4a-4be1d52c62c3"
      },
      "execution_count": 13,
      "outputs": [
        {
          "output_type": "execute_result",
          "data": {
            "text/plain": [
              "['tok2vec', 'tagger', 'parser', 'attribute_ruler', 'lemmatizer', 'ner']"
            ]
          },
          "metadata": {},
          "execution_count": 13
        }
      ]
    },
    {
      "cell_type": "code",
      "source": [
        "# Get the attribute ruler component\n",
        "ar = nlp.get_pipe('attribute_ruler')\n",
        "\n",
        "# Add patterns to change the lemma of specific words\n",
        "ar.add([\n",
        "    [{\"TEXT\": \"Bro\"}],        # Match \"Bro\"\n",
        "    [{\"TEXT\": \"Braod\"}],      # Match \"Braod\"\n",
        "    [{\"LEMMA\": \"Brother\"}]    # Match the lemma of \"Brother\"\n",
        "], {\"LEMMA\": \"Brother\"})     # Set the lemma to \"Brother\" for these words\n",
        "\n",
        "# Process a sample sentence\n",
        "doc = nlp(\"Bro, you wanna go? Braod, don't say no! I am exhausted\")\n",
        "\n",
        "# Iterate through tokens and print their text and lemma\n",
        "for token in doc:\n",
        "    print(token.text, \":\", token.lemma_)\n"
      ],
      "metadata": {
        "colab": {
          "base_uri": "https://localhost:8080/"
        },
        "id": "eTCdm9m29WXy",
        "outputId": "c827b9a4-e5bd-4671-ca5b-a5ce059b9ead"
      },
      "execution_count": 16,
      "outputs": [
        {
          "output_type": "stream",
          "name": "stdout",
          "text": [
            "Bro : Brother\n",
            ", : ,\n",
            "you : you\n",
            "wanna : wanna\n",
            "go : go\n",
            "? : ?\n",
            "Braod : Brother\n",
            ", : ,\n",
            "do : do\n",
            "n't : not\n",
            "say : say\n",
            "no : no\n",
            "! : !\n",
            "I : I\n",
            "am : be\n",
            "exhausted : exhaust\n"
          ]
        }
      ]
    }
  ]
}